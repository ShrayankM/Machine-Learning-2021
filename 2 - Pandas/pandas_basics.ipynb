{
  "nbformat": 4,
  "nbformat_minor": 0,
  "metadata": {
    "colab": {
      "name": "pandas_basics.ipynb",
      "provenance": []
    },
    "kernelspec": {
      "name": "python3",
      "display_name": "Python 3"
    },
    "language_info": {
      "name": "python"
    }
  },
  "cells": [
    {
      "cell_type": "code",
      "metadata": {
        "id": "DDA5UDi31LT4"
      },
      "source": [
        "import numpy as np\n",
        "import pandas as pd"
      ],
      "execution_count": 87,
      "outputs": []
    },
    {
      "cell_type": "code",
      "metadata": {
        "id": "EsjtZhNa1QLw"
      },
      "source": [
        "df = pd.read_csv('tips.csv')"
      ],
      "execution_count": 88,
      "outputs": []
    },
    {
      "cell_type": "code",
      "metadata": {
        "colab": {
          "base_uri": "https://localhost:8080/",
          "height": 322
        },
        "id": "cDxECsPF1i9r",
        "outputId": "def8f00e-7b5c-4b8e-a878-02eb85cf97b8"
      },
      "source": [
        "df.head(5)"
      ],
      "execution_count": 89,
      "outputs": [
        {
          "output_type": "execute_result",
          "data": {
            "text/html": [
              "<div>\n",
              "<style scoped>\n",
              "    .dataframe tbody tr th:only-of-type {\n",
              "        vertical-align: middle;\n",
              "    }\n",
              "\n",
              "    .dataframe tbody tr th {\n",
              "        vertical-align: top;\n",
              "    }\n",
              "\n",
              "    .dataframe thead th {\n",
              "        text-align: right;\n",
              "    }\n",
              "</style>\n",
              "<table border=\"1\" class=\"dataframe\">\n",
              "  <thead>\n",
              "    <tr style=\"text-align: right;\">\n",
              "      <th></th>\n",
              "      <th>total_bill</th>\n",
              "      <th>tip</th>\n",
              "      <th>sex</th>\n",
              "      <th>smoker</th>\n",
              "      <th>day</th>\n",
              "      <th>time</th>\n",
              "      <th>size</th>\n",
              "      <th>price_per_person</th>\n",
              "      <th>Payer Name</th>\n",
              "      <th>CC Number</th>\n",
              "      <th>Payment ID</th>\n",
              "    </tr>\n",
              "  </thead>\n",
              "  <tbody>\n",
              "    <tr>\n",
              "      <th>0</th>\n",
              "      <td>16.99</td>\n",
              "      <td>1.01</td>\n",
              "      <td>Female</td>\n",
              "      <td>No</td>\n",
              "      <td>Sun</td>\n",
              "      <td>Dinner</td>\n",
              "      <td>2</td>\n",
              "      <td>8.49</td>\n",
              "      <td>Christy Cunningham</td>\n",
              "      <td>3560325168603410</td>\n",
              "      <td>Sun2959</td>\n",
              "    </tr>\n",
              "    <tr>\n",
              "      <th>1</th>\n",
              "      <td>10.34</td>\n",
              "      <td>1.66</td>\n",
              "      <td>Male</td>\n",
              "      <td>No</td>\n",
              "      <td>Sun</td>\n",
              "      <td>Dinner</td>\n",
              "      <td>3</td>\n",
              "      <td>3.45</td>\n",
              "      <td>Douglas Tucker</td>\n",
              "      <td>4478071379779230</td>\n",
              "      <td>Sun4608</td>\n",
              "    </tr>\n",
              "    <tr>\n",
              "      <th>2</th>\n",
              "      <td>21.01</td>\n",
              "      <td>3.50</td>\n",
              "      <td>Male</td>\n",
              "      <td>No</td>\n",
              "      <td>Sun</td>\n",
              "      <td>Dinner</td>\n",
              "      <td>3</td>\n",
              "      <td>7.00</td>\n",
              "      <td>Travis Walters</td>\n",
              "      <td>6011812112971322</td>\n",
              "      <td>Sun4458</td>\n",
              "    </tr>\n",
              "    <tr>\n",
              "      <th>3</th>\n",
              "      <td>23.68</td>\n",
              "      <td>3.31</td>\n",
              "      <td>Male</td>\n",
              "      <td>No</td>\n",
              "      <td>Sun</td>\n",
              "      <td>Dinner</td>\n",
              "      <td>2</td>\n",
              "      <td>11.84</td>\n",
              "      <td>Nathaniel Harris</td>\n",
              "      <td>4676137647685994</td>\n",
              "      <td>Sun5260</td>\n",
              "    </tr>\n",
              "    <tr>\n",
              "      <th>4</th>\n",
              "      <td>24.59</td>\n",
              "      <td>3.61</td>\n",
              "      <td>Female</td>\n",
              "      <td>No</td>\n",
              "      <td>Sun</td>\n",
              "      <td>Dinner</td>\n",
              "      <td>4</td>\n",
              "      <td>6.15</td>\n",
              "      <td>Tonya Carter</td>\n",
              "      <td>4832732618637221</td>\n",
              "      <td>Sun2251</td>\n",
              "    </tr>\n",
              "  </tbody>\n",
              "</table>\n",
              "</div>"
            ],
            "text/plain": [
              "   total_bill   tip     sex  ...          Payer Name         CC Number Payment ID\n",
              "0       16.99  1.01  Female  ...  Christy Cunningham  3560325168603410    Sun2959\n",
              "1       10.34  1.66    Male  ...      Douglas Tucker  4478071379779230    Sun4608\n",
              "2       21.01  3.50    Male  ...      Travis Walters  6011812112971322    Sun4458\n",
              "3       23.68  3.31    Male  ...    Nathaniel Harris  4676137647685994    Sun5260\n",
              "4       24.59  3.61  Female  ...        Tonya Carter  4832732618637221    Sun2251\n",
              "\n",
              "[5 rows x 11 columns]"
            ]
          },
          "metadata": {
            "tags": []
          },
          "execution_count": 89
        }
      ]
    },
    {
      "cell_type": "markdown",
      "metadata": {
        "id": "_p1FbAYG0c7h"
      },
      "source": [
        "# Conditional Filtering"
      ]
    },
    {
      "cell_type": "code",
      "metadata": {
        "id": "s_LwPIq20f3a"
      },
      "source": [
        "bill_bool = df['total_bill'] > 40\n",
        "sex_bool = df['sex'] == 'Male'\n",
        "\n",
        "#AND & -- for both conditions to be true\n",
        "#OR  | -- for one condition to be true\n",
        "\n",
        "#df[(df['total_bill'] > 40) & (df['sex'] == 'Male')]"
      ],
      "execution_count": 90,
      "outputs": []
    },
    {
      "cell_type": "code",
      "metadata": {
        "colab": {
          "base_uri": "https://localhost:8080/"
        },
        "id": "OubxvweW1xG0",
        "outputId": "42635328-cd2f-47a5-d9f4-d9509fe073f9"
      },
      "source": [
        "print(len(bill_bool))\n",
        "print(len(sex_bool))"
      ],
      "execution_count": 91,
      "outputs": [
        {
          "output_type": "stream",
          "text": [
            "244\n",
            "244\n"
          ],
          "name": "stdout"
        }
      ]
    },
    {
      "cell_type": "code",
      "metadata": {
        "id": "oMvSd6Ft2z4o"
      },
      "source": [
        "bool_final = (bill_bool & sex_bool)"
      ],
      "execution_count": 92,
      "outputs": []
    },
    {
      "cell_type": "code",
      "metadata": {
        "colab": {
          "base_uri": "https://localhost:8080/",
          "height": 448
        },
        "id": "aNHXCxP725Xx",
        "outputId": "1be6ba88-1ef3-4568-a275-9ccba5d50cc8"
      },
      "source": [
        "df[bool_final]"
      ],
      "execution_count": 93,
      "outputs": [
        {
          "output_type": "execute_result",
          "data": {
            "text/html": [
              "<div>\n",
              "<style scoped>\n",
              "    .dataframe tbody tr th:only-of-type {\n",
              "        vertical-align: middle;\n",
              "    }\n",
              "\n",
              "    .dataframe tbody tr th {\n",
              "        vertical-align: top;\n",
              "    }\n",
              "\n",
              "    .dataframe thead th {\n",
              "        text-align: right;\n",
              "    }\n",
              "</style>\n",
              "<table border=\"1\" class=\"dataframe\">\n",
              "  <thead>\n",
              "    <tr style=\"text-align: right;\">\n",
              "      <th></th>\n",
              "      <th>total_bill</th>\n",
              "      <th>tip</th>\n",
              "      <th>sex</th>\n",
              "      <th>smoker</th>\n",
              "      <th>day</th>\n",
              "      <th>time</th>\n",
              "      <th>size</th>\n",
              "      <th>price_per_person</th>\n",
              "      <th>Payer Name</th>\n",
              "      <th>CC Number</th>\n",
              "      <th>Payment ID</th>\n",
              "    </tr>\n",
              "  </thead>\n",
              "  <tbody>\n",
              "    <tr>\n",
              "      <th>59</th>\n",
              "      <td>48.27</td>\n",
              "      <td>6.73</td>\n",
              "      <td>Male</td>\n",
              "      <td>No</td>\n",
              "      <td>Sat</td>\n",
              "      <td>Dinner</td>\n",
              "      <td>4</td>\n",
              "      <td>12.07</td>\n",
              "      <td>Brian Ortiz</td>\n",
              "      <td>6596453823950595</td>\n",
              "      <td>Sat8139</td>\n",
              "    </tr>\n",
              "    <tr>\n",
              "      <th>95</th>\n",
              "      <td>40.17</td>\n",
              "      <td>4.73</td>\n",
              "      <td>Male</td>\n",
              "      <td>Yes</td>\n",
              "      <td>Fri</td>\n",
              "      <td>Dinner</td>\n",
              "      <td>4</td>\n",
              "      <td>10.04</td>\n",
              "      <td>Aaron Bentley</td>\n",
              "      <td>180026611638690</td>\n",
              "      <td>Fri9628</td>\n",
              "    </tr>\n",
              "    <tr>\n",
              "      <th>142</th>\n",
              "      <td>41.19</td>\n",
              "      <td>5.00</td>\n",
              "      <td>Male</td>\n",
              "      <td>No</td>\n",
              "      <td>Thur</td>\n",
              "      <td>Lunch</td>\n",
              "      <td>5</td>\n",
              "      <td>8.24</td>\n",
              "      <td>Eric Andrews</td>\n",
              "      <td>4356531761046453</td>\n",
              "      <td>Thur3621</td>\n",
              "    </tr>\n",
              "    <tr>\n",
              "      <th>156</th>\n",
              "      <td>48.17</td>\n",
              "      <td>5.00</td>\n",
              "      <td>Male</td>\n",
              "      <td>No</td>\n",
              "      <td>Sun</td>\n",
              "      <td>Dinner</td>\n",
              "      <td>6</td>\n",
              "      <td>8.03</td>\n",
              "      <td>Ryan Gonzales</td>\n",
              "      <td>3523151482063321</td>\n",
              "      <td>Sun7518</td>\n",
              "    </tr>\n",
              "    <tr>\n",
              "      <th>170</th>\n",
              "      <td>50.81</td>\n",
              "      <td>10.00</td>\n",
              "      <td>Male</td>\n",
              "      <td>Yes</td>\n",
              "      <td>Sat</td>\n",
              "      <td>Dinner</td>\n",
              "      <td>3</td>\n",
              "      <td>16.94</td>\n",
              "      <td>Gregory Clark</td>\n",
              "      <td>5473850968388236</td>\n",
              "      <td>Sat1954</td>\n",
              "    </tr>\n",
              "    <tr>\n",
              "      <th>182</th>\n",
              "      <td>45.35</td>\n",
              "      <td>3.50</td>\n",
              "      <td>Male</td>\n",
              "      <td>Yes</td>\n",
              "      <td>Sun</td>\n",
              "      <td>Dinner</td>\n",
              "      <td>3</td>\n",
              "      <td>15.12</td>\n",
              "      <td>Jose Parsons</td>\n",
              "      <td>4112207559459910</td>\n",
              "      <td>Sun2337</td>\n",
              "    </tr>\n",
              "    <tr>\n",
              "      <th>184</th>\n",
              "      <td>40.55</td>\n",
              "      <td>3.00</td>\n",
              "      <td>Male</td>\n",
              "      <td>Yes</td>\n",
              "      <td>Sun</td>\n",
              "      <td>Dinner</td>\n",
              "      <td>2</td>\n",
              "      <td>20.27</td>\n",
              "      <td>Stephen Cox</td>\n",
              "      <td>3547798222044029</td>\n",
              "      <td>Sun5140</td>\n",
              "    </tr>\n",
              "    <tr>\n",
              "      <th>212</th>\n",
              "      <td>48.33</td>\n",
              "      <td>9.00</td>\n",
              "      <td>Male</td>\n",
              "      <td>No</td>\n",
              "      <td>Sat</td>\n",
              "      <td>Dinner</td>\n",
              "      <td>4</td>\n",
              "      <td>12.08</td>\n",
              "      <td>Alex Williamson</td>\n",
              "      <td>676218815212</td>\n",
              "      <td>Sat4590</td>\n",
              "    </tr>\n",
              "  </tbody>\n",
              "</table>\n",
              "</div>"
            ],
            "text/plain": [
              "     total_bill    tip   sex  ...       Payer Name         CC Number Payment ID\n",
              "59        48.27   6.73  Male  ...      Brian Ortiz  6596453823950595    Sat8139\n",
              "95        40.17   4.73  Male  ...    Aaron Bentley   180026611638690    Fri9628\n",
              "142       41.19   5.00  Male  ...     Eric Andrews  4356531761046453   Thur3621\n",
              "156       48.17   5.00  Male  ...    Ryan Gonzales  3523151482063321    Sun7518\n",
              "170       50.81  10.00  Male  ...    Gregory Clark  5473850968388236    Sat1954\n",
              "182       45.35   3.50  Male  ...     Jose Parsons  4112207559459910    Sun2337\n",
              "184       40.55   3.00  Male  ...      Stephen Cox  3547798222044029    Sun5140\n",
              "212       48.33   9.00  Male  ...  Alex Williamson      676218815212    Sat4590\n",
              "\n",
              "[8 rows x 11 columns]"
            ]
          },
          "metadata": {
            "tags": []
          },
          "execution_count": 93
        }
      ]
    },
    {
      "cell_type": "code",
      "metadata": {
        "colab": {
          "base_uri": "https://localhost:8080/",
          "height": 602
        },
        "id": "Qd77v4X74Orj",
        "outputId": "6e2c2a69-b854-4321-f0c4-e142b0963a95"
      },
      "source": [
        "options = ['Sat', 'Sun']\n",
        "df[df['day'].isin(options)]"
      ],
      "execution_count": 94,
      "outputs": [
        {
          "output_type": "execute_result",
          "data": {
            "text/html": [
              "<div>\n",
              "<style scoped>\n",
              "    .dataframe tbody tr th:only-of-type {\n",
              "        vertical-align: middle;\n",
              "    }\n",
              "\n",
              "    .dataframe tbody tr th {\n",
              "        vertical-align: top;\n",
              "    }\n",
              "\n",
              "    .dataframe thead th {\n",
              "        text-align: right;\n",
              "    }\n",
              "</style>\n",
              "<table border=\"1\" class=\"dataframe\">\n",
              "  <thead>\n",
              "    <tr style=\"text-align: right;\">\n",
              "      <th></th>\n",
              "      <th>total_bill</th>\n",
              "      <th>tip</th>\n",
              "      <th>sex</th>\n",
              "      <th>smoker</th>\n",
              "      <th>day</th>\n",
              "      <th>time</th>\n",
              "      <th>size</th>\n",
              "      <th>price_per_person</th>\n",
              "      <th>Payer Name</th>\n",
              "      <th>CC Number</th>\n",
              "      <th>Payment ID</th>\n",
              "    </tr>\n",
              "  </thead>\n",
              "  <tbody>\n",
              "    <tr>\n",
              "      <th>0</th>\n",
              "      <td>16.99</td>\n",
              "      <td>1.01</td>\n",
              "      <td>Female</td>\n",
              "      <td>No</td>\n",
              "      <td>Sun</td>\n",
              "      <td>Dinner</td>\n",
              "      <td>2</td>\n",
              "      <td>8.49</td>\n",
              "      <td>Christy Cunningham</td>\n",
              "      <td>3560325168603410</td>\n",
              "      <td>Sun2959</td>\n",
              "    </tr>\n",
              "    <tr>\n",
              "      <th>1</th>\n",
              "      <td>10.34</td>\n",
              "      <td>1.66</td>\n",
              "      <td>Male</td>\n",
              "      <td>No</td>\n",
              "      <td>Sun</td>\n",
              "      <td>Dinner</td>\n",
              "      <td>3</td>\n",
              "      <td>3.45</td>\n",
              "      <td>Douglas Tucker</td>\n",
              "      <td>4478071379779230</td>\n",
              "      <td>Sun4608</td>\n",
              "    </tr>\n",
              "    <tr>\n",
              "      <th>2</th>\n",
              "      <td>21.01</td>\n",
              "      <td>3.50</td>\n",
              "      <td>Male</td>\n",
              "      <td>No</td>\n",
              "      <td>Sun</td>\n",
              "      <td>Dinner</td>\n",
              "      <td>3</td>\n",
              "      <td>7.00</td>\n",
              "      <td>Travis Walters</td>\n",
              "      <td>6011812112971322</td>\n",
              "      <td>Sun4458</td>\n",
              "    </tr>\n",
              "    <tr>\n",
              "      <th>3</th>\n",
              "      <td>23.68</td>\n",
              "      <td>3.31</td>\n",
              "      <td>Male</td>\n",
              "      <td>No</td>\n",
              "      <td>Sun</td>\n",
              "      <td>Dinner</td>\n",
              "      <td>2</td>\n",
              "      <td>11.84</td>\n",
              "      <td>Nathaniel Harris</td>\n",
              "      <td>4676137647685994</td>\n",
              "      <td>Sun5260</td>\n",
              "    </tr>\n",
              "    <tr>\n",
              "      <th>4</th>\n",
              "      <td>24.59</td>\n",
              "      <td>3.61</td>\n",
              "      <td>Female</td>\n",
              "      <td>No</td>\n",
              "      <td>Sun</td>\n",
              "      <td>Dinner</td>\n",
              "      <td>4</td>\n",
              "      <td>6.15</td>\n",
              "      <td>Tonya Carter</td>\n",
              "      <td>4832732618637221</td>\n",
              "      <td>Sun2251</td>\n",
              "    </tr>\n",
              "    <tr>\n",
              "      <th>...</th>\n",
              "      <td>...</td>\n",
              "      <td>...</td>\n",
              "      <td>...</td>\n",
              "      <td>...</td>\n",
              "      <td>...</td>\n",
              "      <td>...</td>\n",
              "      <td>...</td>\n",
              "      <td>...</td>\n",
              "      <td>...</td>\n",
              "      <td>...</td>\n",
              "      <td>...</td>\n",
              "    </tr>\n",
              "    <tr>\n",
              "      <th>238</th>\n",
              "      <td>35.83</td>\n",
              "      <td>4.67</td>\n",
              "      <td>Female</td>\n",
              "      <td>No</td>\n",
              "      <td>Sat</td>\n",
              "      <td>Dinner</td>\n",
              "      <td>3</td>\n",
              "      <td>11.94</td>\n",
              "      <td>Kimberly Crane</td>\n",
              "      <td>676184013727</td>\n",
              "      <td>Sat9777</td>\n",
              "    </tr>\n",
              "    <tr>\n",
              "      <th>239</th>\n",
              "      <td>29.03</td>\n",
              "      <td>5.92</td>\n",
              "      <td>Male</td>\n",
              "      <td>No</td>\n",
              "      <td>Sat</td>\n",
              "      <td>Dinner</td>\n",
              "      <td>3</td>\n",
              "      <td>9.68</td>\n",
              "      <td>Michael Avila</td>\n",
              "      <td>5296068606052842</td>\n",
              "      <td>Sat2657</td>\n",
              "    </tr>\n",
              "    <tr>\n",
              "      <th>240</th>\n",
              "      <td>27.18</td>\n",
              "      <td>2.00</td>\n",
              "      <td>Female</td>\n",
              "      <td>Yes</td>\n",
              "      <td>Sat</td>\n",
              "      <td>Dinner</td>\n",
              "      <td>2</td>\n",
              "      <td>13.59</td>\n",
              "      <td>Monica Sanders</td>\n",
              "      <td>3506806155565404</td>\n",
              "      <td>Sat1766</td>\n",
              "    </tr>\n",
              "    <tr>\n",
              "      <th>241</th>\n",
              "      <td>22.67</td>\n",
              "      <td>2.00</td>\n",
              "      <td>Male</td>\n",
              "      <td>Yes</td>\n",
              "      <td>Sat</td>\n",
              "      <td>Dinner</td>\n",
              "      <td>2</td>\n",
              "      <td>11.34</td>\n",
              "      <td>Keith Wong</td>\n",
              "      <td>6011891618747196</td>\n",
              "      <td>Sat3880</td>\n",
              "    </tr>\n",
              "    <tr>\n",
              "      <th>242</th>\n",
              "      <td>17.82</td>\n",
              "      <td>1.75</td>\n",
              "      <td>Male</td>\n",
              "      <td>No</td>\n",
              "      <td>Sat</td>\n",
              "      <td>Dinner</td>\n",
              "      <td>2</td>\n",
              "      <td>8.91</td>\n",
              "      <td>Dennis Dixon</td>\n",
              "      <td>4375220550950</td>\n",
              "      <td>Sat17</td>\n",
              "    </tr>\n",
              "  </tbody>\n",
              "</table>\n",
              "<p>163 rows × 11 columns</p>\n",
              "</div>"
            ],
            "text/plain": [
              "     total_bill   tip     sex  ...          Payer Name         CC Number Payment ID\n",
              "0         16.99  1.01  Female  ...  Christy Cunningham  3560325168603410    Sun2959\n",
              "1         10.34  1.66    Male  ...      Douglas Tucker  4478071379779230    Sun4608\n",
              "2         21.01  3.50    Male  ...      Travis Walters  6011812112971322    Sun4458\n",
              "3         23.68  3.31    Male  ...    Nathaniel Harris  4676137647685994    Sun5260\n",
              "4         24.59  3.61  Female  ...        Tonya Carter  4832732618637221    Sun2251\n",
              "..          ...   ...     ...  ...                 ...               ...        ...\n",
              "238       35.83  4.67  Female  ...      Kimberly Crane      676184013727    Sat9777\n",
              "239       29.03  5.92    Male  ...       Michael Avila  5296068606052842    Sat2657\n",
              "240       27.18  2.00  Female  ...      Monica Sanders  3506806155565404    Sat1766\n",
              "241       22.67  2.00    Male  ...          Keith Wong  6011891618747196    Sat3880\n",
              "242       17.82  1.75    Male  ...        Dennis Dixon     4375220550950      Sat17\n",
              "\n",
              "[163 rows x 11 columns]"
            ]
          },
          "metadata": {
            "tags": []
          },
          "execution_count": 94
        }
      ]
    },
    {
      "cell_type": "markdown",
      "metadata": {
        "id": "DsgcnFrA9Lfv"
      },
      "source": [
        "# Apply Methods\n",
        ".apply() method"
      ]
    },
    {
      "cell_type": "code",
      "metadata": {
        "id": "Fqf_fOYp4_tP"
      },
      "source": [
        "def last_four(n):\n",
        "    return str(n)[-4:]"
      ],
      "execution_count": 95,
      "outputs": []
    },
    {
      "cell_type": "code",
      "metadata": {
        "colab": {
          "base_uri": "https://localhost:8080/",
          "height": 322
        },
        "id": "zls8thxH93wi",
        "outputId": "dd1307fd-35ca-4ba0-9958-970484ab11b4"
      },
      "source": [
        "df['last_four'] = df['CC Number'].apply(last_four)\n",
        "df.head(5)"
      ],
      "execution_count": 96,
      "outputs": [
        {
          "output_type": "execute_result",
          "data": {
            "text/html": [
              "<div>\n",
              "<style scoped>\n",
              "    .dataframe tbody tr th:only-of-type {\n",
              "        vertical-align: middle;\n",
              "    }\n",
              "\n",
              "    .dataframe tbody tr th {\n",
              "        vertical-align: top;\n",
              "    }\n",
              "\n",
              "    .dataframe thead th {\n",
              "        text-align: right;\n",
              "    }\n",
              "</style>\n",
              "<table border=\"1\" class=\"dataframe\">\n",
              "  <thead>\n",
              "    <tr style=\"text-align: right;\">\n",
              "      <th></th>\n",
              "      <th>total_bill</th>\n",
              "      <th>tip</th>\n",
              "      <th>sex</th>\n",
              "      <th>smoker</th>\n",
              "      <th>day</th>\n",
              "      <th>time</th>\n",
              "      <th>size</th>\n",
              "      <th>price_per_person</th>\n",
              "      <th>Payer Name</th>\n",
              "      <th>CC Number</th>\n",
              "      <th>Payment ID</th>\n",
              "      <th>last_four</th>\n",
              "    </tr>\n",
              "  </thead>\n",
              "  <tbody>\n",
              "    <tr>\n",
              "      <th>0</th>\n",
              "      <td>16.99</td>\n",
              "      <td>1.01</td>\n",
              "      <td>Female</td>\n",
              "      <td>No</td>\n",
              "      <td>Sun</td>\n",
              "      <td>Dinner</td>\n",
              "      <td>2</td>\n",
              "      <td>8.49</td>\n",
              "      <td>Christy Cunningham</td>\n",
              "      <td>3560325168603410</td>\n",
              "      <td>Sun2959</td>\n",
              "      <td>3410</td>\n",
              "    </tr>\n",
              "    <tr>\n",
              "      <th>1</th>\n",
              "      <td>10.34</td>\n",
              "      <td>1.66</td>\n",
              "      <td>Male</td>\n",
              "      <td>No</td>\n",
              "      <td>Sun</td>\n",
              "      <td>Dinner</td>\n",
              "      <td>3</td>\n",
              "      <td>3.45</td>\n",
              "      <td>Douglas Tucker</td>\n",
              "      <td>4478071379779230</td>\n",
              "      <td>Sun4608</td>\n",
              "      <td>9230</td>\n",
              "    </tr>\n",
              "    <tr>\n",
              "      <th>2</th>\n",
              "      <td>21.01</td>\n",
              "      <td>3.50</td>\n",
              "      <td>Male</td>\n",
              "      <td>No</td>\n",
              "      <td>Sun</td>\n",
              "      <td>Dinner</td>\n",
              "      <td>3</td>\n",
              "      <td>7.00</td>\n",
              "      <td>Travis Walters</td>\n",
              "      <td>6011812112971322</td>\n",
              "      <td>Sun4458</td>\n",
              "      <td>1322</td>\n",
              "    </tr>\n",
              "    <tr>\n",
              "      <th>3</th>\n",
              "      <td>23.68</td>\n",
              "      <td>3.31</td>\n",
              "      <td>Male</td>\n",
              "      <td>No</td>\n",
              "      <td>Sun</td>\n",
              "      <td>Dinner</td>\n",
              "      <td>2</td>\n",
              "      <td>11.84</td>\n",
              "      <td>Nathaniel Harris</td>\n",
              "      <td>4676137647685994</td>\n",
              "      <td>Sun5260</td>\n",
              "      <td>5994</td>\n",
              "    </tr>\n",
              "    <tr>\n",
              "      <th>4</th>\n",
              "      <td>24.59</td>\n",
              "      <td>3.61</td>\n",
              "      <td>Female</td>\n",
              "      <td>No</td>\n",
              "      <td>Sun</td>\n",
              "      <td>Dinner</td>\n",
              "      <td>4</td>\n",
              "      <td>6.15</td>\n",
              "      <td>Tonya Carter</td>\n",
              "      <td>4832732618637221</td>\n",
              "      <td>Sun2251</td>\n",
              "      <td>7221</td>\n",
              "    </tr>\n",
              "  </tbody>\n",
              "</table>\n",
              "</div>"
            ],
            "text/plain": [
              "   total_bill   tip     sex  ...         CC Number Payment ID last_four\n",
              "0       16.99  1.01  Female  ...  3560325168603410    Sun2959      3410\n",
              "1       10.34  1.66    Male  ...  4478071379779230    Sun4608      9230\n",
              "2       21.01  3.50    Male  ...  6011812112971322    Sun4458      1322\n",
              "3       23.68  3.31    Male  ...  4676137647685994    Sun5260      5994\n",
              "4       24.59  3.61  Female  ...  4832732618637221    Sun2251      7221\n",
              "\n",
              "[5 rows x 12 columns]"
            ]
          },
          "metadata": {
            "tags": []
          },
          "execution_count": 96
        }
      ]
    },
    {
      "cell_type": "code",
      "metadata": {
        "id": "vGWfaYBP-2wi"
      },
      "source": [
        "def yelp(bill):\n",
        "    if bill <= 10: \n",
        "        return '$'\n",
        "    elif bill > 10 and bill < 30: \n",
        "        return '$$'\n",
        "    else:\n",
        "        return '$$$'"
      ],
      "execution_count": 97,
      "outputs": []
    },
    {
      "cell_type": "code",
      "metadata": {
        "id": "AedABete_8l3"
      },
      "source": [
        "df['yelp'] = df['total_bill'].apply(yelp)"
      ],
      "execution_count": 98,
      "outputs": []
    },
    {
      "cell_type": "code",
      "metadata": {
        "colab": {
          "base_uri": "https://localhost:8080/",
          "height": 322
        },
        "id": "nPkPBNe4ABHK",
        "outputId": "40ece692-308d-4aeb-a7df-fbebf05fad66"
      },
      "source": [
        "df.head(5)"
      ],
      "execution_count": 99,
      "outputs": [
        {
          "output_type": "execute_result",
          "data": {
            "text/html": [
              "<div>\n",
              "<style scoped>\n",
              "    .dataframe tbody tr th:only-of-type {\n",
              "        vertical-align: middle;\n",
              "    }\n",
              "\n",
              "    .dataframe tbody tr th {\n",
              "        vertical-align: top;\n",
              "    }\n",
              "\n",
              "    .dataframe thead th {\n",
              "        text-align: right;\n",
              "    }\n",
              "</style>\n",
              "<table border=\"1\" class=\"dataframe\">\n",
              "  <thead>\n",
              "    <tr style=\"text-align: right;\">\n",
              "      <th></th>\n",
              "      <th>total_bill</th>\n",
              "      <th>tip</th>\n",
              "      <th>sex</th>\n",
              "      <th>smoker</th>\n",
              "      <th>day</th>\n",
              "      <th>time</th>\n",
              "      <th>size</th>\n",
              "      <th>price_per_person</th>\n",
              "      <th>Payer Name</th>\n",
              "      <th>CC Number</th>\n",
              "      <th>Payment ID</th>\n",
              "      <th>last_four</th>\n",
              "      <th>yelp</th>\n",
              "    </tr>\n",
              "  </thead>\n",
              "  <tbody>\n",
              "    <tr>\n",
              "      <th>0</th>\n",
              "      <td>16.99</td>\n",
              "      <td>1.01</td>\n",
              "      <td>Female</td>\n",
              "      <td>No</td>\n",
              "      <td>Sun</td>\n",
              "      <td>Dinner</td>\n",
              "      <td>2</td>\n",
              "      <td>8.49</td>\n",
              "      <td>Christy Cunningham</td>\n",
              "      <td>3560325168603410</td>\n",
              "      <td>Sun2959</td>\n",
              "      <td>3410</td>\n",
              "      <td>$$</td>\n",
              "    </tr>\n",
              "    <tr>\n",
              "      <th>1</th>\n",
              "      <td>10.34</td>\n",
              "      <td>1.66</td>\n",
              "      <td>Male</td>\n",
              "      <td>No</td>\n",
              "      <td>Sun</td>\n",
              "      <td>Dinner</td>\n",
              "      <td>3</td>\n",
              "      <td>3.45</td>\n",
              "      <td>Douglas Tucker</td>\n",
              "      <td>4478071379779230</td>\n",
              "      <td>Sun4608</td>\n",
              "      <td>9230</td>\n",
              "      <td>$$</td>\n",
              "    </tr>\n",
              "    <tr>\n",
              "      <th>2</th>\n",
              "      <td>21.01</td>\n",
              "      <td>3.50</td>\n",
              "      <td>Male</td>\n",
              "      <td>No</td>\n",
              "      <td>Sun</td>\n",
              "      <td>Dinner</td>\n",
              "      <td>3</td>\n",
              "      <td>7.00</td>\n",
              "      <td>Travis Walters</td>\n",
              "      <td>6011812112971322</td>\n",
              "      <td>Sun4458</td>\n",
              "      <td>1322</td>\n",
              "      <td>$$</td>\n",
              "    </tr>\n",
              "    <tr>\n",
              "      <th>3</th>\n",
              "      <td>23.68</td>\n",
              "      <td>3.31</td>\n",
              "      <td>Male</td>\n",
              "      <td>No</td>\n",
              "      <td>Sun</td>\n",
              "      <td>Dinner</td>\n",
              "      <td>2</td>\n",
              "      <td>11.84</td>\n",
              "      <td>Nathaniel Harris</td>\n",
              "      <td>4676137647685994</td>\n",
              "      <td>Sun5260</td>\n",
              "      <td>5994</td>\n",
              "      <td>$$</td>\n",
              "    </tr>\n",
              "    <tr>\n",
              "      <th>4</th>\n",
              "      <td>24.59</td>\n",
              "      <td>3.61</td>\n",
              "      <td>Female</td>\n",
              "      <td>No</td>\n",
              "      <td>Sun</td>\n",
              "      <td>Dinner</td>\n",
              "      <td>4</td>\n",
              "      <td>6.15</td>\n",
              "      <td>Tonya Carter</td>\n",
              "      <td>4832732618637221</td>\n",
              "      <td>Sun2251</td>\n",
              "      <td>7221</td>\n",
              "      <td>$$</td>\n",
              "    </tr>\n",
              "  </tbody>\n",
              "</table>\n",
              "</div>"
            ],
            "text/plain": [
              "   total_bill   tip     sex smoker  ...         CC Number Payment ID  last_four  yelp\n",
              "0       16.99  1.01  Female     No  ...  3560325168603410    Sun2959       3410    $$\n",
              "1       10.34  1.66    Male     No  ...  4478071379779230    Sun4608       9230    $$\n",
              "2       21.01  3.50    Male     No  ...  6011812112971322    Sun4458       1322    $$\n",
              "3       23.68  3.31    Male     No  ...  4676137647685994    Sun5260       5994    $$\n",
              "4       24.59  3.61  Female     No  ...  4832732618637221    Sun2251       7221    $$\n",
              "\n",
              "[5 rows x 13 columns]"
            ]
          },
          "metadata": {
            "tags": []
          },
          "execution_count": 99
        }
      ]
    },
    {
      "cell_type": "code",
      "metadata": {
        "colab": {
          "base_uri": "https://localhost:8080/"
        },
        "id": "WFuL-vAyAKn2",
        "outputId": "f053adc7-96b4-463f-9110-0b5fad8128e1"
      },
      "source": [
        "df['total_bill'].apply(lambda x : x * 2)"
      ],
      "execution_count": 100,
      "outputs": [
        {
          "output_type": "execute_result",
          "data": {
            "text/plain": [
              "0      33.98\n",
              "1      20.68\n",
              "2      42.02\n",
              "3      47.36\n",
              "4      49.18\n",
              "       ...  \n",
              "239    58.06\n",
              "240    54.36\n",
              "241    45.34\n",
              "242    35.64\n",
              "243    37.56\n",
              "Name: total_bill, Length: 244, dtype: float64"
            ]
          },
          "metadata": {
            "tags": []
          },
          "execution_count": 100
        }
      ]
    },
    {
      "cell_type": "code",
      "metadata": {
        "id": "ULiIu-NbES7d"
      },
      "source": [
        "def quality(total_bill, tip):\n",
        "    if tip/total_bill > 0.25:\n",
        "        return 'Generous'\n",
        "    else:\n",
        "        return 'Other'"
      ],
      "execution_count": 101,
      "outputs": []
    },
    {
      "cell_type": "code",
      "metadata": {
        "colab": {
          "base_uri": "https://localhost:8080/"
        },
        "id": "BOrnw1mtFFl0",
        "outputId": "dc0c115b-6951-46b6-b903-81fe0691e93e"
      },
      "source": [
        "%%time\n",
        "df['Tip Quality'] = df[['total_bill', 'tip']].apply(lambda d : quality(d['total_bill'], d['tip']), axis = 1)"
      ],
      "execution_count": 102,
      "outputs": [
        {
          "output_type": "stream",
          "text": [
            "CPU times: user 9.6 ms, sys: 24 µs, total: 9.62 ms\n",
            "Wall time: 11.2 ms\n"
          ],
          "name": "stdout"
        }
      ]
    },
    {
      "cell_type": "code",
      "metadata": {
        "colab": {
          "base_uri": "https://localhost:8080/"
        },
        "id": "SxmTHvKmFPo8",
        "outputId": "209e4710-809d-4410-80b6-1e45dd8fa492"
      },
      "source": [
        "%%time\n",
        "df['Tip Quality'] = np.vectorize(quality)(df['total_bill'], df['tip'])"
      ],
      "execution_count": 103,
      "outputs": [
        {
          "output_type": "stream",
          "text": [
            "CPU times: user 1.79 ms, sys: 0 ns, total: 1.79 ms\n",
            "Wall time: 2.34 ms\n"
          ],
          "name": "stdout"
        }
      ]
    },
    {
      "cell_type": "code",
      "metadata": {
        "colab": {
          "base_uri": "https://localhost:8080/",
          "height": 322
        },
        "id": "ZKVLJXdzFuuc",
        "outputId": "c0f5da0d-def0-4797-8c8c-2ac813ddcb26"
      },
      "source": [
        "df.head(5)"
      ],
      "execution_count": 104,
      "outputs": [
        {
          "output_type": "execute_result",
          "data": {
            "text/html": [
              "<div>\n",
              "<style scoped>\n",
              "    .dataframe tbody tr th:only-of-type {\n",
              "        vertical-align: middle;\n",
              "    }\n",
              "\n",
              "    .dataframe tbody tr th {\n",
              "        vertical-align: top;\n",
              "    }\n",
              "\n",
              "    .dataframe thead th {\n",
              "        text-align: right;\n",
              "    }\n",
              "</style>\n",
              "<table border=\"1\" class=\"dataframe\">\n",
              "  <thead>\n",
              "    <tr style=\"text-align: right;\">\n",
              "      <th></th>\n",
              "      <th>total_bill</th>\n",
              "      <th>tip</th>\n",
              "      <th>sex</th>\n",
              "      <th>smoker</th>\n",
              "      <th>day</th>\n",
              "      <th>time</th>\n",
              "      <th>size</th>\n",
              "      <th>price_per_person</th>\n",
              "      <th>Payer Name</th>\n",
              "      <th>CC Number</th>\n",
              "      <th>Payment ID</th>\n",
              "      <th>last_four</th>\n",
              "      <th>yelp</th>\n",
              "      <th>Tip Quality</th>\n",
              "    </tr>\n",
              "  </thead>\n",
              "  <tbody>\n",
              "    <tr>\n",
              "      <th>0</th>\n",
              "      <td>16.99</td>\n",
              "      <td>1.01</td>\n",
              "      <td>Female</td>\n",
              "      <td>No</td>\n",
              "      <td>Sun</td>\n",
              "      <td>Dinner</td>\n",
              "      <td>2</td>\n",
              "      <td>8.49</td>\n",
              "      <td>Christy Cunningham</td>\n",
              "      <td>3560325168603410</td>\n",
              "      <td>Sun2959</td>\n",
              "      <td>3410</td>\n",
              "      <td>$$</td>\n",
              "      <td>Other</td>\n",
              "    </tr>\n",
              "    <tr>\n",
              "      <th>1</th>\n",
              "      <td>10.34</td>\n",
              "      <td>1.66</td>\n",
              "      <td>Male</td>\n",
              "      <td>No</td>\n",
              "      <td>Sun</td>\n",
              "      <td>Dinner</td>\n",
              "      <td>3</td>\n",
              "      <td>3.45</td>\n",
              "      <td>Douglas Tucker</td>\n",
              "      <td>4478071379779230</td>\n",
              "      <td>Sun4608</td>\n",
              "      <td>9230</td>\n",
              "      <td>$$</td>\n",
              "      <td>Other</td>\n",
              "    </tr>\n",
              "    <tr>\n",
              "      <th>2</th>\n",
              "      <td>21.01</td>\n",
              "      <td>3.50</td>\n",
              "      <td>Male</td>\n",
              "      <td>No</td>\n",
              "      <td>Sun</td>\n",
              "      <td>Dinner</td>\n",
              "      <td>3</td>\n",
              "      <td>7.00</td>\n",
              "      <td>Travis Walters</td>\n",
              "      <td>6011812112971322</td>\n",
              "      <td>Sun4458</td>\n",
              "      <td>1322</td>\n",
              "      <td>$$</td>\n",
              "      <td>Other</td>\n",
              "    </tr>\n",
              "    <tr>\n",
              "      <th>3</th>\n",
              "      <td>23.68</td>\n",
              "      <td>3.31</td>\n",
              "      <td>Male</td>\n",
              "      <td>No</td>\n",
              "      <td>Sun</td>\n",
              "      <td>Dinner</td>\n",
              "      <td>2</td>\n",
              "      <td>11.84</td>\n",
              "      <td>Nathaniel Harris</td>\n",
              "      <td>4676137647685994</td>\n",
              "      <td>Sun5260</td>\n",
              "      <td>5994</td>\n",
              "      <td>$$</td>\n",
              "      <td>Other</td>\n",
              "    </tr>\n",
              "    <tr>\n",
              "      <th>4</th>\n",
              "      <td>24.59</td>\n",
              "      <td>3.61</td>\n",
              "      <td>Female</td>\n",
              "      <td>No</td>\n",
              "      <td>Sun</td>\n",
              "      <td>Dinner</td>\n",
              "      <td>4</td>\n",
              "      <td>6.15</td>\n",
              "      <td>Tonya Carter</td>\n",
              "      <td>4832732618637221</td>\n",
              "      <td>Sun2251</td>\n",
              "      <td>7221</td>\n",
              "      <td>$$</td>\n",
              "      <td>Other</td>\n",
              "    </tr>\n",
              "  </tbody>\n",
              "</table>\n",
              "</div>"
            ],
            "text/plain": [
              "   total_bill   tip     sex smoker  ... Payment ID last_four  yelp  Tip Quality\n",
              "0       16.99  1.01  Female     No  ...    Sun2959      3410    $$        Other\n",
              "1       10.34  1.66    Male     No  ...    Sun4608      9230    $$        Other\n",
              "2       21.01  3.50    Male     No  ...    Sun4458      1322    $$        Other\n",
              "3       23.68  3.31    Male     No  ...    Sun5260      5994    $$        Other\n",
              "4       24.59  3.61  Female     No  ...    Sun2251      7221    $$        Other\n",
              "\n",
              "[5 rows x 14 columns]"
            ]
          },
          "metadata": {
            "tags": []
          },
          "execution_count": 104
        }
      ]
    },
    {
      "cell_type": "markdown",
      "metadata": {
        "id": "kXllwHr9JIyk"
      },
      "source": [
        "# Other Methods"
      ]
    },
    {
      "cell_type": "code",
      "metadata": {
        "id": "44esh1gcGXuk"
      },
      "source": [
        "df = pd.read_csv('tips.csv')"
      ],
      "execution_count": 105,
      "outputs": []
    },
    {
      "cell_type": "code",
      "metadata": {
        "colab": {
          "base_uri": "https://localhost:8080/",
          "height": 222
        },
        "id": "QKXhV3iIIKzm",
        "outputId": "feb0467f-0225-4bba-b89b-6990fd9cc0bd"
      },
      "source": [
        "df.describe().transpose()"
      ],
      "execution_count": 106,
      "outputs": [
        {
          "output_type": "execute_result",
          "data": {
            "text/html": [
              "<div>\n",
              "<style scoped>\n",
              "    .dataframe tbody tr th:only-of-type {\n",
              "        vertical-align: middle;\n",
              "    }\n",
              "\n",
              "    .dataframe tbody tr th {\n",
              "        vertical-align: top;\n",
              "    }\n",
              "\n",
              "    .dataframe thead th {\n",
              "        text-align: right;\n",
              "    }\n",
              "</style>\n",
              "<table border=\"1\" class=\"dataframe\">\n",
              "  <thead>\n",
              "    <tr style=\"text-align: right;\">\n",
              "      <th></th>\n",
              "      <th>count</th>\n",
              "      <th>mean</th>\n",
              "      <th>std</th>\n",
              "      <th>min</th>\n",
              "      <th>25%</th>\n",
              "      <th>50%</th>\n",
              "      <th>75%</th>\n",
              "      <th>max</th>\n",
              "    </tr>\n",
              "  </thead>\n",
              "  <tbody>\n",
              "    <tr>\n",
              "      <th>total_bill</th>\n",
              "      <td>244.0</td>\n",
              "      <td>1.978594e+01</td>\n",
              "      <td>8.902412e+00</td>\n",
              "      <td>3.070000e+00</td>\n",
              "      <td>1.334750e+01</td>\n",
              "      <td>1.779500e+01</td>\n",
              "      <td>2.412750e+01</td>\n",
              "      <td>5.081000e+01</td>\n",
              "    </tr>\n",
              "    <tr>\n",
              "      <th>tip</th>\n",
              "      <td>244.0</td>\n",
              "      <td>2.998279e+00</td>\n",
              "      <td>1.383638e+00</td>\n",
              "      <td>1.000000e+00</td>\n",
              "      <td>2.000000e+00</td>\n",
              "      <td>2.900000e+00</td>\n",
              "      <td>3.562500e+00</td>\n",
              "      <td>1.000000e+01</td>\n",
              "    </tr>\n",
              "    <tr>\n",
              "      <th>size</th>\n",
              "      <td>244.0</td>\n",
              "      <td>2.569672e+00</td>\n",
              "      <td>9.510998e-01</td>\n",
              "      <td>1.000000e+00</td>\n",
              "      <td>2.000000e+00</td>\n",
              "      <td>2.000000e+00</td>\n",
              "      <td>3.000000e+00</td>\n",
              "      <td>6.000000e+00</td>\n",
              "    </tr>\n",
              "    <tr>\n",
              "      <th>price_per_person</th>\n",
              "      <td>244.0</td>\n",
              "      <td>7.888197e+00</td>\n",
              "      <td>2.914234e+00</td>\n",
              "      <td>2.880000e+00</td>\n",
              "      <td>5.800000e+00</td>\n",
              "      <td>7.255000e+00</td>\n",
              "      <td>9.390000e+00</td>\n",
              "      <td>2.027000e+01</td>\n",
              "    </tr>\n",
              "    <tr>\n",
              "      <th>CC Number</th>\n",
              "      <td>244.0</td>\n",
              "      <td>2.563496e+15</td>\n",
              "      <td>2.369340e+15</td>\n",
              "      <td>6.040679e+10</td>\n",
              "      <td>3.040731e+13</td>\n",
              "      <td>3.525318e+15</td>\n",
              "      <td>4.553675e+15</td>\n",
              "      <td>6.596454e+15</td>\n",
              "    </tr>\n",
              "  </tbody>\n",
              "</table>\n",
              "</div>"
            ],
            "text/plain": [
              "                  count          mean  ...           75%           max\n",
              "total_bill        244.0  1.978594e+01  ...  2.412750e+01  5.081000e+01\n",
              "tip               244.0  2.998279e+00  ...  3.562500e+00  1.000000e+01\n",
              "size              244.0  2.569672e+00  ...  3.000000e+00  6.000000e+00\n",
              "price_per_person  244.0  7.888197e+00  ...  9.390000e+00  2.027000e+01\n",
              "CC Number         244.0  2.563496e+15  ...  4.553675e+15  6.596454e+15\n",
              "\n",
              "[5 rows x 8 columns]"
            ]
          },
          "metadata": {
            "tags": []
          },
          "execution_count": 106
        }
      ]
    },
    {
      "cell_type": "code",
      "metadata": {
        "colab": {
          "base_uri": "https://localhost:8080/",
          "height": 586
        },
        "id": "OGK6LYR3INP6",
        "outputId": "283143e8-cc96-495c-f160-2270fa4a83a3"
      },
      "source": [
        "df.sort_values(['tip', 'size'], axis = 0, ascending = True)"
      ],
      "execution_count": 107,
      "outputs": [
        {
          "output_type": "execute_result",
          "data": {
            "text/html": [
              "<div>\n",
              "<style scoped>\n",
              "    .dataframe tbody tr th:only-of-type {\n",
              "        vertical-align: middle;\n",
              "    }\n",
              "\n",
              "    .dataframe tbody tr th {\n",
              "        vertical-align: top;\n",
              "    }\n",
              "\n",
              "    .dataframe thead th {\n",
              "        text-align: right;\n",
              "    }\n",
              "</style>\n",
              "<table border=\"1\" class=\"dataframe\">\n",
              "  <thead>\n",
              "    <tr style=\"text-align: right;\">\n",
              "      <th></th>\n",
              "      <th>total_bill</th>\n",
              "      <th>tip</th>\n",
              "      <th>sex</th>\n",
              "      <th>smoker</th>\n",
              "      <th>day</th>\n",
              "      <th>time</th>\n",
              "      <th>size</th>\n",
              "      <th>price_per_person</th>\n",
              "      <th>Payer Name</th>\n",
              "      <th>CC Number</th>\n",
              "      <th>Payment ID</th>\n",
              "    </tr>\n",
              "  </thead>\n",
              "  <tbody>\n",
              "    <tr>\n",
              "      <th>67</th>\n",
              "      <td>3.07</td>\n",
              "      <td>1.00</td>\n",
              "      <td>Female</td>\n",
              "      <td>Yes</td>\n",
              "      <td>Sat</td>\n",
              "      <td>Dinner</td>\n",
              "      <td>1</td>\n",
              "      <td>3.07</td>\n",
              "      <td>Tiffany Brock</td>\n",
              "      <td>4359488526995267</td>\n",
              "      <td>Sat3455</td>\n",
              "    </tr>\n",
              "    <tr>\n",
              "      <th>111</th>\n",
              "      <td>7.25</td>\n",
              "      <td>1.00</td>\n",
              "      <td>Female</td>\n",
              "      <td>No</td>\n",
              "      <td>Sat</td>\n",
              "      <td>Dinner</td>\n",
              "      <td>1</td>\n",
              "      <td>7.25</td>\n",
              "      <td>Terri Jones</td>\n",
              "      <td>3559221007826887</td>\n",
              "      <td>Sat4801</td>\n",
              "    </tr>\n",
              "    <tr>\n",
              "      <th>92</th>\n",
              "      <td>5.75</td>\n",
              "      <td>1.00</td>\n",
              "      <td>Female</td>\n",
              "      <td>Yes</td>\n",
              "      <td>Fri</td>\n",
              "      <td>Dinner</td>\n",
              "      <td>2</td>\n",
              "      <td>2.88</td>\n",
              "      <td>Leah Ramirez</td>\n",
              "      <td>3508911676966392</td>\n",
              "      <td>Fri3780</td>\n",
              "    </tr>\n",
              "    <tr>\n",
              "      <th>236</th>\n",
              "      <td>12.60</td>\n",
              "      <td>1.00</td>\n",
              "      <td>Male</td>\n",
              "      <td>Yes</td>\n",
              "      <td>Sat</td>\n",
              "      <td>Dinner</td>\n",
              "      <td>2</td>\n",
              "      <td>6.30</td>\n",
              "      <td>Matthew Myers</td>\n",
              "      <td>3543676378973965</td>\n",
              "      <td>Sat5032</td>\n",
              "    </tr>\n",
              "    <tr>\n",
              "      <th>0</th>\n",
              "      <td>16.99</td>\n",
              "      <td>1.01</td>\n",
              "      <td>Female</td>\n",
              "      <td>No</td>\n",
              "      <td>Sun</td>\n",
              "      <td>Dinner</td>\n",
              "      <td>2</td>\n",
              "      <td>8.49</td>\n",
              "      <td>Christy Cunningham</td>\n",
              "      <td>3560325168603410</td>\n",
              "      <td>Sun2959</td>\n",
              "    </tr>\n",
              "    <tr>\n",
              "      <th>...</th>\n",
              "      <td>...</td>\n",
              "      <td>...</td>\n",
              "      <td>...</td>\n",
              "      <td>...</td>\n",
              "      <td>...</td>\n",
              "      <td>...</td>\n",
              "      <td>...</td>\n",
              "      <td>...</td>\n",
              "      <td>...</td>\n",
              "      <td>...</td>\n",
              "      <td>...</td>\n",
              "    </tr>\n",
              "    <tr>\n",
              "      <th>141</th>\n",
              "      <td>34.30</td>\n",
              "      <td>6.70</td>\n",
              "      <td>Male</td>\n",
              "      <td>No</td>\n",
              "      <td>Thur</td>\n",
              "      <td>Lunch</td>\n",
              "      <td>6</td>\n",
              "      <td>5.72</td>\n",
              "      <td>Steven Carlson</td>\n",
              "      <td>3526515703718508</td>\n",
              "      <td>Thur1025</td>\n",
              "    </tr>\n",
              "    <tr>\n",
              "      <th>59</th>\n",
              "      <td>48.27</td>\n",
              "      <td>6.73</td>\n",
              "      <td>Male</td>\n",
              "      <td>No</td>\n",
              "      <td>Sat</td>\n",
              "      <td>Dinner</td>\n",
              "      <td>4</td>\n",
              "      <td>12.07</td>\n",
              "      <td>Brian Ortiz</td>\n",
              "      <td>6596453823950595</td>\n",
              "      <td>Sat8139</td>\n",
              "    </tr>\n",
              "    <tr>\n",
              "      <th>23</th>\n",
              "      <td>39.42</td>\n",
              "      <td>7.58</td>\n",
              "      <td>Male</td>\n",
              "      <td>No</td>\n",
              "      <td>Sat</td>\n",
              "      <td>Dinner</td>\n",
              "      <td>4</td>\n",
              "      <td>9.86</td>\n",
              "      <td>Lance Peterson</td>\n",
              "      <td>3542584061609808</td>\n",
              "      <td>Sat239</td>\n",
              "    </tr>\n",
              "    <tr>\n",
              "      <th>212</th>\n",
              "      <td>48.33</td>\n",
              "      <td>9.00</td>\n",
              "      <td>Male</td>\n",
              "      <td>No</td>\n",
              "      <td>Sat</td>\n",
              "      <td>Dinner</td>\n",
              "      <td>4</td>\n",
              "      <td>12.08</td>\n",
              "      <td>Alex Williamson</td>\n",
              "      <td>676218815212</td>\n",
              "      <td>Sat4590</td>\n",
              "    </tr>\n",
              "    <tr>\n",
              "      <th>170</th>\n",
              "      <td>50.81</td>\n",
              "      <td>10.00</td>\n",
              "      <td>Male</td>\n",
              "      <td>Yes</td>\n",
              "      <td>Sat</td>\n",
              "      <td>Dinner</td>\n",
              "      <td>3</td>\n",
              "      <td>16.94</td>\n",
              "      <td>Gregory Clark</td>\n",
              "      <td>5473850968388236</td>\n",
              "      <td>Sat1954</td>\n",
              "    </tr>\n",
              "  </tbody>\n",
              "</table>\n",
              "<p>244 rows × 11 columns</p>\n",
              "</div>"
            ],
            "text/plain": [
              "     total_bill    tip     sex  ...          Payer Name         CC Number Payment ID\n",
              "67         3.07   1.00  Female  ...       Tiffany Brock  4359488526995267    Sat3455\n",
              "111        7.25   1.00  Female  ...         Terri Jones  3559221007826887    Sat4801\n",
              "92         5.75   1.00  Female  ...        Leah Ramirez  3508911676966392    Fri3780\n",
              "236       12.60   1.00    Male  ...       Matthew Myers  3543676378973965    Sat5032\n",
              "0         16.99   1.01  Female  ...  Christy Cunningham  3560325168603410    Sun2959\n",
              "..          ...    ...     ...  ...                 ...               ...        ...\n",
              "141       34.30   6.70    Male  ...      Steven Carlson  3526515703718508   Thur1025\n",
              "59        48.27   6.73    Male  ...         Brian Ortiz  6596453823950595    Sat8139\n",
              "23        39.42   7.58    Male  ...      Lance Peterson  3542584061609808     Sat239\n",
              "212       48.33   9.00    Male  ...     Alex Williamson      676218815212    Sat4590\n",
              "170       50.81  10.00    Male  ...       Gregory Clark  5473850968388236    Sat1954\n",
              "\n",
              "[244 rows x 11 columns]"
            ]
          },
          "metadata": {
            "tags": []
          },
          "execution_count": 107
        }
      ]
    },
    {
      "cell_type": "code",
      "metadata": {
        "colab": {
          "base_uri": "https://localhost:8080/"
        },
        "id": "dkoWQevYIYx4",
        "outputId": "f5d8295b-97f9-4d4a-f30a-2d23de775855"
      },
      "source": [
        "print(df['total_bill'].max())\n",
        "print(df['total_bill'].argmax())"
      ],
      "execution_count": 108,
      "outputs": [
        {
          "output_type": "stream",
          "text": [
            "50.81\n",
            "170\n"
          ],
          "name": "stdout"
        }
      ]
    },
    {
      "cell_type": "code",
      "metadata": {
        "colab": {
          "base_uri": "https://localhost:8080/"
        },
        "id": "MH4YE9R5JB1w",
        "outputId": "e1188cb8-750e-486e-e37b-d55aac6794d2"
      },
      "source": [
        "df.iloc[df['total_bill'].argmax()]"
      ],
      "execution_count": 109,
      "outputs": [
        {
          "output_type": "execute_result",
          "data": {
            "text/plain": [
              "total_bill                     50.81\n",
              "tip                               10\n",
              "sex                             Male\n",
              "smoker                           Yes\n",
              "day                              Sat\n",
              "time                          Dinner\n",
              "size                               3\n",
              "price_per_person               16.94\n",
              "Payer Name             Gregory Clark\n",
              "CC Number           5473850968388236\n",
              "Payment ID                   Sat1954\n",
              "Name: 170, dtype: object"
            ]
          },
          "metadata": {
            "tags": []
          },
          "execution_count": 109
        }
      ]
    },
    {
      "cell_type": "code",
      "metadata": {
        "colab": {
          "base_uri": "https://localhost:8080/",
          "height": 202
        },
        "id": "Hjw2KHhnJYQl",
        "outputId": "7d71bc88-4752-4f5f-d5bc-bf008439b8c6"
      },
      "source": [
        "df.corr()"
      ],
      "execution_count": 110,
      "outputs": [
        {
          "output_type": "execute_result",
          "data": {
            "text/html": [
              "<div>\n",
              "<style scoped>\n",
              "    .dataframe tbody tr th:only-of-type {\n",
              "        vertical-align: middle;\n",
              "    }\n",
              "\n",
              "    .dataframe tbody tr th {\n",
              "        vertical-align: top;\n",
              "    }\n",
              "\n",
              "    .dataframe thead th {\n",
              "        text-align: right;\n",
              "    }\n",
              "</style>\n",
              "<table border=\"1\" class=\"dataframe\">\n",
              "  <thead>\n",
              "    <tr style=\"text-align: right;\">\n",
              "      <th></th>\n",
              "      <th>total_bill</th>\n",
              "      <th>tip</th>\n",
              "      <th>size</th>\n",
              "      <th>price_per_person</th>\n",
              "      <th>CC Number</th>\n",
              "    </tr>\n",
              "  </thead>\n",
              "  <tbody>\n",
              "    <tr>\n",
              "      <th>total_bill</th>\n",
              "      <td>1.000000</td>\n",
              "      <td>0.675734</td>\n",
              "      <td>0.598315</td>\n",
              "      <td>0.647554</td>\n",
              "      <td>0.104576</td>\n",
              "    </tr>\n",
              "    <tr>\n",
              "      <th>tip</th>\n",
              "      <td>0.675734</td>\n",
              "      <td>1.000000</td>\n",
              "      <td>0.489299</td>\n",
              "      <td>0.347405</td>\n",
              "      <td>0.110857</td>\n",
              "    </tr>\n",
              "    <tr>\n",
              "      <th>size</th>\n",
              "      <td>0.598315</td>\n",
              "      <td>0.489299</td>\n",
              "      <td>1.000000</td>\n",
              "      <td>-0.175359</td>\n",
              "      <td>-0.030239</td>\n",
              "    </tr>\n",
              "    <tr>\n",
              "      <th>price_per_person</th>\n",
              "      <td>0.647554</td>\n",
              "      <td>0.347405</td>\n",
              "      <td>-0.175359</td>\n",
              "      <td>1.000000</td>\n",
              "      <td>0.135240</td>\n",
              "    </tr>\n",
              "    <tr>\n",
              "      <th>CC Number</th>\n",
              "      <td>0.104576</td>\n",
              "      <td>0.110857</td>\n",
              "      <td>-0.030239</td>\n",
              "      <td>0.135240</td>\n",
              "      <td>1.000000</td>\n",
              "    </tr>\n",
              "  </tbody>\n",
              "</table>\n",
              "</div>"
            ],
            "text/plain": [
              "                  total_bill       tip      size  price_per_person  CC Number\n",
              "total_bill          1.000000  0.675734  0.598315          0.647554   0.104576\n",
              "tip                 0.675734  1.000000  0.489299          0.347405   0.110857\n",
              "size                0.598315  0.489299  1.000000         -0.175359  -0.030239\n",
              "price_per_person    0.647554  0.347405 -0.175359          1.000000   0.135240\n",
              "CC Number           0.104576  0.110857 -0.030239          0.135240   1.000000"
            ]
          },
          "metadata": {
            "tags": []
          },
          "execution_count": 110
        }
      ]
    },
    {
      "cell_type": "code",
      "metadata": {
        "colab": {
          "base_uri": "https://localhost:8080/"
        },
        "id": "I8o1fX6WJuoM",
        "outputId": "c0fe12e6-ca04-494b-cffb-1e402ba1223b"
      },
      "source": [
        "df['sex'].value_counts()"
      ],
      "execution_count": 111,
      "outputs": [
        {
          "output_type": "execute_result",
          "data": {
            "text/plain": [
              "Male      157\n",
              "Female     87\n",
              "Name: sex, dtype: int64"
            ]
          },
          "metadata": {
            "tags": []
          },
          "execution_count": 111
        }
      ]
    },
    {
      "cell_type": "code",
      "metadata": {
        "colab": {
          "base_uri": "https://localhost:8080/"
        },
        "id": "cfAXt-m6J5U8",
        "outputId": "15801b98-fa57-49a0-cce5-e6feaa29dc85"
      },
      "source": [
        "df['day'].unique()"
      ],
      "execution_count": 112,
      "outputs": [
        {
          "output_type": "execute_result",
          "data": {
            "text/plain": [
              "array(['Sun', 'Sat', 'Thur', 'Fri'], dtype=object)"
            ]
          },
          "metadata": {
            "tags": []
          },
          "execution_count": 112
        }
      ]
    },
    {
      "cell_type": "code",
      "metadata": {
        "colab": {
          "base_uri": "https://localhost:8080/"
        },
        "id": "cE0oyEL3KO2n",
        "outputId": "5b104695-5a3d-4b59-c7b6-43672e8afb95"
      },
      "source": [
        "df['sex'].replace('Female', 'F')"
      ],
      "execution_count": 113,
      "outputs": [
        {
          "output_type": "execute_result",
          "data": {
            "text/plain": [
              "0         F\n",
              "1      Male\n",
              "2      Male\n",
              "3      Male\n",
              "4         F\n",
              "       ... \n",
              "239    Male\n",
              "240       F\n",
              "241    Male\n",
              "242    Male\n",
              "243       F\n",
              "Name: sex, Length: 244, dtype: object"
            ]
          },
          "metadata": {
            "tags": []
          },
          "execution_count": 113
        }
      ]
    },
    {
      "cell_type": "code",
      "metadata": {
        "colab": {
          "base_uri": "https://localhost:8080/"
        },
        "id": "VFo8-ztWLKni",
        "outputId": "5ad808ad-af31-4566-c7e5-332d546fecec"
      },
      "source": [
        "df['sex'].replace(['Female', 'Male'], ['F', 'M'])"
      ],
      "execution_count": 114,
      "outputs": [
        {
          "output_type": "execute_result",
          "data": {
            "text/plain": [
              "0      F\n",
              "1      M\n",
              "2      M\n",
              "3      M\n",
              "4      F\n",
              "      ..\n",
              "239    M\n",
              "240    F\n",
              "241    M\n",
              "242    M\n",
              "243    F\n",
              "Name: sex, Length: 244, dtype: object"
            ]
          },
          "metadata": {
            "tags": []
          },
          "execution_count": 114
        }
      ]
    },
    {
      "cell_type": "code",
      "metadata": {
        "id": "irOETfcgLQc8"
      },
      "source": [
        "mapping_sex = {\n",
        "    'Female' : 'F',\n",
        "    'Male' : 'M'\n",
        "}"
      ],
      "execution_count": 115,
      "outputs": []
    },
    {
      "cell_type": "code",
      "metadata": {
        "colab": {
          "base_uri": "https://localhost:8080/"
        },
        "id": "uhg-LpAzLo1P",
        "outputId": "42871cb1-2f5c-4c78-c180-1ae1552740bc"
      },
      "source": [
        "df['sex'].map(mapping_sex)"
      ],
      "execution_count": 116,
      "outputs": [
        {
          "output_type": "execute_result",
          "data": {
            "text/plain": [
              "0      F\n",
              "1      M\n",
              "2      M\n",
              "3      M\n",
              "4      F\n",
              "      ..\n",
              "239    M\n",
              "240    F\n",
              "241    M\n",
              "242    M\n",
              "243    F\n",
              "Name: sex, Length: 244, dtype: object"
            ]
          },
          "metadata": {
            "tags": []
          },
          "execution_count": 116
        }
      ]
    },
    {
      "cell_type": "code",
      "metadata": {
        "colab": {
          "base_uri": "https://localhost:8080/"
        },
        "id": "xKuwXOowLraY",
        "outputId": "36bcc293-891e-4cc5-8c1f-2505c700dde9"
      },
      "source": [
        "df.duplicated()       #Returns the first instance of any duplicate rows"
      ],
      "execution_count": 117,
      "outputs": [
        {
          "output_type": "execute_result",
          "data": {
            "text/plain": [
              "0      False\n",
              "1      False\n",
              "2      False\n",
              "3      False\n",
              "4      False\n",
              "       ...  \n",
              "239    False\n",
              "240    False\n",
              "241    False\n",
              "242    False\n",
              "243    False\n",
              "Length: 244, dtype: bool"
            ]
          },
          "metadata": {
            "tags": []
          },
          "execution_count": 117
        }
      ]
    },
    {
      "cell_type": "code",
      "metadata": {
        "id": "ozblrIjnMAG0"
      },
      "source": [
        "simple_df = pd.DataFrame(data = [[1, 2, 3, 4], [5, 6, 7, 8], [1, 2, 3, 4]], index = ['A', 'B', 'C'], columns = [10, 11, 12, 13])"
      ],
      "execution_count": 118,
      "outputs": []
    },
    {
      "cell_type": "code",
      "metadata": {
        "colab": {
          "base_uri": "https://localhost:8080/",
          "height": 141
        },
        "id": "AP2omF7hMk4_",
        "outputId": "8b4c353a-7640-4985-cff2-f2d7e285de27"
      },
      "source": [
        "simple_df"
      ],
      "execution_count": 119,
      "outputs": [
        {
          "output_type": "execute_result",
          "data": {
            "text/html": [
              "<div>\n",
              "<style scoped>\n",
              "    .dataframe tbody tr th:only-of-type {\n",
              "        vertical-align: middle;\n",
              "    }\n",
              "\n",
              "    .dataframe tbody tr th {\n",
              "        vertical-align: top;\n",
              "    }\n",
              "\n",
              "    .dataframe thead th {\n",
              "        text-align: right;\n",
              "    }\n",
              "</style>\n",
              "<table border=\"1\" class=\"dataframe\">\n",
              "  <thead>\n",
              "    <tr style=\"text-align: right;\">\n",
              "      <th></th>\n",
              "      <th>10</th>\n",
              "      <th>11</th>\n",
              "      <th>12</th>\n",
              "      <th>13</th>\n",
              "    </tr>\n",
              "  </thead>\n",
              "  <tbody>\n",
              "    <tr>\n",
              "      <th>A</th>\n",
              "      <td>1</td>\n",
              "      <td>2</td>\n",
              "      <td>3</td>\n",
              "      <td>4</td>\n",
              "    </tr>\n",
              "    <tr>\n",
              "      <th>B</th>\n",
              "      <td>5</td>\n",
              "      <td>6</td>\n",
              "      <td>7</td>\n",
              "      <td>8</td>\n",
              "    </tr>\n",
              "    <tr>\n",
              "      <th>C</th>\n",
              "      <td>1</td>\n",
              "      <td>2</td>\n",
              "      <td>3</td>\n",
              "      <td>4</td>\n",
              "    </tr>\n",
              "  </tbody>\n",
              "</table>\n",
              "</div>"
            ],
            "text/plain": [
              "   10  11  12  13\n",
              "A   1   2   3   4\n",
              "B   5   6   7   8\n",
              "C   1   2   3   4"
            ]
          },
          "metadata": {
            "tags": []
          },
          "execution_count": 119
        }
      ]
    },
    {
      "cell_type": "code",
      "metadata": {
        "colab": {
          "base_uri": "https://localhost:8080/"
        },
        "id": "zufuBNZsMoU9",
        "outputId": "9228ec34-5331-4fe1-cb5c-80b8da530e1b"
      },
      "source": [
        "simple_df.duplicated()"
      ],
      "execution_count": 120,
      "outputs": [
        {
          "output_type": "execute_result",
          "data": {
            "text/plain": [
              "A    False\n",
              "B    False\n",
              "C     True\n",
              "dtype: bool"
            ]
          },
          "metadata": {
            "tags": []
          },
          "execution_count": 120
        }
      ]
    },
    {
      "cell_type": "code",
      "metadata": {
        "id": "SKb4ztVMMqT_"
      },
      "source": [
        "simple_df.drop_duplicates(inplace = True)"
      ],
      "execution_count": 121,
      "outputs": []
    },
    {
      "cell_type": "code",
      "metadata": {
        "colab": {
          "base_uri": "https://localhost:8080/",
          "height": 110
        },
        "id": "63g7UZhYMzCN",
        "outputId": "f0271ee9-10d0-487c-aab8-e9954986441f"
      },
      "source": [
        "simple_df"
      ],
      "execution_count": 122,
      "outputs": [
        {
          "output_type": "execute_result",
          "data": {
            "text/html": [
              "<div>\n",
              "<style scoped>\n",
              "    .dataframe tbody tr th:only-of-type {\n",
              "        vertical-align: middle;\n",
              "    }\n",
              "\n",
              "    .dataframe tbody tr th {\n",
              "        vertical-align: top;\n",
              "    }\n",
              "\n",
              "    .dataframe thead th {\n",
              "        text-align: right;\n",
              "    }\n",
              "</style>\n",
              "<table border=\"1\" class=\"dataframe\">\n",
              "  <thead>\n",
              "    <tr style=\"text-align: right;\">\n",
              "      <th></th>\n",
              "      <th>10</th>\n",
              "      <th>11</th>\n",
              "      <th>12</th>\n",
              "      <th>13</th>\n",
              "    </tr>\n",
              "  </thead>\n",
              "  <tbody>\n",
              "    <tr>\n",
              "      <th>A</th>\n",
              "      <td>1</td>\n",
              "      <td>2</td>\n",
              "      <td>3</td>\n",
              "      <td>4</td>\n",
              "    </tr>\n",
              "    <tr>\n",
              "      <th>B</th>\n",
              "      <td>5</td>\n",
              "      <td>6</td>\n",
              "      <td>7</td>\n",
              "      <td>8</td>\n",
              "    </tr>\n",
              "  </tbody>\n",
              "</table>\n",
              "</div>"
            ],
            "text/plain": [
              "   10  11  12  13\n",
              "A   1   2   3   4\n",
              "B   5   6   7   8"
            ]
          },
          "metadata": {
            "tags": []
          },
          "execution_count": 122
        }
      ]
    },
    {
      "cell_type": "code",
      "metadata": {
        "colab": {
          "base_uri": "https://localhost:8080/",
          "height": 619
        },
        "id": "xjFAgYNjM0k6",
        "outputId": "9707c9f5-2f62-4ff6-de6d-0e4ba25e1a57"
      },
      "source": [
        "df[(df['total_bill'] >= 10) & (df['total_bill'] <= 20)]"
      ],
      "execution_count": 123,
      "outputs": [
        {
          "output_type": "execute_result",
          "data": {
            "text/html": [
              "<div>\n",
              "<style scoped>\n",
              "    .dataframe tbody tr th:only-of-type {\n",
              "        vertical-align: middle;\n",
              "    }\n",
              "\n",
              "    .dataframe tbody tr th {\n",
              "        vertical-align: top;\n",
              "    }\n",
              "\n",
              "    .dataframe thead th {\n",
              "        text-align: right;\n",
              "    }\n",
              "</style>\n",
              "<table border=\"1\" class=\"dataframe\">\n",
              "  <thead>\n",
              "    <tr style=\"text-align: right;\">\n",
              "      <th></th>\n",
              "      <th>total_bill</th>\n",
              "      <th>tip</th>\n",
              "      <th>sex</th>\n",
              "      <th>smoker</th>\n",
              "      <th>day</th>\n",
              "      <th>time</th>\n",
              "      <th>size</th>\n",
              "      <th>price_per_person</th>\n",
              "      <th>Payer Name</th>\n",
              "      <th>CC Number</th>\n",
              "      <th>Payment ID</th>\n",
              "    </tr>\n",
              "  </thead>\n",
              "  <tbody>\n",
              "    <tr>\n",
              "      <th>0</th>\n",
              "      <td>16.99</td>\n",
              "      <td>1.01</td>\n",
              "      <td>Female</td>\n",
              "      <td>No</td>\n",
              "      <td>Sun</td>\n",
              "      <td>Dinner</td>\n",
              "      <td>2</td>\n",
              "      <td>8.49</td>\n",
              "      <td>Christy Cunningham</td>\n",
              "      <td>3560325168603410</td>\n",
              "      <td>Sun2959</td>\n",
              "    </tr>\n",
              "    <tr>\n",
              "      <th>1</th>\n",
              "      <td>10.34</td>\n",
              "      <td>1.66</td>\n",
              "      <td>Male</td>\n",
              "      <td>No</td>\n",
              "      <td>Sun</td>\n",
              "      <td>Dinner</td>\n",
              "      <td>3</td>\n",
              "      <td>3.45</td>\n",
              "      <td>Douglas Tucker</td>\n",
              "      <td>4478071379779230</td>\n",
              "      <td>Sun4608</td>\n",
              "    </tr>\n",
              "    <tr>\n",
              "      <th>8</th>\n",
              "      <td>15.04</td>\n",
              "      <td>1.96</td>\n",
              "      <td>Male</td>\n",
              "      <td>No</td>\n",
              "      <td>Sun</td>\n",
              "      <td>Dinner</td>\n",
              "      <td>2</td>\n",
              "      <td>7.52</td>\n",
              "      <td>Joseph Mcdonald</td>\n",
              "      <td>3522866365840377</td>\n",
              "      <td>Sun6820</td>\n",
              "    </tr>\n",
              "    <tr>\n",
              "      <th>9</th>\n",
              "      <td>14.78</td>\n",
              "      <td>3.23</td>\n",
              "      <td>Male</td>\n",
              "      <td>No</td>\n",
              "      <td>Sun</td>\n",
              "      <td>Dinner</td>\n",
              "      <td>2</td>\n",
              "      <td>7.39</td>\n",
              "      <td>Jerome Abbott</td>\n",
              "      <td>3532124519049786</td>\n",
              "      <td>Sun3775</td>\n",
              "    </tr>\n",
              "    <tr>\n",
              "      <th>10</th>\n",
              "      <td>10.27</td>\n",
              "      <td>1.71</td>\n",
              "      <td>Male</td>\n",
              "      <td>No</td>\n",
              "      <td>Sun</td>\n",
              "      <td>Dinner</td>\n",
              "      <td>2</td>\n",
              "      <td>5.14</td>\n",
              "      <td>William Riley</td>\n",
              "      <td>566287581219</td>\n",
              "      <td>Sun2546</td>\n",
              "    </tr>\n",
              "    <tr>\n",
              "      <th>...</th>\n",
              "      <td>...</td>\n",
              "      <td>...</td>\n",
              "      <td>...</td>\n",
              "      <td>...</td>\n",
              "      <td>...</td>\n",
              "      <td>...</td>\n",
              "      <td>...</td>\n",
              "      <td>...</td>\n",
              "      <td>...</td>\n",
              "      <td>...</td>\n",
              "      <td>...</td>\n",
              "    </tr>\n",
              "    <tr>\n",
              "      <th>234</th>\n",
              "      <td>15.53</td>\n",
              "      <td>3.00</td>\n",
              "      <td>Male</td>\n",
              "      <td>Yes</td>\n",
              "      <td>Sat</td>\n",
              "      <td>Dinner</td>\n",
              "      <td>2</td>\n",
              "      <td>7.76</td>\n",
              "      <td>Tracy Douglas</td>\n",
              "      <td>4097938155941930</td>\n",
              "      <td>Sat7220</td>\n",
              "    </tr>\n",
              "    <tr>\n",
              "      <th>235</th>\n",
              "      <td>10.07</td>\n",
              "      <td>1.25</td>\n",
              "      <td>Male</td>\n",
              "      <td>No</td>\n",
              "      <td>Sat</td>\n",
              "      <td>Dinner</td>\n",
              "      <td>2</td>\n",
              "      <td>5.04</td>\n",
              "      <td>Sean Gonzalez</td>\n",
              "      <td>3534021246117605</td>\n",
              "      <td>Sat4615</td>\n",
              "    </tr>\n",
              "    <tr>\n",
              "      <th>236</th>\n",
              "      <td>12.60</td>\n",
              "      <td>1.00</td>\n",
              "      <td>Male</td>\n",
              "      <td>Yes</td>\n",
              "      <td>Sat</td>\n",
              "      <td>Dinner</td>\n",
              "      <td>2</td>\n",
              "      <td>6.30</td>\n",
              "      <td>Matthew Myers</td>\n",
              "      <td>3543676378973965</td>\n",
              "      <td>Sat5032</td>\n",
              "    </tr>\n",
              "    <tr>\n",
              "      <th>242</th>\n",
              "      <td>17.82</td>\n",
              "      <td>1.75</td>\n",
              "      <td>Male</td>\n",
              "      <td>No</td>\n",
              "      <td>Sat</td>\n",
              "      <td>Dinner</td>\n",
              "      <td>2</td>\n",
              "      <td>8.91</td>\n",
              "      <td>Dennis Dixon</td>\n",
              "      <td>4375220550950</td>\n",
              "      <td>Sat17</td>\n",
              "    </tr>\n",
              "    <tr>\n",
              "      <th>243</th>\n",
              "      <td>18.78</td>\n",
              "      <td>3.00</td>\n",
              "      <td>Female</td>\n",
              "      <td>No</td>\n",
              "      <td>Thur</td>\n",
              "      <td>Dinner</td>\n",
              "      <td>2</td>\n",
              "      <td>9.39</td>\n",
              "      <td>Michelle Hardin</td>\n",
              "      <td>3511451626698139</td>\n",
              "      <td>Thur672</td>\n",
              "    </tr>\n",
              "  </tbody>\n",
              "</table>\n",
              "<p>130 rows × 11 columns</p>\n",
              "</div>"
            ],
            "text/plain": [
              "     total_bill   tip     sex  ...          Payer Name         CC Number Payment ID\n",
              "0         16.99  1.01  Female  ...  Christy Cunningham  3560325168603410    Sun2959\n",
              "1         10.34  1.66    Male  ...      Douglas Tucker  4478071379779230    Sun4608\n",
              "8         15.04  1.96    Male  ...     Joseph Mcdonald  3522866365840377    Sun6820\n",
              "9         14.78  3.23    Male  ...       Jerome Abbott  3532124519049786    Sun3775\n",
              "10        10.27  1.71    Male  ...       William Riley      566287581219    Sun2546\n",
              "..          ...   ...     ...  ...                 ...               ...        ...\n",
              "234       15.53  3.00    Male  ...       Tracy Douglas  4097938155941930    Sat7220\n",
              "235       10.07  1.25    Male  ...       Sean Gonzalez  3534021246117605    Sat4615\n",
              "236       12.60  1.00    Male  ...       Matthew Myers  3543676378973965    Sat5032\n",
              "242       17.82  1.75    Male  ...        Dennis Dixon     4375220550950      Sat17\n",
              "243       18.78  3.00  Female  ...     Michelle Hardin  3511451626698139    Thur672\n",
              "\n",
              "[130 rows x 11 columns]"
            ]
          },
          "metadata": {
            "tags": []
          },
          "execution_count": 123
        }
      ]
    },
    {
      "cell_type": "code",
      "metadata": {
        "colab": {
          "base_uri": "https://localhost:8080/",
          "height": 619
        },
        "id": "h8hBxvsLNLKp",
        "outputId": "a2d22f4e-19c0-47f0-8a1b-c16143601cc8"
      },
      "source": [
        "df[df['total_bill'].between(10, 20, inclusive = True)]"
      ],
      "execution_count": 124,
      "outputs": [
        {
          "output_type": "execute_result",
          "data": {
            "text/html": [
              "<div>\n",
              "<style scoped>\n",
              "    .dataframe tbody tr th:only-of-type {\n",
              "        vertical-align: middle;\n",
              "    }\n",
              "\n",
              "    .dataframe tbody tr th {\n",
              "        vertical-align: top;\n",
              "    }\n",
              "\n",
              "    .dataframe thead th {\n",
              "        text-align: right;\n",
              "    }\n",
              "</style>\n",
              "<table border=\"1\" class=\"dataframe\">\n",
              "  <thead>\n",
              "    <tr style=\"text-align: right;\">\n",
              "      <th></th>\n",
              "      <th>total_bill</th>\n",
              "      <th>tip</th>\n",
              "      <th>sex</th>\n",
              "      <th>smoker</th>\n",
              "      <th>day</th>\n",
              "      <th>time</th>\n",
              "      <th>size</th>\n",
              "      <th>price_per_person</th>\n",
              "      <th>Payer Name</th>\n",
              "      <th>CC Number</th>\n",
              "      <th>Payment ID</th>\n",
              "    </tr>\n",
              "  </thead>\n",
              "  <tbody>\n",
              "    <tr>\n",
              "      <th>0</th>\n",
              "      <td>16.99</td>\n",
              "      <td>1.01</td>\n",
              "      <td>Female</td>\n",
              "      <td>No</td>\n",
              "      <td>Sun</td>\n",
              "      <td>Dinner</td>\n",
              "      <td>2</td>\n",
              "      <td>8.49</td>\n",
              "      <td>Christy Cunningham</td>\n",
              "      <td>3560325168603410</td>\n",
              "      <td>Sun2959</td>\n",
              "    </tr>\n",
              "    <tr>\n",
              "      <th>1</th>\n",
              "      <td>10.34</td>\n",
              "      <td>1.66</td>\n",
              "      <td>Male</td>\n",
              "      <td>No</td>\n",
              "      <td>Sun</td>\n",
              "      <td>Dinner</td>\n",
              "      <td>3</td>\n",
              "      <td>3.45</td>\n",
              "      <td>Douglas Tucker</td>\n",
              "      <td>4478071379779230</td>\n",
              "      <td>Sun4608</td>\n",
              "    </tr>\n",
              "    <tr>\n",
              "      <th>8</th>\n",
              "      <td>15.04</td>\n",
              "      <td>1.96</td>\n",
              "      <td>Male</td>\n",
              "      <td>No</td>\n",
              "      <td>Sun</td>\n",
              "      <td>Dinner</td>\n",
              "      <td>2</td>\n",
              "      <td>7.52</td>\n",
              "      <td>Joseph Mcdonald</td>\n",
              "      <td>3522866365840377</td>\n",
              "      <td>Sun6820</td>\n",
              "    </tr>\n",
              "    <tr>\n",
              "      <th>9</th>\n",
              "      <td>14.78</td>\n",
              "      <td>3.23</td>\n",
              "      <td>Male</td>\n",
              "      <td>No</td>\n",
              "      <td>Sun</td>\n",
              "      <td>Dinner</td>\n",
              "      <td>2</td>\n",
              "      <td>7.39</td>\n",
              "      <td>Jerome Abbott</td>\n",
              "      <td>3532124519049786</td>\n",
              "      <td>Sun3775</td>\n",
              "    </tr>\n",
              "    <tr>\n",
              "      <th>10</th>\n",
              "      <td>10.27</td>\n",
              "      <td>1.71</td>\n",
              "      <td>Male</td>\n",
              "      <td>No</td>\n",
              "      <td>Sun</td>\n",
              "      <td>Dinner</td>\n",
              "      <td>2</td>\n",
              "      <td>5.14</td>\n",
              "      <td>William Riley</td>\n",
              "      <td>566287581219</td>\n",
              "      <td>Sun2546</td>\n",
              "    </tr>\n",
              "    <tr>\n",
              "      <th>...</th>\n",
              "      <td>...</td>\n",
              "      <td>...</td>\n",
              "      <td>...</td>\n",
              "      <td>...</td>\n",
              "      <td>...</td>\n",
              "      <td>...</td>\n",
              "      <td>...</td>\n",
              "      <td>...</td>\n",
              "      <td>...</td>\n",
              "      <td>...</td>\n",
              "      <td>...</td>\n",
              "    </tr>\n",
              "    <tr>\n",
              "      <th>234</th>\n",
              "      <td>15.53</td>\n",
              "      <td>3.00</td>\n",
              "      <td>Male</td>\n",
              "      <td>Yes</td>\n",
              "      <td>Sat</td>\n",
              "      <td>Dinner</td>\n",
              "      <td>2</td>\n",
              "      <td>7.76</td>\n",
              "      <td>Tracy Douglas</td>\n",
              "      <td>4097938155941930</td>\n",
              "      <td>Sat7220</td>\n",
              "    </tr>\n",
              "    <tr>\n",
              "      <th>235</th>\n",
              "      <td>10.07</td>\n",
              "      <td>1.25</td>\n",
              "      <td>Male</td>\n",
              "      <td>No</td>\n",
              "      <td>Sat</td>\n",
              "      <td>Dinner</td>\n",
              "      <td>2</td>\n",
              "      <td>5.04</td>\n",
              "      <td>Sean Gonzalez</td>\n",
              "      <td>3534021246117605</td>\n",
              "      <td>Sat4615</td>\n",
              "    </tr>\n",
              "    <tr>\n",
              "      <th>236</th>\n",
              "      <td>12.60</td>\n",
              "      <td>1.00</td>\n",
              "      <td>Male</td>\n",
              "      <td>Yes</td>\n",
              "      <td>Sat</td>\n",
              "      <td>Dinner</td>\n",
              "      <td>2</td>\n",
              "      <td>6.30</td>\n",
              "      <td>Matthew Myers</td>\n",
              "      <td>3543676378973965</td>\n",
              "      <td>Sat5032</td>\n",
              "    </tr>\n",
              "    <tr>\n",
              "      <th>242</th>\n",
              "      <td>17.82</td>\n",
              "      <td>1.75</td>\n",
              "      <td>Male</td>\n",
              "      <td>No</td>\n",
              "      <td>Sat</td>\n",
              "      <td>Dinner</td>\n",
              "      <td>2</td>\n",
              "      <td>8.91</td>\n",
              "      <td>Dennis Dixon</td>\n",
              "      <td>4375220550950</td>\n",
              "      <td>Sat17</td>\n",
              "    </tr>\n",
              "    <tr>\n",
              "      <th>243</th>\n",
              "      <td>18.78</td>\n",
              "      <td>3.00</td>\n",
              "      <td>Female</td>\n",
              "      <td>No</td>\n",
              "      <td>Thur</td>\n",
              "      <td>Dinner</td>\n",
              "      <td>2</td>\n",
              "      <td>9.39</td>\n",
              "      <td>Michelle Hardin</td>\n",
              "      <td>3511451626698139</td>\n",
              "      <td>Thur672</td>\n",
              "    </tr>\n",
              "  </tbody>\n",
              "</table>\n",
              "<p>130 rows × 11 columns</p>\n",
              "</div>"
            ],
            "text/plain": [
              "     total_bill   tip     sex  ...          Payer Name         CC Number Payment ID\n",
              "0         16.99  1.01  Female  ...  Christy Cunningham  3560325168603410    Sun2959\n",
              "1         10.34  1.66    Male  ...      Douglas Tucker  4478071379779230    Sun4608\n",
              "8         15.04  1.96    Male  ...     Joseph Mcdonald  3522866365840377    Sun6820\n",
              "9         14.78  3.23    Male  ...       Jerome Abbott  3532124519049786    Sun3775\n",
              "10        10.27  1.71    Male  ...       William Riley      566287581219    Sun2546\n",
              "..          ...   ...     ...  ...                 ...               ...        ...\n",
              "234       15.53  3.00    Male  ...       Tracy Douglas  4097938155941930    Sat7220\n",
              "235       10.07  1.25    Male  ...       Sean Gonzalez  3534021246117605    Sat4615\n",
              "236       12.60  1.00    Male  ...       Matthew Myers  3543676378973965    Sat5032\n",
              "242       17.82  1.75    Male  ...        Dennis Dixon     4375220550950      Sat17\n",
              "243       18.78  3.00  Female  ...     Michelle Hardin  3511451626698139    Thur672\n",
              "\n",
              "[130 rows x 11 columns]"
            ]
          },
          "metadata": {
            "tags": []
          },
          "execution_count": 124
        }
      ]
    },
    {
      "cell_type": "code",
      "metadata": {
        "colab": {
          "base_uri": "https://localhost:8080/",
          "height": 560
        },
        "id": "uQAS1EWcNgzD",
        "outputId": "2cfc39f2-864e-4eb6-a94e-6dab2693adc1"
      },
      "source": [
        "df.nlargest(10, columns = ['tip', 'total_bill'])"
      ],
      "execution_count": 125,
      "outputs": [
        {
          "output_type": "execute_result",
          "data": {
            "text/html": [
              "<div>\n",
              "<style scoped>\n",
              "    .dataframe tbody tr th:only-of-type {\n",
              "        vertical-align: middle;\n",
              "    }\n",
              "\n",
              "    .dataframe tbody tr th {\n",
              "        vertical-align: top;\n",
              "    }\n",
              "\n",
              "    .dataframe thead th {\n",
              "        text-align: right;\n",
              "    }\n",
              "</style>\n",
              "<table border=\"1\" class=\"dataframe\">\n",
              "  <thead>\n",
              "    <tr style=\"text-align: right;\">\n",
              "      <th></th>\n",
              "      <th>total_bill</th>\n",
              "      <th>tip</th>\n",
              "      <th>sex</th>\n",
              "      <th>smoker</th>\n",
              "      <th>day</th>\n",
              "      <th>time</th>\n",
              "      <th>size</th>\n",
              "      <th>price_per_person</th>\n",
              "      <th>Payer Name</th>\n",
              "      <th>CC Number</th>\n",
              "      <th>Payment ID</th>\n",
              "    </tr>\n",
              "  </thead>\n",
              "  <tbody>\n",
              "    <tr>\n",
              "      <th>170</th>\n",
              "      <td>50.81</td>\n",
              "      <td>10.00</td>\n",
              "      <td>Male</td>\n",
              "      <td>Yes</td>\n",
              "      <td>Sat</td>\n",
              "      <td>Dinner</td>\n",
              "      <td>3</td>\n",
              "      <td>16.94</td>\n",
              "      <td>Gregory Clark</td>\n",
              "      <td>5473850968388236</td>\n",
              "      <td>Sat1954</td>\n",
              "    </tr>\n",
              "    <tr>\n",
              "      <th>212</th>\n",
              "      <td>48.33</td>\n",
              "      <td>9.00</td>\n",
              "      <td>Male</td>\n",
              "      <td>No</td>\n",
              "      <td>Sat</td>\n",
              "      <td>Dinner</td>\n",
              "      <td>4</td>\n",
              "      <td>12.08</td>\n",
              "      <td>Alex Williamson</td>\n",
              "      <td>676218815212</td>\n",
              "      <td>Sat4590</td>\n",
              "    </tr>\n",
              "    <tr>\n",
              "      <th>23</th>\n",
              "      <td>39.42</td>\n",
              "      <td>7.58</td>\n",
              "      <td>Male</td>\n",
              "      <td>No</td>\n",
              "      <td>Sat</td>\n",
              "      <td>Dinner</td>\n",
              "      <td>4</td>\n",
              "      <td>9.86</td>\n",
              "      <td>Lance Peterson</td>\n",
              "      <td>3542584061609808</td>\n",
              "      <td>Sat239</td>\n",
              "    </tr>\n",
              "    <tr>\n",
              "      <th>59</th>\n",
              "      <td>48.27</td>\n",
              "      <td>6.73</td>\n",
              "      <td>Male</td>\n",
              "      <td>No</td>\n",
              "      <td>Sat</td>\n",
              "      <td>Dinner</td>\n",
              "      <td>4</td>\n",
              "      <td>12.07</td>\n",
              "      <td>Brian Ortiz</td>\n",
              "      <td>6596453823950595</td>\n",
              "      <td>Sat8139</td>\n",
              "    </tr>\n",
              "    <tr>\n",
              "      <th>141</th>\n",
              "      <td>34.30</td>\n",
              "      <td>6.70</td>\n",
              "      <td>Male</td>\n",
              "      <td>No</td>\n",
              "      <td>Thur</td>\n",
              "      <td>Lunch</td>\n",
              "      <td>6</td>\n",
              "      <td>5.72</td>\n",
              "      <td>Steven Carlson</td>\n",
              "      <td>3526515703718508</td>\n",
              "      <td>Thur1025</td>\n",
              "    </tr>\n",
              "    <tr>\n",
              "      <th>214</th>\n",
              "      <td>28.17</td>\n",
              "      <td>6.50</td>\n",
              "      <td>Female</td>\n",
              "      <td>Yes</td>\n",
              "      <td>Sat</td>\n",
              "      <td>Dinner</td>\n",
              "      <td>3</td>\n",
              "      <td>9.39</td>\n",
              "      <td>Marissa Jackson</td>\n",
              "      <td>4922302538691962</td>\n",
              "      <td>Sat3374</td>\n",
              "    </tr>\n",
              "    <tr>\n",
              "      <th>183</th>\n",
              "      <td>23.17</td>\n",
              "      <td>6.50</td>\n",
              "      <td>Male</td>\n",
              "      <td>Yes</td>\n",
              "      <td>Sun</td>\n",
              "      <td>Dinner</td>\n",
              "      <td>4</td>\n",
              "      <td>5.79</td>\n",
              "      <td>Dr. Michael James</td>\n",
              "      <td>4718501859162</td>\n",
              "      <td>Sun6059</td>\n",
              "    </tr>\n",
              "    <tr>\n",
              "      <th>47</th>\n",
              "      <td>32.40</td>\n",
              "      <td>6.00</td>\n",
              "      <td>Male</td>\n",
              "      <td>No</td>\n",
              "      <td>Sun</td>\n",
              "      <td>Dinner</td>\n",
              "      <td>4</td>\n",
              "      <td>8.10</td>\n",
              "      <td>James Barnes</td>\n",
              "      <td>3552002592874186</td>\n",
              "      <td>Sun9677</td>\n",
              "    </tr>\n",
              "    <tr>\n",
              "      <th>239</th>\n",
              "      <td>29.03</td>\n",
              "      <td>5.92</td>\n",
              "      <td>Male</td>\n",
              "      <td>No</td>\n",
              "      <td>Sat</td>\n",
              "      <td>Dinner</td>\n",
              "      <td>3</td>\n",
              "      <td>9.68</td>\n",
              "      <td>Michael Avila</td>\n",
              "      <td>5296068606052842</td>\n",
              "      <td>Sat2657</td>\n",
              "    </tr>\n",
              "    <tr>\n",
              "      <th>88</th>\n",
              "      <td>24.71</td>\n",
              "      <td>5.85</td>\n",
              "      <td>Male</td>\n",
              "      <td>No</td>\n",
              "      <td>Thur</td>\n",
              "      <td>Lunch</td>\n",
              "      <td>2</td>\n",
              "      <td>12.36</td>\n",
              "      <td>Roger Taylor</td>\n",
              "      <td>4410248629955</td>\n",
              "      <td>Thur9003</td>\n",
              "    </tr>\n",
              "  </tbody>\n",
              "</table>\n",
              "</div>"
            ],
            "text/plain": [
              "     total_bill    tip     sex  ...         Payer Name         CC Number Payment ID\n",
              "170       50.81  10.00    Male  ...      Gregory Clark  5473850968388236    Sat1954\n",
              "212       48.33   9.00    Male  ...    Alex Williamson      676218815212    Sat4590\n",
              "23        39.42   7.58    Male  ...     Lance Peterson  3542584061609808     Sat239\n",
              "59        48.27   6.73    Male  ...        Brian Ortiz  6596453823950595    Sat8139\n",
              "141       34.30   6.70    Male  ...     Steven Carlson  3526515703718508   Thur1025\n",
              "214       28.17   6.50  Female  ...    Marissa Jackson  4922302538691962    Sat3374\n",
              "183       23.17   6.50    Male  ...  Dr. Michael James     4718501859162    Sun6059\n",
              "47        32.40   6.00    Male  ...       James Barnes  3552002592874186    Sun9677\n",
              "239       29.03   5.92    Male  ...      Michael Avila  5296068606052842    Sat2657\n",
              "88        24.71   5.85    Male  ...       Roger Taylor     4410248629955   Thur9003\n",
              "\n",
              "[10 rows x 11 columns]"
            ]
          },
          "metadata": {
            "tags": []
          },
          "execution_count": 125
        }
      ]
    },
    {
      "cell_type": "code",
      "metadata": {
        "colab": {
          "base_uri": "https://localhost:8080/",
          "height": 786
        },
        "id": "AdA8njMdOBYS",
        "outputId": "0cf5c620-226c-4c13-9b2d-419c4bc8fe69"
      },
      "source": [
        "df.sample(frac = 0.1, random_state = 5)"
      ],
      "execution_count": 126,
      "outputs": [
        {
          "output_type": "execute_result",
          "data": {
            "text/html": [
              "<div>\n",
              "<style scoped>\n",
              "    .dataframe tbody tr th:only-of-type {\n",
              "        vertical-align: middle;\n",
              "    }\n",
              "\n",
              "    .dataframe tbody tr th {\n",
              "        vertical-align: top;\n",
              "    }\n",
              "\n",
              "    .dataframe thead th {\n",
              "        text-align: right;\n",
              "    }\n",
              "</style>\n",
              "<table border=\"1\" class=\"dataframe\">\n",
              "  <thead>\n",
              "    <tr style=\"text-align: right;\">\n",
              "      <th></th>\n",
              "      <th>total_bill</th>\n",
              "      <th>tip</th>\n",
              "      <th>sex</th>\n",
              "      <th>smoker</th>\n",
              "      <th>day</th>\n",
              "      <th>time</th>\n",
              "      <th>size</th>\n",
              "      <th>price_per_person</th>\n",
              "      <th>Payer Name</th>\n",
              "      <th>CC Number</th>\n",
              "      <th>Payment ID</th>\n",
              "    </tr>\n",
              "  </thead>\n",
              "  <tbody>\n",
              "    <tr>\n",
              "      <th>55</th>\n",
              "      <td>19.49</td>\n",
              "      <td>3.51</td>\n",
              "      <td>Male</td>\n",
              "      <td>No</td>\n",
              "      <td>Sun</td>\n",
              "      <td>Dinner</td>\n",
              "      <td>2</td>\n",
              "      <td>9.74</td>\n",
              "      <td>Michael Hamilton</td>\n",
              "      <td>6502227786581768</td>\n",
              "      <td>Sun1118</td>\n",
              "    </tr>\n",
              "    <tr>\n",
              "      <th>191</th>\n",
              "      <td>19.81</td>\n",
              "      <td>4.19</td>\n",
              "      <td>Female</td>\n",
              "      <td>Yes</td>\n",
              "      <td>Thur</td>\n",
              "      <td>Lunch</td>\n",
              "      <td>2</td>\n",
              "      <td>9.90</td>\n",
              "      <td>Kristy Boyd</td>\n",
              "      <td>4317015327600068</td>\n",
              "      <td>Thur967</td>\n",
              "    </tr>\n",
              "    <tr>\n",
              "      <th>210</th>\n",
              "      <td>30.06</td>\n",
              "      <td>2.00</td>\n",
              "      <td>Male</td>\n",
              "      <td>Yes</td>\n",
              "      <td>Sat</td>\n",
              "      <td>Dinner</td>\n",
              "      <td>3</td>\n",
              "      <td>10.02</td>\n",
              "      <td>Shawn Mendoza</td>\n",
              "      <td>30184049218122</td>\n",
              "      <td>Sat8361</td>\n",
              "    </tr>\n",
              "    <tr>\n",
              "      <th>96</th>\n",
              "      <td>27.28</td>\n",
              "      <td>4.00</td>\n",
              "      <td>Male</td>\n",
              "      <td>Yes</td>\n",
              "      <td>Fri</td>\n",
              "      <td>Dinner</td>\n",
              "      <td>2</td>\n",
              "      <td>13.64</td>\n",
              "      <td>Eric Carter</td>\n",
              "      <td>4563054452787961</td>\n",
              "      <td>Fri3159</td>\n",
              "    </tr>\n",
              "    <tr>\n",
              "      <th>163</th>\n",
              "      <td>13.81</td>\n",
              "      <td>2.00</td>\n",
              "      <td>Male</td>\n",
              "      <td>No</td>\n",
              "      <td>Sun</td>\n",
              "      <td>Dinner</td>\n",
              "      <td>2</td>\n",
              "      <td>6.90</td>\n",
              "      <td>Charles Newton</td>\n",
              "      <td>5552793481414044</td>\n",
              "      <td>Sun8594</td>\n",
              "    </tr>\n",
              "    <tr>\n",
              "      <th>150</th>\n",
              "      <td>14.07</td>\n",
              "      <td>2.50</td>\n",
              "      <td>Male</td>\n",
              "      <td>No</td>\n",
              "      <td>Sun</td>\n",
              "      <td>Dinner</td>\n",
              "      <td>2</td>\n",
              "      <td>7.04</td>\n",
              "      <td>Luke Rice</td>\n",
              "      <td>4813617017359506</td>\n",
              "      <td>Sun8863</td>\n",
              "    </tr>\n",
              "    <tr>\n",
              "      <th>240</th>\n",
              "      <td>27.18</td>\n",
              "      <td>2.00</td>\n",
              "      <td>Female</td>\n",
              "      <td>Yes</td>\n",
              "      <td>Sat</td>\n",
              "      <td>Dinner</td>\n",
              "      <td>2</td>\n",
              "      <td>13.59</td>\n",
              "      <td>Monica Sanders</td>\n",
              "      <td>3506806155565404</td>\n",
              "      <td>Sat1766</td>\n",
              "    </tr>\n",
              "    <tr>\n",
              "      <th>51</th>\n",
              "      <td>10.29</td>\n",
              "      <td>2.60</td>\n",
              "      <td>Female</td>\n",
              "      <td>No</td>\n",
              "      <td>Sun</td>\n",
              "      <td>Dinner</td>\n",
              "      <td>2</td>\n",
              "      <td>5.14</td>\n",
              "      <td>Jessica Ibarra</td>\n",
              "      <td>4999759463713</td>\n",
              "      <td>Sun4474</td>\n",
              "    </tr>\n",
              "    <tr>\n",
              "      <th>140</th>\n",
              "      <td>17.47</td>\n",
              "      <td>3.50</td>\n",
              "      <td>Female</td>\n",
              "      <td>No</td>\n",
              "      <td>Thur</td>\n",
              "      <td>Lunch</td>\n",
              "      <td>2</td>\n",
              "      <td>8.74</td>\n",
              "      <td>Kayla Rios</td>\n",
              "      <td>5233918213804470</td>\n",
              "      <td>Thur3906</td>\n",
              "    </tr>\n",
              "    <tr>\n",
              "      <th>89</th>\n",
              "      <td>21.16</td>\n",
              "      <td>3.00</td>\n",
              "      <td>Male</td>\n",
              "      <td>No</td>\n",
              "      <td>Thur</td>\n",
              "      <td>Lunch</td>\n",
              "      <td>2</td>\n",
              "      <td>10.58</td>\n",
              "      <td>Keith Lewis</td>\n",
              "      <td>4356005144080422</td>\n",
              "      <td>Thur6273</td>\n",
              "    </tr>\n",
              "    <tr>\n",
              "      <th>104</th>\n",
              "      <td>20.92</td>\n",
              "      <td>4.08</td>\n",
              "      <td>Female</td>\n",
              "      <td>No</td>\n",
              "      <td>Sat</td>\n",
              "      <td>Dinner</td>\n",
              "      <td>2</td>\n",
              "      <td>10.46</td>\n",
              "      <td>Gabrielle Frederick</td>\n",
              "      <td>4013010878990106</td>\n",
              "      <td>Sat3194</td>\n",
              "    </tr>\n",
              "    <tr>\n",
              "      <th>197</th>\n",
              "      <td>43.11</td>\n",
              "      <td>5.00</td>\n",
              "      <td>Female</td>\n",
              "      <td>Yes</td>\n",
              "      <td>Thur</td>\n",
              "      <td>Lunch</td>\n",
              "      <td>4</td>\n",
              "      <td>10.78</td>\n",
              "      <td>Brooke Soto</td>\n",
              "      <td>5544902205760175</td>\n",
              "      <td>Thur9313</td>\n",
              "    </tr>\n",
              "    <tr>\n",
              "      <th>75</th>\n",
              "      <td>10.51</td>\n",
              "      <td>1.25</td>\n",
              "      <td>Male</td>\n",
              "      <td>No</td>\n",
              "      <td>Sat</td>\n",
              "      <td>Dinner</td>\n",
              "      <td>2</td>\n",
              "      <td>5.26</td>\n",
              "      <td>Kenneth Hayes</td>\n",
              "      <td>213142079731108</td>\n",
              "      <td>Sat5056</td>\n",
              "    </tr>\n",
              "    <tr>\n",
              "      <th>98</th>\n",
              "      <td>21.01</td>\n",
              "      <td>3.00</td>\n",
              "      <td>Male</td>\n",
              "      <td>Yes</td>\n",
              "      <td>Fri</td>\n",
              "      <td>Dinner</td>\n",
              "      <td>2</td>\n",
              "      <td>10.50</td>\n",
              "      <td>Michael Li</td>\n",
              "      <td>4831801127457917</td>\n",
              "      <td>Fri144</td>\n",
              "    </tr>\n",
              "    <tr>\n",
              "      <th>42</th>\n",
              "      <td>13.94</td>\n",
              "      <td>3.06</td>\n",
              "      <td>Male</td>\n",
              "      <td>No</td>\n",
              "      <td>Sun</td>\n",
              "      <td>Dinner</td>\n",
              "      <td>2</td>\n",
              "      <td>6.97</td>\n",
              "      <td>Bryan Brown</td>\n",
              "      <td>36231182760859</td>\n",
              "      <td>Sun1699</td>\n",
              "    </tr>\n",
              "    <tr>\n",
              "      <th>61</th>\n",
              "      <td>13.81</td>\n",
              "      <td>2.00</td>\n",
              "      <td>Male</td>\n",
              "      <td>Yes</td>\n",
              "      <td>Sat</td>\n",
              "      <td>Dinner</td>\n",
              "      <td>2</td>\n",
              "      <td>6.90</td>\n",
              "      <td>Ryan Hernandez</td>\n",
              "      <td>4766834726806</td>\n",
              "      <td>Sat3030</td>\n",
              "    </tr>\n",
              "    <tr>\n",
              "      <th>227</th>\n",
              "      <td>20.45</td>\n",
              "      <td>3.00</td>\n",
              "      <td>Male</td>\n",
              "      <td>No</td>\n",
              "      <td>Sat</td>\n",
              "      <td>Dinner</td>\n",
              "      <td>4</td>\n",
              "      <td>5.11</td>\n",
              "      <td>Robert Bradley</td>\n",
              "      <td>213141668145910</td>\n",
              "      <td>Sat4319</td>\n",
              "    </tr>\n",
              "    <tr>\n",
              "      <th>130</th>\n",
              "      <td>19.08</td>\n",
              "      <td>1.50</td>\n",
              "      <td>Male</td>\n",
              "      <td>No</td>\n",
              "      <td>Thur</td>\n",
              "      <td>Lunch</td>\n",
              "      <td>2</td>\n",
              "      <td>9.54</td>\n",
              "      <td>Seth Sexton</td>\n",
              "      <td>213113680829581</td>\n",
              "      <td>Thur1446</td>\n",
              "    </tr>\n",
              "    <tr>\n",
              "      <th>56</th>\n",
              "      <td>38.01</td>\n",
              "      <td>3.00</td>\n",
              "      <td>Male</td>\n",
              "      <td>Yes</td>\n",
              "      <td>Sat</td>\n",
              "      <td>Dinner</td>\n",
              "      <td>4</td>\n",
              "      <td>9.50</td>\n",
              "      <td>James Christensen DDS</td>\n",
              "      <td>349793629453226</td>\n",
              "      <td>Sat8903</td>\n",
              "    </tr>\n",
              "    <tr>\n",
              "      <th>6</th>\n",
              "      <td>8.77</td>\n",
              "      <td>2.00</td>\n",
              "      <td>Male</td>\n",
              "      <td>No</td>\n",
              "      <td>Sun</td>\n",
              "      <td>Dinner</td>\n",
              "      <td>2</td>\n",
              "      <td>4.38</td>\n",
              "      <td>Kristopher Johnson</td>\n",
              "      <td>2223727524230344</td>\n",
              "      <td>Sun5985</td>\n",
              "    </tr>\n",
              "    <tr>\n",
              "      <th>123</th>\n",
              "      <td>15.95</td>\n",
              "      <td>2.00</td>\n",
              "      <td>Male</td>\n",
              "      <td>No</td>\n",
              "      <td>Thur</td>\n",
              "      <td>Lunch</td>\n",
              "      <td>2</td>\n",
              "      <td>7.98</td>\n",
              "      <td>Christopher Lang</td>\n",
              "      <td>4820629318698319</td>\n",
              "      <td>Thur1992</td>\n",
              "    </tr>\n",
              "    <tr>\n",
              "      <th>149</th>\n",
              "      <td>7.51</td>\n",
              "      <td>2.00</td>\n",
              "      <td>Male</td>\n",
              "      <td>No</td>\n",
              "      <td>Thur</td>\n",
              "      <td>Lunch</td>\n",
              "      <td>2</td>\n",
              "      <td>3.76</td>\n",
              "      <td>Daniel Robbins</td>\n",
              "      <td>4823139288341889</td>\n",
              "      <td>Thur6321</td>\n",
              "    </tr>\n",
              "    <tr>\n",
              "      <th>174</th>\n",
              "      <td>16.82</td>\n",
              "      <td>4.00</td>\n",
              "      <td>Male</td>\n",
              "      <td>Yes</td>\n",
              "      <td>Sun</td>\n",
              "      <td>Dinner</td>\n",
              "      <td>2</td>\n",
              "      <td>8.41</td>\n",
              "      <td>Brian Miles</td>\n",
              "      <td>3586342145399277</td>\n",
              "      <td>Sun7621</td>\n",
              "    </tr>\n",
              "    <tr>\n",
              "      <th>194</th>\n",
              "      <td>16.58</td>\n",
              "      <td>4.00</td>\n",
              "      <td>Male</td>\n",
              "      <td>Yes</td>\n",
              "      <td>Thur</td>\n",
              "      <td>Lunch</td>\n",
              "      <td>2</td>\n",
              "      <td>8.29</td>\n",
              "      <td>Benjamin Weber</td>\n",
              "      <td>676210011505</td>\n",
              "      <td>Thur9318</td>\n",
              "    </tr>\n",
              "  </tbody>\n",
              "</table>\n",
              "</div>"
            ],
            "text/plain": [
              "     total_bill   tip  ...         CC Number Payment ID\n",
              "55        19.49  3.51  ...  6502227786581768    Sun1118\n",
              "191       19.81  4.19  ...  4317015327600068    Thur967\n",
              "210       30.06  2.00  ...    30184049218122    Sat8361\n",
              "96        27.28  4.00  ...  4563054452787961    Fri3159\n",
              "163       13.81  2.00  ...  5552793481414044    Sun8594\n",
              "150       14.07  2.50  ...  4813617017359506    Sun8863\n",
              "240       27.18  2.00  ...  3506806155565404    Sat1766\n",
              "51        10.29  2.60  ...     4999759463713    Sun4474\n",
              "140       17.47  3.50  ...  5233918213804470   Thur3906\n",
              "89        21.16  3.00  ...  4356005144080422   Thur6273\n",
              "104       20.92  4.08  ...  4013010878990106    Sat3194\n",
              "197       43.11  5.00  ...  5544902205760175   Thur9313\n",
              "75        10.51  1.25  ...   213142079731108    Sat5056\n",
              "98        21.01  3.00  ...  4831801127457917     Fri144\n",
              "42        13.94  3.06  ...    36231182760859    Sun1699\n",
              "61        13.81  2.00  ...     4766834726806    Sat3030\n",
              "227       20.45  3.00  ...   213141668145910    Sat4319\n",
              "130       19.08  1.50  ...   213113680829581   Thur1446\n",
              "56        38.01  3.00  ...   349793629453226    Sat8903\n",
              "6          8.77  2.00  ...  2223727524230344    Sun5985\n",
              "123       15.95  2.00  ...  4820629318698319   Thur1992\n",
              "149        7.51  2.00  ...  4823139288341889   Thur6321\n",
              "174       16.82  4.00  ...  3586342145399277    Sun7621\n",
              "194       16.58  4.00  ...      676210011505   Thur9318\n",
              "\n",
              "[24 rows x 11 columns]"
            ]
          },
          "metadata": {
            "tags": []
          },
          "execution_count": 126
        }
      ]
    },
    {
      "cell_type": "markdown",
      "metadata": {
        "id": "kAcVljN6UkCd"
      },
      "source": [
        "# Missing Data"
      ]
    },
    {
      "cell_type": "code",
      "metadata": {
        "id": "dfGBvu6tUuhq"
      },
      "source": [
        "df = pd.read_csv('movie_scores.csv')"
      ],
      "execution_count": 127,
      "outputs": []
    },
    {
      "cell_type": "code",
      "metadata": {
        "colab": {
          "base_uri": "https://localhost:8080/",
          "height": 202
        },
        "id": "ajOjsSuiWj2z",
        "outputId": "2c1427fa-cf76-4566-d282-c4b64b67d3f5"
      },
      "source": [
        "df"
      ],
      "execution_count": 128,
      "outputs": [
        {
          "output_type": "execute_result",
          "data": {
            "text/html": [
              "<div>\n",
              "<style scoped>\n",
              "    .dataframe tbody tr th:only-of-type {\n",
              "        vertical-align: middle;\n",
              "    }\n",
              "\n",
              "    .dataframe tbody tr th {\n",
              "        vertical-align: top;\n",
              "    }\n",
              "\n",
              "    .dataframe thead th {\n",
              "        text-align: right;\n",
              "    }\n",
              "</style>\n",
              "<table border=\"1\" class=\"dataframe\">\n",
              "  <thead>\n",
              "    <tr style=\"text-align: right;\">\n",
              "      <th></th>\n",
              "      <th>first_name</th>\n",
              "      <th>last_name</th>\n",
              "      <th>age</th>\n",
              "      <th>sex</th>\n",
              "      <th>pre_movie_score</th>\n",
              "      <th>post_movie_score</th>\n",
              "    </tr>\n",
              "  </thead>\n",
              "  <tbody>\n",
              "    <tr>\n",
              "      <th>0</th>\n",
              "      <td>Tom</td>\n",
              "      <td>Hanks</td>\n",
              "      <td>63.0</td>\n",
              "      <td>m</td>\n",
              "      <td>8.0</td>\n",
              "      <td>10.0</td>\n",
              "    </tr>\n",
              "    <tr>\n",
              "      <th>1</th>\n",
              "      <td>NaN</td>\n",
              "      <td>NaN</td>\n",
              "      <td>NaN</td>\n",
              "      <td>NaN</td>\n",
              "      <td>NaN</td>\n",
              "      <td>NaN</td>\n",
              "    </tr>\n",
              "    <tr>\n",
              "      <th>2</th>\n",
              "      <td>Hugh</td>\n",
              "      <td>Jackman</td>\n",
              "      <td>51.0</td>\n",
              "      <td>m</td>\n",
              "      <td>NaN</td>\n",
              "      <td>NaN</td>\n",
              "    </tr>\n",
              "    <tr>\n",
              "      <th>3</th>\n",
              "      <td>Oprah</td>\n",
              "      <td>Winfrey</td>\n",
              "      <td>66.0</td>\n",
              "      <td>f</td>\n",
              "      <td>6.0</td>\n",
              "      <td>8.0</td>\n",
              "    </tr>\n",
              "    <tr>\n",
              "      <th>4</th>\n",
              "      <td>Emma</td>\n",
              "      <td>Stone</td>\n",
              "      <td>31.0</td>\n",
              "      <td>f</td>\n",
              "      <td>7.0</td>\n",
              "      <td>9.0</td>\n",
              "    </tr>\n",
              "  </tbody>\n",
              "</table>\n",
              "</div>"
            ],
            "text/plain": [
              "  first_name last_name   age  sex  pre_movie_score  post_movie_score\n",
              "0        Tom     Hanks  63.0    m              8.0              10.0\n",
              "1        NaN       NaN   NaN  NaN              NaN               NaN\n",
              "2       Hugh   Jackman  51.0    m              NaN               NaN\n",
              "3      Oprah   Winfrey  66.0    f              6.0               8.0\n",
              "4       Emma     Stone  31.0    f              7.0               9.0"
            ]
          },
          "metadata": {
            "tags": []
          },
          "execution_count": 128
        }
      ]
    },
    {
      "cell_type": "code",
      "metadata": {
        "colab": {
          "base_uri": "https://localhost:8080/",
          "height": 202
        },
        "id": "W80Ryu2bWoc0",
        "outputId": "ba93b26b-7b21-45f2-dc85-d84f76f61353"
      },
      "source": [
        "df.isnull()"
      ],
      "execution_count": 129,
      "outputs": [
        {
          "output_type": "execute_result",
          "data": {
            "text/html": [
              "<div>\n",
              "<style scoped>\n",
              "    .dataframe tbody tr th:only-of-type {\n",
              "        vertical-align: middle;\n",
              "    }\n",
              "\n",
              "    .dataframe tbody tr th {\n",
              "        vertical-align: top;\n",
              "    }\n",
              "\n",
              "    .dataframe thead th {\n",
              "        text-align: right;\n",
              "    }\n",
              "</style>\n",
              "<table border=\"1\" class=\"dataframe\">\n",
              "  <thead>\n",
              "    <tr style=\"text-align: right;\">\n",
              "      <th></th>\n",
              "      <th>first_name</th>\n",
              "      <th>last_name</th>\n",
              "      <th>age</th>\n",
              "      <th>sex</th>\n",
              "      <th>pre_movie_score</th>\n",
              "      <th>post_movie_score</th>\n",
              "    </tr>\n",
              "  </thead>\n",
              "  <tbody>\n",
              "    <tr>\n",
              "      <th>0</th>\n",
              "      <td>False</td>\n",
              "      <td>False</td>\n",
              "      <td>False</td>\n",
              "      <td>False</td>\n",
              "      <td>False</td>\n",
              "      <td>False</td>\n",
              "    </tr>\n",
              "    <tr>\n",
              "      <th>1</th>\n",
              "      <td>True</td>\n",
              "      <td>True</td>\n",
              "      <td>True</td>\n",
              "      <td>True</td>\n",
              "      <td>True</td>\n",
              "      <td>True</td>\n",
              "    </tr>\n",
              "    <tr>\n",
              "      <th>2</th>\n",
              "      <td>False</td>\n",
              "      <td>False</td>\n",
              "      <td>False</td>\n",
              "      <td>False</td>\n",
              "      <td>True</td>\n",
              "      <td>True</td>\n",
              "    </tr>\n",
              "    <tr>\n",
              "      <th>3</th>\n",
              "      <td>False</td>\n",
              "      <td>False</td>\n",
              "      <td>False</td>\n",
              "      <td>False</td>\n",
              "      <td>False</td>\n",
              "      <td>False</td>\n",
              "    </tr>\n",
              "    <tr>\n",
              "      <th>4</th>\n",
              "      <td>False</td>\n",
              "      <td>False</td>\n",
              "      <td>False</td>\n",
              "      <td>False</td>\n",
              "      <td>False</td>\n",
              "      <td>False</td>\n",
              "    </tr>\n",
              "  </tbody>\n",
              "</table>\n",
              "</div>"
            ],
            "text/plain": [
              "   first_name  last_name    age    sex  pre_movie_score  post_movie_score\n",
              "0       False      False  False  False            False             False\n",
              "1        True       True   True   True             True              True\n",
              "2       False      False  False  False             True              True\n",
              "3       False      False  False  False            False             False\n",
              "4       False      False  False  False            False             False"
            ]
          },
          "metadata": {
            "tags": []
          },
          "execution_count": 129
        }
      ]
    },
    {
      "cell_type": "code",
      "metadata": {
        "colab": {
          "base_uri": "https://localhost:8080/",
          "height": 141
        },
        "id": "CahSrmpmW999",
        "outputId": "7a8b5b9d-62c9-4607-bc3a-607eb525c5cb"
      },
      "source": [
        "df[df['pre_movie_score'].notnull()]"
      ],
      "execution_count": 130,
      "outputs": [
        {
          "output_type": "execute_result",
          "data": {
            "text/html": [
              "<div>\n",
              "<style scoped>\n",
              "    .dataframe tbody tr th:only-of-type {\n",
              "        vertical-align: middle;\n",
              "    }\n",
              "\n",
              "    .dataframe tbody tr th {\n",
              "        vertical-align: top;\n",
              "    }\n",
              "\n",
              "    .dataframe thead th {\n",
              "        text-align: right;\n",
              "    }\n",
              "</style>\n",
              "<table border=\"1\" class=\"dataframe\">\n",
              "  <thead>\n",
              "    <tr style=\"text-align: right;\">\n",
              "      <th></th>\n",
              "      <th>first_name</th>\n",
              "      <th>last_name</th>\n",
              "      <th>age</th>\n",
              "      <th>sex</th>\n",
              "      <th>pre_movie_score</th>\n",
              "      <th>post_movie_score</th>\n",
              "    </tr>\n",
              "  </thead>\n",
              "  <tbody>\n",
              "    <tr>\n",
              "      <th>0</th>\n",
              "      <td>Tom</td>\n",
              "      <td>Hanks</td>\n",
              "      <td>63.0</td>\n",
              "      <td>m</td>\n",
              "      <td>8.0</td>\n",
              "      <td>10.0</td>\n",
              "    </tr>\n",
              "    <tr>\n",
              "      <th>3</th>\n",
              "      <td>Oprah</td>\n",
              "      <td>Winfrey</td>\n",
              "      <td>66.0</td>\n",
              "      <td>f</td>\n",
              "      <td>6.0</td>\n",
              "      <td>8.0</td>\n",
              "    </tr>\n",
              "    <tr>\n",
              "      <th>4</th>\n",
              "      <td>Emma</td>\n",
              "      <td>Stone</td>\n",
              "      <td>31.0</td>\n",
              "      <td>f</td>\n",
              "      <td>7.0</td>\n",
              "      <td>9.0</td>\n",
              "    </tr>\n",
              "  </tbody>\n",
              "</table>\n",
              "</div>"
            ],
            "text/plain": [
              "  first_name last_name   age sex  pre_movie_score  post_movie_score\n",
              "0        Tom     Hanks  63.0   m              8.0              10.0\n",
              "3      Oprah   Winfrey  66.0   f              6.0               8.0\n",
              "4       Emma     Stone  31.0   f              7.0               9.0"
            ]
          },
          "metadata": {
            "tags": []
          },
          "execution_count": 130
        }
      ]
    },
    {
      "cell_type": "code",
      "metadata": {
        "colab": {
          "base_uri": "https://localhost:8080/",
          "height": 141
        },
        "id": "02romhVfX2Zz",
        "outputId": "19ac5d5c-8431-4efe-baa4-f54ffcddfeb0"
      },
      "source": [
        "df.dropna()"
      ],
      "execution_count": 132,
      "outputs": [
        {
          "output_type": "execute_result",
          "data": {
            "text/html": [
              "<div>\n",
              "<style scoped>\n",
              "    .dataframe tbody tr th:only-of-type {\n",
              "        vertical-align: middle;\n",
              "    }\n",
              "\n",
              "    .dataframe tbody tr th {\n",
              "        vertical-align: top;\n",
              "    }\n",
              "\n",
              "    .dataframe thead th {\n",
              "        text-align: right;\n",
              "    }\n",
              "</style>\n",
              "<table border=\"1\" class=\"dataframe\">\n",
              "  <thead>\n",
              "    <tr style=\"text-align: right;\">\n",
              "      <th></th>\n",
              "      <th>first_name</th>\n",
              "      <th>last_name</th>\n",
              "      <th>age</th>\n",
              "      <th>sex</th>\n",
              "      <th>pre_movie_score</th>\n",
              "      <th>post_movie_score</th>\n",
              "    </tr>\n",
              "  </thead>\n",
              "  <tbody>\n",
              "    <tr>\n",
              "      <th>0</th>\n",
              "      <td>Tom</td>\n",
              "      <td>Hanks</td>\n",
              "      <td>63.0</td>\n",
              "      <td>m</td>\n",
              "      <td>8.0</td>\n",
              "      <td>10.0</td>\n",
              "    </tr>\n",
              "    <tr>\n",
              "      <th>3</th>\n",
              "      <td>Oprah</td>\n",
              "      <td>Winfrey</td>\n",
              "      <td>66.0</td>\n",
              "      <td>f</td>\n",
              "      <td>6.0</td>\n",
              "      <td>8.0</td>\n",
              "    </tr>\n",
              "    <tr>\n",
              "      <th>4</th>\n",
              "      <td>Emma</td>\n",
              "      <td>Stone</td>\n",
              "      <td>31.0</td>\n",
              "      <td>f</td>\n",
              "      <td>7.0</td>\n",
              "      <td>9.0</td>\n",
              "    </tr>\n",
              "  </tbody>\n",
              "</table>\n",
              "</div>"
            ],
            "text/plain": [
              "  first_name last_name   age sex  pre_movie_score  post_movie_score\n",
              "0        Tom     Hanks  63.0   m              8.0              10.0\n",
              "3      Oprah   Winfrey  66.0   f              6.0               8.0\n",
              "4       Emma     Stone  31.0   f              7.0               9.0"
            ]
          },
          "metadata": {
            "tags": []
          },
          "execution_count": 132
        }
      ]
    },
    {
      "cell_type": "code",
      "metadata": {
        "colab": {
          "base_uri": "https://localhost:8080/",
          "height": 172
        },
        "id": "D_LWm-h6YG1F",
        "outputId": "947f9394-c644-47b4-ea22-427f87c60c2b"
      },
      "source": [
        "df.dropna(thresh = 3)"
      ],
      "execution_count": 133,
      "outputs": [
        {
          "output_type": "execute_result",
          "data": {
            "text/html": [
              "<div>\n",
              "<style scoped>\n",
              "    .dataframe tbody tr th:only-of-type {\n",
              "        vertical-align: middle;\n",
              "    }\n",
              "\n",
              "    .dataframe tbody tr th {\n",
              "        vertical-align: top;\n",
              "    }\n",
              "\n",
              "    .dataframe thead th {\n",
              "        text-align: right;\n",
              "    }\n",
              "</style>\n",
              "<table border=\"1\" class=\"dataframe\">\n",
              "  <thead>\n",
              "    <tr style=\"text-align: right;\">\n",
              "      <th></th>\n",
              "      <th>first_name</th>\n",
              "      <th>last_name</th>\n",
              "      <th>age</th>\n",
              "      <th>sex</th>\n",
              "      <th>pre_movie_score</th>\n",
              "      <th>post_movie_score</th>\n",
              "    </tr>\n",
              "  </thead>\n",
              "  <tbody>\n",
              "    <tr>\n",
              "      <th>0</th>\n",
              "      <td>Tom</td>\n",
              "      <td>Hanks</td>\n",
              "      <td>63.0</td>\n",
              "      <td>m</td>\n",
              "      <td>8.0</td>\n",
              "      <td>10.0</td>\n",
              "    </tr>\n",
              "    <tr>\n",
              "      <th>2</th>\n",
              "      <td>Hugh</td>\n",
              "      <td>Jackman</td>\n",
              "      <td>51.0</td>\n",
              "      <td>m</td>\n",
              "      <td>NaN</td>\n",
              "      <td>NaN</td>\n",
              "    </tr>\n",
              "    <tr>\n",
              "      <th>3</th>\n",
              "      <td>Oprah</td>\n",
              "      <td>Winfrey</td>\n",
              "      <td>66.0</td>\n",
              "      <td>f</td>\n",
              "      <td>6.0</td>\n",
              "      <td>8.0</td>\n",
              "    </tr>\n",
              "    <tr>\n",
              "      <th>4</th>\n",
              "      <td>Emma</td>\n",
              "      <td>Stone</td>\n",
              "      <td>31.0</td>\n",
              "      <td>f</td>\n",
              "      <td>7.0</td>\n",
              "      <td>9.0</td>\n",
              "    </tr>\n",
              "  </tbody>\n",
              "</table>\n",
              "</div>"
            ],
            "text/plain": [
              "  first_name last_name   age sex  pre_movie_score  post_movie_score\n",
              "0        Tom     Hanks  63.0   m              8.0              10.0\n",
              "2       Hugh   Jackman  51.0   m              NaN               NaN\n",
              "3      Oprah   Winfrey  66.0   f              6.0               8.0\n",
              "4       Emma     Stone  31.0   f              7.0               9.0"
            ]
          },
          "metadata": {
            "tags": []
          },
          "execution_count": 133
        }
      ]
    },
    {
      "cell_type": "code",
      "metadata": {
        "colab": {
          "base_uri": "https://localhost:8080/",
          "height": 202
        },
        "id": "LJuo6mbzYPsl",
        "outputId": "721e29e5-2a33-45d1-fa34-9315bf648456"
      },
      "source": [
        "df.dropna(axis = 1, thresh = 1)"
      ],
      "execution_count": 134,
      "outputs": [
        {
          "output_type": "execute_result",
          "data": {
            "text/html": [
              "<div>\n",
              "<style scoped>\n",
              "    .dataframe tbody tr th:only-of-type {\n",
              "        vertical-align: middle;\n",
              "    }\n",
              "\n",
              "    .dataframe tbody tr th {\n",
              "        vertical-align: top;\n",
              "    }\n",
              "\n",
              "    .dataframe thead th {\n",
              "        text-align: right;\n",
              "    }\n",
              "</style>\n",
              "<table border=\"1\" class=\"dataframe\">\n",
              "  <thead>\n",
              "    <tr style=\"text-align: right;\">\n",
              "      <th></th>\n",
              "      <th>first_name</th>\n",
              "      <th>last_name</th>\n",
              "      <th>age</th>\n",
              "      <th>sex</th>\n",
              "      <th>pre_movie_score</th>\n",
              "      <th>post_movie_score</th>\n",
              "    </tr>\n",
              "  </thead>\n",
              "  <tbody>\n",
              "    <tr>\n",
              "      <th>0</th>\n",
              "      <td>Tom</td>\n",
              "      <td>Hanks</td>\n",
              "      <td>63.0</td>\n",
              "      <td>m</td>\n",
              "      <td>8.0</td>\n",
              "      <td>10.0</td>\n",
              "    </tr>\n",
              "    <tr>\n",
              "      <th>1</th>\n",
              "      <td>NaN</td>\n",
              "      <td>NaN</td>\n",
              "      <td>NaN</td>\n",
              "      <td>NaN</td>\n",
              "      <td>NaN</td>\n",
              "      <td>NaN</td>\n",
              "    </tr>\n",
              "    <tr>\n",
              "      <th>2</th>\n",
              "      <td>Hugh</td>\n",
              "      <td>Jackman</td>\n",
              "      <td>51.0</td>\n",
              "      <td>m</td>\n",
              "      <td>NaN</td>\n",
              "      <td>NaN</td>\n",
              "    </tr>\n",
              "    <tr>\n",
              "      <th>3</th>\n",
              "      <td>Oprah</td>\n",
              "      <td>Winfrey</td>\n",
              "      <td>66.0</td>\n",
              "      <td>f</td>\n",
              "      <td>6.0</td>\n",
              "      <td>8.0</td>\n",
              "    </tr>\n",
              "    <tr>\n",
              "      <th>4</th>\n",
              "      <td>Emma</td>\n",
              "      <td>Stone</td>\n",
              "      <td>31.0</td>\n",
              "      <td>f</td>\n",
              "      <td>7.0</td>\n",
              "      <td>9.0</td>\n",
              "    </tr>\n",
              "  </tbody>\n",
              "</table>\n",
              "</div>"
            ],
            "text/plain": [
              "  first_name last_name   age  sex  pre_movie_score  post_movie_score\n",
              "0        Tom     Hanks  63.0    m              8.0              10.0\n",
              "1        NaN       NaN   NaN  NaN              NaN               NaN\n",
              "2       Hugh   Jackman  51.0    m              NaN               NaN\n",
              "3      Oprah   Winfrey  66.0    f              6.0               8.0\n",
              "4       Emma     Stone  31.0    f              7.0               9.0"
            ]
          },
          "metadata": {
            "tags": []
          },
          "execution_count": 134
        }
      ]
    },
    {
      "cell_type": "code",
      "metadata": {
        "colab": {
          "base_uri": "https://localhost:8080/",
          "height": 172
        },
        "id": "ozjWWFw3Yl-4",
        "outputId": "039ba01f-f20f-4665-e6b9-1bef74a6f123"
      },
      "source": [
        "df.dropna(subset = ['first_name', 'last_name'])"
      ],
      "execution_count": 135,
      "outputs": [
        {
          "output_type": "execute_result",
          "data": {
            "text/html": [
              "<div>\n",
              "<style scoped>\n",
              "    .dataframe tbody tr th:only-of-type {\n",
              "        vertical-align: middle;\n",
              "    }\n",
              "\n",
              "    .dataframe tbody tr th {\n",
              "        vertical-align: top;\n",
              "    }\n",
              "\n",
              "    .dataframe thead th {\n",
              "        text-align: right;\n",
              "    }\n",
              "</style>\n",
              "<table border=\"1\" class=\"dataframe\">\n",
              "  <thead>\n",
              "    <tr style=\"text-align: right;\">\n",
              "      <th></th>\n",
              "      <th>first_name</th>\n",
              "      <th>last_name</th>\n",
              "      <th>age</th>\n",
              "      <th>sex</th>\n",
              "      <th>pre_movie_score</th>\n",
              "      <th>post_movie_score</th>\n",
              "    </tr>\n",
              "  </thead>\n",
              "  <tbody>\n",
              "    <tr>\n",
              "      <th>0</th>\n",
              "      <td>Tom</td>\n",
              "      <td>Hanks</td>\n",
              "      <td>63.0</td>\n",
              "      <td>m</td>\n",
              "      <td>8.0</td>\n",
              "      <td>10.0</td>\n",
              "    </tr>\n",
              "    <tr>\n",
              "      <th>2</th>\n",
              "      <td>Hugh</td>\n",
              "      <td>Jackman</td>\n",
              "      <td>51.0</td>\n",
              "      <td>m</td>\n",
              "      <td>NaN</td>\n",
              "      <td>NaN</td>\n",
              "    </tr>\n",
              "    <tr>\n",
              "      <th>3</th>\n",
              "      <td>Oprah</td>\n",
              "      <td>Winfrey</td>\n",
              "      <td>66.0</td>\n",
              "      <td>f</td>\n",
              "      <td>6.0</td>\n",
              "      <td>8.0</td>\n",
              "    </tr>\n",
              "    <tr>\n",
              "      <th>4</th>\n",
              "      <td>Emma</td>\n",
              "      <td>Stone</td>\n",
              "      <td>31.0</td>\n",
              "      <td>f</td>\n",
              "      <td>7.0</td>\n",
              "      <td>9.0</td>\n",
              "    </tr>\n",
              "  </tbody>\n",
              "</table>\n",
              "</div>"
            ],
            "text/plain": [
              "  first_name last_name   age sex  pre_movie_score  post_movie_score\n",
              "0        Tom     Hanks  63.0   m              8.0              10.0\n",
              "2       Hugh   Jackman  51.0   m              NaN               NaN\n",
              "3      Oprah   Winfrey  66.0   f              6.0               8.0\n",
              "4       Emma     Stone  31.0   f              7.0               9.0"
            ]
          },
          "metadata": {
            "tags": []
          },
          "execution_count": 135
        }
      ]
    },
    {
      "cell_type": "code",
      "metadata": {
        "colab": {
          "base_uri": "https://localhost:8080/",
          "height": 202
        },
        "id": "oIfT7JPsZG0g",
        "outputId": "e162733d-c765-42cc-ec1f-9f935d7aaf19"
      },
      "source": [
        "df.fillna('NEW VALUE!')"
      ],
      "execution_count": 136,
      "outputs": [
        {
          "output_type": "execute_result",
          "data": {
            "text/html": [
              "<div>\n",
              "<style scoped>\n",
              "    .dataframe tbody tr th:only-of-type {\n",
              "        vertical-align: middle;\n",
              "    }\n",
              "\n",
              "    .dataframe tbody tr th {\n",
              "        vertical-align: top;\n",
              "    }\n",
              "\n",
              "    .dataframe thead th {\n",
              "        text-align: right;\n",
              "    }\n",
              "</style>\n",
              "<table border=\"1\" class=\"dataframe\">\n",
              "  <thead>\n",
              "    <tr style=\"text-align: right;\">\n",
              "      <th></th>\n",
              "      <th>first_name</th>\n",
              "      <th>last_name</th>\n",
              "      <th>age</th>\n",
              "      <th>sex</th>\n",
              "      <th>pre_movie_score</th>\n",
              "      <th>post_movie_score</th>\n",
              "    </tr>\n",
              "  </thead>\n",
              "  <tbody>\n",
              "    <tr>\n",
              "      <th>0</th>\n",
              "      <td>Tom</td>\n",
              "      <td>Hanks</td>\n",
              "      <td>63</td>\n",
              "      <td>m</td>\n",
              "      <td>8</td>\n",
              "      <td>10</td>\n",
              "    </tr>\n",
              "    <tr>\n",
              "      <th>1</th>\n",
              "      <td>NEW VALUE!</td>\n",
              "      <td>NEW VALUE!</td>\n",
              "      <td>NEW VALUE!</td>\n",
              "      <td>NEW VALUE!</td>\n",
              "      <td>NEW VALUE!</td>\n",
              "      <td>NEW VALUE!</td>\n",
              "    </tr>\n",
              "    <tr>\n",
              "      <th>2</th>\n",
              "      <td>Hugh</td>\n",
              "      <td>Jackman</td>\n",
              "      <td>51</td>\n",
              "      <td>m</td>\n",
              "      <td>NEW VALUE!</td>\n",
              "      <td>NEW VALUE!</td>\n",
              "    </tr>\n",
              "    <tr>\n",
              "      <th>3</th>\n",
              "      <td>Oprah</td>\n",
              "      <td>Winfrey</td>\n",
              "      <td>66</td>\n",
              "      <td>f</td>\n",
              "      <td>6</td>\n",
              "      <td>8</td>\n",
              "    </tr>\n",
              "    <tr>\n",
              "      <th>4</th>\n",
              "      <td>Emma</td>\n",
              "      <td>Stone</td>\n",
              "      <td>31</td>\n",
              "      <td>f</td>\n",
              "      <td>7</td>\n",
              "      <td>9</td>\n",
              "    </tr>\n",
              "  </tbody>\n",
              "</table>\n",
              "</div>"
            ],
            "text/plain": [
              "   first_name   last_name  ... pre_movie_score post_movie_score\n",
              "0         Tom       Hanks  ...               8               10\n",
              "1  NEW VALUE!  NEW VALUE!  ...      NEW VALUE!       NEW VALUE!\n",
              "2        Hugh     Jackman  ...      NEW VALUE!       NEW VALUE!\n",
              "3       Oprah     Winfrey  ...               6                8\n",
              "4        Emma       Stone  ...               7                9\n",
              "\n",
              "[5 rows x 6 columns]"
            ]
          },
          "metadata": {
            "tags": []
          },
          "execution_count": 136
        }
      ]
    },
    {
      "cell_type": "code",
      "metadata": {
        "id": "_2Dpv7-7ZquR"
      },
      "source": [
        "#df['pre_movie_score'].fillna(0, inplace = True)"
      ],
      "execution_count": 137,
      "outputs": []
    },
    {
      "cell_type": "code",
      "metadata": {
        "colab": {
          "base_uri": "https://localhost:8080/"
        },
        "id": "MckCXDJ1aiMe",
        "outputId": "a687be5c-2db0-44f9-bbc6-783fc84384af"
      },
      "source": [
        "df['pre_movie_score'].mean()"
      ],
      "execution_count": 138,
      "outputs": [
        {
          "output_type": "execute_result",
          "data": {
            "text/plain": [
              "7.0"
            ]
          },
          "metadata": {
            "tags": []
          },
          "execution_count": 138
        }
      ]
    },
    {
      "cell_type": "code",
      "metadata": {
        "id": "n9jeF-FVZtdw"
      },
      "source": [
        "df['pre_movie_score'].fillna(df['pre_movie_score'].mean(), inplace = True)"
      ],
      "execution_count": 139,
      "outputs": []
    },
    {
      "cell_type": "code",
      "metadata": {
        "colab": {
          "base_uri": "https://localhost:8080/",
          "height": 202
        },
        "id": "5w-m1ytVZ4oQ",
        "outputId": "6c734b0c-d70a-4885-df73-b10beaf08a11"
      },
      "source": [
        "df"
      ],
      "execution_count": 140,
      "outputs": [
        {
          "output_type": "execute_result",
          "data": {
            "text/html": [
              "<div>\n",
              "<style scoped>\n",
              "    .dataframe tbody tr th:only-of-type {\n",
              "        vertical-align: middle;\n",
              "    }\n",
              "\n",
              "    .dataframe tbody tr th {\n",
              "        vertical-align: top;\n",
              "    }\n",
              "\n",
              "    .dataframe thead th {\n",
              "        text-align: right;\n",
              "    }\n",
              "</style>\n",
              "<table border=\"1\" class=\"dataframe\">\n",
              "  <thead>\n",
              "    <tr style=\"text-align: right;\">\n",
              "      <th></th>\n",
              "      <th>first_name</th>\n",
              "      <th>last_name</th>\n",
              "      <th>age</th>\n",
              "      <th>sex</th>\n",
              "      <th>pre_movie_score</th>\n",
              "      <th>post_movie_score</th>\n",
              "    </tr>\n",
              "  </thead>\n",
              "  <tbody>\n",
              "    <tr>\n",
              "      <th>0</th>\n",
              "      <td>Tom</td>\n",
              "      <td>Hanks</td>\n",
              "      <td>63.0</td>\n",
              "      <td>m</td>\n",
              "      <td>8.0</td>\n",
              "      <td>10.0</td>\n",
              "    </tr>\n",
              "    <tr>\n",
              "      <th>1</th>\n",
              "      <td>NaN</td>\n",
              "      <td>NaN</td>\n",
              "      <td>NaN</td>\n",
              "      <td>NaN</td>\n",
              "      <td>7.0</td>\n",
              "      <td>NaN</td>\n",
              "    </tr>\n",
              "    <tr>\n",
              "      <th>2</th>\n",
              "      <td>Hugh</td>\n",
              "      <td>Jackman</td>\n",
              "      <td>51.0</td>\n",
              "      <td>m</td>\n",
              "      <td>7.0</td>\n",
              "      <td>NaN</td>\n",
              "    </tr>\n",
              "    <tr>\n",
              "      <th>3</th>\n",
              "      <td>Oprah</td>\n",
              "      <td>Winfrey</td>\n",
              "      <td>66.0</td>\n",
              "      <td>f</td>\n",
              "      <td>6.0</td>\n",
              "      <td>8.0</td>\n",
              "    </tr>\n",
              "    <tr>\n",
              "      <th>4</th>\n",
              "      <td>Emma</td>\n",
              "      <td>Stone</td>\n",
              "      <td>31.0</td>\n",
              "      <td>f</td>\n",
              "      <td>7.0</td>\n",
              "      <td>9.0</td>\n",
              "    </tr>\n",
              "  </tbody>\n",
              "</table>\n",
              "</div>"
            ],
            "text/plain": [
              "  first_name last_name   age  sex  pre_movie_score  post_movie_score\n",
              "0        Tom     Hanks  63.0    m              8.0              10.0\n",
              "1        NaN       NaN   NaN  NaN              7.0               NaN\n",
              "2       Hugh   Jackman  51.0    m              7.0               NaN\n",
              "3      Oprah   Winfrey  66.0    f              6.0               8.0\n",
              "4       Emma     Stone  31.0    f              7.0               9.0"
            ]
          },
          "metadata": {
            "tags": []
          },
          "execution_count": 140
        }
      ]
    },
    {
      "cell_type": "code",
      "metadata": {
        "id": "GxuzQhTraOvV"
      },
      "source": [
        "airline_tix = {'first': 100, 'business': np.nan, 'economy-plus': 50, 'economy': 30}"
      ],
      "execution_count": 141,
      "outputs": []
    },
    {
      "cell_type": "code",
      "metadata": {
        "id": "pRLYHeCnbgQa"
      },
      "source": [
        "ser = pd.Series(airline_tix)"
      ],
      "execution_count": 142,
      "outputs": []
    },
    {
      "cell_type": "code",
      "metadata": {
        "colab": {
          "base_uri": "https://localhost:8080/"
        },
        "id": "W7uwyZhNbjJs",
        "outputId": "5ec75457-59bb-46c2-c378-7edff25dac94"
      },
      "source": [
        "ser"
      ],
      "execution_count": 143,
      "outputs": [
        {
          "output_type": "execute_result",
          "data": {
            "text/plain": [
              "first           100.0\n",
              "business          NaN\n",
              "economy-plus     50.0\n",
              "economy          30.0\n",
              "dtype: float64"
            ]
          },
          "metadata": {
            "tags": []
          },
          "execution_count": 143
        }
      ]
    },
    {
      "cell_type": "code",
      "metadata": {
        "colab": {
          "base_uri": "https://localhost:8080/"
        },
        "id": "WZDW3CGjbjlq",
        "outputId": "1046a204-3f88-4972-8dd5-e73404e9a7a9"
      },
      "source": [
        "ser.interpolate()"
      ],
      "execution_count": 144,
      "outputs": [
        {
          "output_type": "execute_result",
          "data": {
            "text/plain": [
              "first           100.0\n",
              "business         75.0\n",
              "economy-plus     50.0\n",
              "economy          30.0\n",
              "dtype: float64"
            ]
          },
          "metadata": {
            "tags": []
          },
          "execution_count": 144
        }
      ]
    },
    {
      "cell_type": "markdown",
      "metadata": {
        "id": "tDsQ9LOea1U-"
      },
      "source": [
        "# GroupBy"
      ]
    },
    {
      "cell_type": "code",
      "metadata": {
        "id": "S8A_gSiRa3dH"
      },
      "source": [
        "df = pd.read_csv('mpg.csv')"
      ],
      "execution_count": 145,
      "outputs": []
    },
    {
      "cell_type": "code",
      "metadata": {
        "colab": {
          "base_uri": "https://localhost:8080/",
          "height": 0
        },
        "id": "wV2GwaE0b5T4",
        "outputId": "cb3bfd52-2a3a-47be-f7e2-5aa7a67d8f46"
      },
      "source": [
        "df.head(5)"
      ],
      "execution_count": 146,
      "outputs": [
        {
          "output_type": "execute_result",
          "data": {
            "text/html": [
              "<div>\n",
              "<style scoped>\n",
              "    .dataframe tbody tr th:only-of-type {\n",
              "        vertical-align: middle;\n",
              "    }\n",
              "\n",
              "    .dataframe tbody tr th {\n",
              "        vertical-align: top;\n",
              "    }\n",
              "\n",
              "    .dataframe thead th {\n",
              "        text-align: right;\n",
              "    }\n",
              "</style>\n",
              "<table border=\"1\" class=\"dataframe\">\n",
              "  <thead>\n",
              "    <tr style=\"text-align: right;\">\n",
              "      <th></th>\n",
              "      <th>mpg</th>\n",
              "      <th>cylinders</th>\n",
              "      <th>displacement</th>\n",
              "      <th>horsepower</th>\n",
              "      <th>weight</th>\n",
              "      <th>acceleration</th>\n",
              "      <th>model_year</th>\n",
              "      <th>origin</th>\n",
              "      <th>name</th>\n",
              "    </tr>\n",
              "  </thead>\n",
              "  <tbody>\n",
              "    <tr>\n",
              "      <th>0</th>\n",
              "      <td>18.0</td>\n",
              "      <td>8</td>\n",
              "      <td>307.0</td>\n",
              "      <td>130</td>\n",
              "      <td>3504</td>\n",
              "      <td>12.0</td>\n",
              "      <td>70</td>\n",
              "      <td>1</td>\n",
              "      <td>chevrolet chevelle malibu</td>\n",
              "    </tr>\n",
              "    <tr>\n",
              "      <th>1</th>\n",
              "      <td>15.0</td>\n",
              "      <td>8</td>\n",
              "      <td>350.0</td>\n",
              "      <td>165</td>\n",
              "      <td>3693</td>\n",
              "      <td>11.5</td>\n",
              "      <td>70</td>\n",
              "      <td>1</td>\n",
              "      <td>buick skylark 320</td>\n",
              "    </tr>\n",
              "    <tr>\n",
              "      <th>2</th>\n",
              "      <td>18.0</td>\n",
              "      <td>8</td>\n",
              "      <td>318.0</td>\n",
              "      <td>150</td>\n",
              "      <td>3436</td>\n",
              "      <td>11.0</td>\n",
              "      <td>70</td>\n",
              "      <td>1</td>\n",
              "      <td>plymouth satellite</td>\n",
              "    </tr>\n",
              "    <tr>\n",
              "      <th>3</th>\n",
              "      <td>16.0</td>\n",
              "      <td>8</td>\n",
              "      <td>304.0</td>\n",
              "      <td>150</td>\n",
              "      <td>3433</td>\n",
              "      <td>12.0</td>\n",
              "      <td>70</td>\n",
              "      <td>1</td>\n",
              "      <td>amc rebel sst</td>\n",
              "    </tr>\n",
              "    <tr>\n",
              "      <th>4</th>\n",
              "      <td>17.0</td>\n",
              "      <td>8</td>\n",
              "      <td>302.0</td>\n",
              "      <td>140</td>\n",
              "      <td>3449</td>\n",
              "      <td>10.5</td>\n",
              "      <td>70</td>\n",
              "      <td>1</td>\n",
              "      <td>ford torino</td>\n",
              "    </tr>\n",
              "  </tbody>\n",
              "</table>\n",
              "</div>"
            ],
            "text/plain": [
              "    mpg  cylinders  displacement  ... model_year  origin                       name\n",
              "0  18.0          8         307.0  ...         70       1  chevrolet chevelle malibu\n",
              "1  15.0          8         350.0  ...         70       1          buick skylark 320\n",
              "2  18.0          8         318.0  ...         70       1         plymouth satellite\n",
              "3  16.0          8         304.0  ...         70       1              amc rebel sst\n",
              "4  17.0          8         302.0  ...         70       1                ford torino\n",
              "\n",
              "[5 rows x 9 columns]"
            ]
          },
          "metadata": {
            "tags": []
          },
          "execution_count": 146
        }
      ]
    },
    {
      "cell_type": "code",
      "metadata": {
        "colab": {
          "base_uri": "https://localhost:8080/"
        },
        "id": "izLmJ51ub6Bk",
        "outputId": "6af2624b-a520-4475-e289-75b145158202"
      },
      "source": [
        "df.groupby(by = 'model_year').mean()['mpg']"
      ],
      "execution_count": 147,
      "outputs": [
        {
          "output_type": "execute_result",
          "data": {
            "text/plain": [
              "model_year\n",
              "70    17.689655\n",
              "71    21.250000\n",
              "72    18.714286\n",
              "73    17.100000\n",
              "74    22.703704\n",
              "75    20.266667\n",
              "76    21.573529\n",
              "77    23.375000\n",
              "78    24.061111\n",
              "79    25.093103\n",
              "80    33.696552\n",
              "81    30.334483\n",
              "82    31.709677\n",
              "Name: mpg, dtype: float64"
            ]
          },
          "metadata": {
            "tags": []
          },
          "execution_count": 147
        }
      ]
    },
    {
      "cell_type": "code",
      "metadata": {
        "colab": {
          "base_uri": "https://localhost:8080/",
          "height": 0
        },
        "id": "a-m6x63CcFiv",
        "outputId": "ede2f877-3dfe-46bc-82e8-592573b6b6a3"
      },
      "source": [
        "df.groupby(by = ['model_year', 'cylinders']).mean()"
      ],
      "execution_count": 148,
      "outputs": [
        {
          "output_type": "execute_result",
          "data": {
            "text/html": [
              "<div>\n",
              "<style scoped>\n",
              "    .dataframe tbody tr th:only-of-type {\n",
              "        vertical-align: middle;\n",
              "    }\n",
              "\n",
              "    .dataframe tbody tr th {\n",
              "        vertical-align: top;\n",
              "    }\n",
              "\n",
              "    .dataframe thead th {\n",
              "        text-align: right;\n",
              "    }\n",
              "</style>\n",
              "<table border=\"1\" class=\"dataframe\">\n",
              "  <thead>\n",
              "    <tr style=\"text-align: right;\">\n",
              "      <th></th>\n",
              "      <th></th>\n",
              "      <th>mpg</th>\n",
              "      <th>displacement</th>\n",
              "      <th>weight</th>\n",
              "      <th>acceleration</th>\n",
              "      <th>origin</th>\n",
              "    </tr>\n",
              "    <tr>\n",
              "      <th>model_year</th>\n",
              "      <th>cylinders</th>\n",
              "      <th></th>\n",
              "      <th></th>\n",
              "      <th></th>\n",
              "      <th></th>\n",
              "      <th></th>\n",
              "    </tr>\n",
              "  </thead>\n",
              "  <tbody>\n",
              "    <tr>\n",
              "      <th rowspan=\"3\" valign=\"top\">70</th>\n",
              "      <th>4</th>\n",
              "      <td>25.285714</td>\n",
              "      <td>107.000000</td>\n",
              "      <td>2292.571429</td>\n",
              "      <td>16.000000</td>\n",
              "      <td>2.285714</td>\n",
              "    </tr>\n",
              "    <tr>\n",
              "      <th>6</th>\n",
              "      <td>20.500000</td>\n",
              "      <td>199.000000</td>\n",
              "      <td>2710.500000</td>\n",
              "      <td>15.500000</td>\n",
              "      <td>1.000000</td>\n",
              "    </tr>\n",
              "    <tr>\n",
              "      <th>8</th>\n",
              "      <td>14.111111</td>\n",
              "      <td>367.555556</td>\n",
              "      <td>3940.055556</td>\n",
              "      <td>11.194444</td>\n",
              "      <td>1.000000</td>\n",
              "    </tr>\n",
              "    <tr>\n",
              "      <th rowspan=\"3\" valign=\"top\">71</th>\n",
              "      <th>4</th>\n",
              "      <td>27.461538</td>\n",
              "      <td>101.846154</td>\n",
              "      <td>2056.384615</td>\n",
              "      <td>16.961538</td>\n",
              "      <td>1.923077</td>\n",
              "    </tr>\n",
              "    <tr>\n",
              "      <th>6</th>\n",
              "      <td>18.000000</td>\n",
              "      <td>243.375000</td>\n",
              "      <td>3171.875000</td>\n",
              "      <td>14.750000</td>\n",
              "      <td>1.000000</td>\n",
              "    </tr>\n",
              "    <tr>\n",
              "      <th>8</th>\n",
              "      <td>13.428571</td>\n",
              "      <td>371.714286</td>\n",
              "      <td>4537.714286</td>\n",
              "      <td>12.214286</td>\n",
              "      <td>1.000000</td>\n",
              "    </tr>\n",
              "    <tr>\n",
              "      <th rowspan=\"3\" valign=\"top\">72</th>\n",
              "      <th>3</th>\n",
              "      <td>19.000000</td>\n",
              "      <td>70.000000</td>\n",
              "      <td>2330.000000</td>\n",
              "      <td>13.500000</td>\n",
              "      <td>3.000000</td>\n",
              "    </tr>\n",
              "    <tr>\n",
              "      <th>4</th>\n",
              "      <td>23.428571</td>\n",
              "      <td>111.535714</td>\n",
              "      <td>2382.642857</td>\n",
              "      <td>17.214286</td>\n",
              "      <td>1.928571</td>\n",
              "    </tr>\n",
              "    <tr>\n",
              "      <th>8</th>\n",
              "      <td>13.615385</td>\n",
              "      <td>344.846154</td>\n",
              "      <td>4228.384615</td>\n",
              "      <td>13.000000</td>\n",
              "      <td>1.000000</td>\n",
              "    </tr>\n",
              "    <tr>\n",
              "      <th rowspan=\"4\" valign=\"top\">73</th>\n",
              "      <th>3</th>\n",
              "      <td>18.000000</td>\n",
              "      <td>70.000000</td>\n",
              "      <td>2124.000000</td>\n",
              "      <td>13.500000</td>\n",
              "      <td>3.000000</td>\n",
              "    </tr>\n",
              "    <tr>\n",
              "      <th>4</th>\n",
              "      <td>22.727273</td>\n",
              "      <td>109.272727</td>\n",
              "      <td>2338.090909</td>\n",
              "      <td>17.136364</td>\n",
              "      <td>2.000000</td>\n",
              "    </tr>\n",
              "    <tr>\n",
              "      <th>6</th>\n",
              "      <td>19.000000</td>\n",
              "      <td>212.250000</td>\n",
              "      <td>2917.125000</td>\n",
              "      <td>15.687500</td>\n",
              "      <td>1.250000</td>\n",
              "    </tr>\n",
              "    <tr>\n",
              "      <th>8</th>\n",
              "      <td>13.200000</td>\n",
              "      <td>365.250000</td>\n",
              "      <td>4279.050000</td>\n",
              "      <td>12.250000</td>\n",
              "      <td>1.000000</td>\n",
              "    </tr>\n",
              "    <tr>\n",
              "      <th rowspan=\"3\" valign=\"top\">74</th>\n",
              "      <th>4</th>\n",
              "      <td>27.800000</td>\n",
              "      <td>96.533333</td>\n",
              "      <td>2151.466667</td>\n",
              "      <td>16.400000</td>\n",
              "      <td>2.200000</td>\n",
              "    </tr>\n",
              "    <tr>\n",
              "      <th>6</th>\n",
              "      <td>17.857143</td>\n",
              "      <td>230.428571</td>\n",
              "      <td>3320.000000</td>\n",
              "      <td>16.857143</td>\n",
              "      <td>1.000000</td>\n",
              "    </tr>\n",
              "    <tr>\n",
              "      <th>8</th>\n",
              "      <td>14.200000</td>\n",
              "      <td>315.200000</td>\n",
              "      <td>4438.400000</td>\n",
              "      <td>14.700000</td>\n",
              "      <td>1.000000</td>\n",
              "    </tr>\n",
              "    <tr>\n",
              "      <th rowspan=\"3\" valign=\"top\">75</th>\n",
              "      <th>4</th>\n",
              "      <td>25.250000</td>\n",
              "      <td>114.833333</td>\n",
              "      <td>2489.250000</td>\n",
              "      <td>15.833333</td>\n",
              "      <td>2.166667</td>\n",
              "    </tr>\n",
              "    <tr>\n",
              "      <th>6</th>\n",
              "      <td>17.583333</td>\n",
              "      <td>233.750000</td>\n",
              "      <td>3398.333333</td>\n",
              "      <td>17.708333</td>\n",
              "      <td>1.000000</td>\n",
              "    </tr>\n",
              "    <tr>\n",
              "      <th>8</th>\n",
              "      <td>15.666667</td>\n",
              "      <td>330.500000</td>\n",
              "      <td>4108.833333</td>\n",
              "      <td>13.166667</td>\n",
              "      <td>1.000000</td>\n",
              "    </tr>\n",
              "    <tr>\n",
              "      <th rowspan=\"3\" valign=\"top\">76</th>\n",
              "      <th>4</th>\n",
              "      <td>26.766667</td>\n",
              "      <td>106.333333</td>\n",
              "      <td>2306.600000</td>\n",
              "      <td>16.866667</td>\n",
              "      <td>1.866667</td>\n",
              "    </tr>\n",
              "    <tr>\n",
              "      <th>6</th>\n",
              "      <td>20.000000</td>\n",
              "      <td>221.400000</td>\n",
              "      <td>3349.600000</td>\n",
              "      <td>17.000000</td>\n",
              "      <td>1.300000</td>\n",
              "    </tr>\n",
              "    <tr>\n",
              "      <th>8</th>\n",
              "      <td>14.666667</td>\n",
              "      <td>324.000000</td>\n",
              "      <td>4064.666667</td>\n",
              "      <td>13.222222</td>\n",
              "      <td>1.000000</td>\n",
              "    </tr>\n",
              "    <tr>\n",
              "      <th rowspan=\"4\" valign=\"top\">77</th>\n",
              "      <th>3</th>\n",
              "      <td>21.500000</td>\n",
              "      <td>80.000000</td>\n",
              "      <td>2720.000000</td>\n",
              "      <td>13.500000</td>\n",
              "      <td>3.000000</td>\n",
              "    </tr>\n",
              "    <tr>\n",
              "      <th>4</th>\n",
              "      <td>29.107143</td>\n",
              "      <td>106.500000</td>\n",
              "      <td>2205.071429</td>\n",
              "      <td>16.064286</td>\n",
              "      <td>1.857143</td>\n",
              "    </tr>\n",
              "    <tr>\n",
              "      <th>6</th>\n",
              "      <td>19.500000</td>\n",
              "      <td>220.400000</td>\n",
              "      <td>3383.000000</td>\n",
              "      <td>16.900000</td>\n",
              "      <td>1.400000</td>\n",
              "    </tr>\n",
              "    <tr>\n",
              "      <th>8</th>\n",
              "      <td>16.000000</td>\n",
              "      <td>335.750000</td>\n",
              "      <td>4177.500000</td>\n",
              "      <td>13.662500</td>\n",
              "      <td>1.000000</td>\n",
              "    </tr>\n",
              "    <tr>\n",
              "      <th rowspan=\"4\" valign=\"top\">78</th>\n",
              "      <th>4</th>\n",
              "      <td>29.576471</td>\n",
              "      <td>112.117647</td>\n",
              "      <td>2296.764706</td>\n",
              "      <td>16.282353</td>\n",
              "      <td>2.117647</td>\n",
              "    </tr>\n",
              "    <tr>\n",
              "      <th>5</th>\n",
              "      <td>20.300000</td>\n",
              "      <td>131.000000</td>\n",
              "      <td>2830.000000</td>\n",
              "      <td>15.900000</td>\n",
              "      <td>2.000000</td>\n",
              "    </tr>\n",
              "    <tr>\n",
              "      <th>6</th>\n",
              "      <td>19.066667</td>\n",
              "      <td>213.250000</td>\n",
              "      <td>3314.166667</td>\n",
              "      <td>16.391667</td>\n",
              "      <td>1.166667</td>\n",
              "    </tr>\n",
              "    <tr>\n",
              "      <th>8</th>\n",
              "      <td>19.050000</td>\n",
              "      <td>300.833333</td>\n",
              "      <td>3563.333333</td>\n",
              "      <td>13.266667</td>\n",
              "      <td>1.000000</td>\n",
              "    </tr>\n",
              "    <tr>\n",
              "      <th rowspan=\"4\" valign=\"top\">79</th>\n",
              "      <th>4</th>\n",
              "      <td>31.525000</td>\n",
              "      <td>113.583333</td>\n",
              "      <td>2357.583333</td>\n",
              "      <td>15.991667</td>\n",
              "      <td>1.583333</td>\n",
              "    </tr>\n",
              "    <tr>\n",
              "      <th>5</th>\n",
              "      <td>25.400000</td>\n",
              "      <td>183.000000</td>\n",
              "      <td>3530.000000</td>\n",
              "      <td>20.100000</td>\n",
              "      <td>2.000000</td>\n",
              "    </tr>\n",
              "    <tr>\n",
              "      <th>6</th>\n",
              "      <td>22.950000</td>\n",
              "      <td>205.666667</td>\n",
              "      <td>3025.833333</td>\n",
              "      <td>15.433333</td>\n",
              "      <td>1.000000</td>\n",
              "    </tr>\n",
              "    <tr>\n",
              "      <th>8</th>\n",
              "      <td>18.630000</td>\n",
              "      <td>321.400000</td>\n",
              "      <td>3862.900000</td>\n",
              "      <td>15.400000</td>\n",
              "      <td>1.000000</td>\n",
              "    </tr>\n",
              "    <tr>\n",
              "      <th rowspan=\"4\" valign=\"top\">80</th>\n",
              "      <th>3</th>\n",
              "      <td>23.700000</td>\n",
              "      <td>70.000000</td>\n",
              "      <td>2420.000000</td>\n",
              "      <td>12.500000</td>\n",
              "      <td>3.000000</td>\n",
              "    </tr>\n",
              "    <tr>\n",
              "      <th>4</th>\n",
              "      <td>34.612000</td>\n",
              "      <td>111.000000</td>\n",
              "      <td>2360.080000</td>\n",
              "      <td>17.144000</td>\n",
              "      <td>2.200000</td>\n",
              "    </tr>\n",
              "    <tr>\n",
              "      <th>5</th>\n",
              "      <td>36.400000</td>\n",
              "      <td>121.000000</td>\n",
              "      <td>2950.000000</td>\n",
              "      <td>19.900000</td>\n",
              "      <td>2.000000</td>\n",
              "    </tr>\n",
              "    <tr>\n",
              "      <th>6</th>\n",
              "      <td>25.900000</td>\n",
              "      <td>196.500000</td>\n",
              "      <td>3145.500000</td>\n",
              "      <td>15.050000</td>\n",
              "      <td>2.000000</td>\n",
              "    </tr>\n",
              "    <tr>\n",
              "      <th rowspan=\"3\" valign=\"top\">81</th>\n",
              "      <th>4</th>\n",
              "      <td>32.814286</td>\n",
              "      <td>108.857143</td>\n",
              "      <td>2275.476190</td>\n",
              "      <td>16.466667</td>\n",
              "      <td>2.095238</td>\n",
              "    </tr>\n",
              "    <tr>\n",
              "      <th>6</th>\n",
              "      <td>23.428571</td>\n",
              "      <td>184.000000</td>\n",
              "      <td>3093.571429</td>\n",
              "      <td>15.442857</td>\n",
              "      <td>1.714286</td>\n",
              "    </tr>\n",
              "    <tr>\n",
              "      <th>8</th>\n",
              "      <td>26.600000</td>\n",
              "      <td>350.000000</td>\n",
              "      <td>3725.000000</td>\n",
              "      <td>19.000000</td>\n",
              "      <td>1.000000</td>\n",
              "    </tr>\n",
              "    <tr>\n",
              "      <th rowspan=\"2\" valign=\"top\">82</th>\n",
              "      <th>4</th>\n",
              "      <td>32.071429</td>\n",
              "      <td>118.571429</td>\n",
              "      <td>2402.321429</td>\n",
              "      <td>16.703571</td>\n",
              "      <td>1.714286</td>\n",
              "    </tr>\n",
              "    <tr>\n",
              "      <th>6</th>\n",
              "      <td>28.333333</td>\n",
              "      <td>225.000000</td>\n",
              "      <td>2931.666667</td>\n",
              "      <td>16.033333</td>\n",
              "      <td>1.000000</td>\n",
              "    </tr>\n",
              "  </tbody>\n",
              "</table>\n",
              "</div>"
            ],
            "text/plain": [
              "                            mpg  displacement  ...  acceleration    origin\n",
              "model_year cylinders                           ...                        \n",
              "70         4          25.285714    107.000000  ...     16.000000  2.285714\n",
              "           6          20.500000    199.000000  ...     15.500000  1.000000\n",
              "           8          14.111111    367.555556  ...     11.194444  1.000000\n",
              "71         4          27.461538    101.846154  ...     16.961538  1.923077\n",
              "           6          18.000000    243.375000  ...     14.750000  1.000000\n",
              "           8          13.428571    371.714286  ...     12.214286  1.000000\n",
              "72         3          19.000000     70.000000  ...     13.500000  3.000000\n",
              "           4          23.428571    111.535714  ...     17.214286  1.928571\n",
              "           8          13.615385    344.846154  ...     13.000000  1.000000\n",
              "73         3          18.000000     70.000000  ...     13.500000  3.000000\n",
              "           4          22.727273    109.272727  ...     17.136364  2.000000\n",
              "           6          19.000000    212.250000  ...     15.687500  1.250000\n",
              "           8          13.200000    365.250000  ...     12.250000  1.000000\n",
              "74         4          27.800000     96.533333  ...     16.400000  2.200000\n",
              "           6          17.857143    230.428571  ...     16.857143  1.000000\n",
              "           8          14.200000    315.200000  ...     14.700000  1.000000\n",
              "75         4          25.250000    114.833333  ...     15.833333  2.166667\n",
              "           6          17.583333    233.750000  ...     17.708333  1.000000\n",
              "           8          15.666667    330.500000  ...     13.166667  1.000000\n",
              "76         4          26.766667    106.333333  ...     16.866667  1.866667\n",
              "           6          20.000000    221.400000  ...     17.000000  1.300000\n",
              "           8          14.666667    324.000000  ...     13.222222  1.000000\n",
              "77         3          21.500000     80.000000  ...     13.500000  3.000000\n",
              "           4          29.107143    106.500000  ...     16.064286  1.857143\n",
              "           6          19.500000    220.400000  ...     16.900000  1.400000\n",
              "           8          16.000000    335.750000  ...     13.662500  1.000000\n",
              "78         4          29.576471    112.117647  ...     16.282353  2.117647\n",
              "           5          20.300000    131.000000  ...     15.900000  2.000000\n",
              "           6          19.066667    213.250000  ...     16.391667  1.166667\n",
              "           8          19.050000    300.833333  ...     13.266667  1.000000\n",
              "79         4          31.525000    113.583333  ...     15.991667  1.583333\n",
              "           5          25.400000    183.000000  ...     20.100000  2.000000\n",
              "           6          22.950000    205.666667  ...     15.433333  1.000000\n",
              "           8          18.630000    321.400000  ...     15.400000  1.000000\n",
              "80         3          23.700000     70.000000  ...     12.500000  3.000000\n",
              "           4          34.612000    111.000000  ...     17.144000  2.200000\n",
              "           5          36.400000    121.000000  ...     19.900000  2.000000\n",
              "           6          25.900000    196.500000  ...     15.050000  2.000000\n",
              "81         4          32.814286    108.857143  ...     16.466667  2.095238\n",
              "           6          23.428571    184.000000  ...     15.442857  1.714286\n",
              "           8          26.600000    350.000000  ...     19.000000  1.000000\n",
              "82         4          32.071429    118.571429  ...     16.703571  1.714286\n",
              "           6          28.333333    225.000000  ...     16.033333  1.000000\n",
              "\n",
              "[43 rows x 5 columns]"
            ]
          },
          "metadata": {
            "tags": []
          },
          "execution_count": 148
        }
      ]
    },
    {
      "cell_type": "code",
      "metadata": {
        "id": "d388ANexd2dJ"
      },
      "source": [
        "year_cyl = df.groupby(['model_year', 'cylinders']).mean()"
      ],
      "execution_count": 149,
      "outputs": []
    },
    {
      "cell_type": "code",
      "metadata": {
        "colab": {
          "base_uri": "https://localhost:8080/"
        },
        "id": "RDo-ntbKew_D",
        "outputId": "1f078542-e469-4471-f57e-23b9d51c97e8"
      },
      "source": [
        "print(year_cyl.index.names)\n",
        "print(year_cyl.index.levels)"
      ],
      "execution_count": 150,
      "outputs": [
        {
          "output_type": "stream",
          "text": [
            "['model_year', 'cylinders']\n",
            "[[70, 71, 72, 73, 74, 75, 76, 77, 78, 79, 80, 81, 82], [3, 4, 5, 6, 8]]\n"
          ],
          "name": "stdout"
        }
      ]
    },
    {
      "cell_type": "code",
      "metadata": {
        "colab": {
          "base_uri": "https://localhost:8080/",
          "height": 0
        },
        "id": "SQ0I9oMAe2Ho",
        "outputId": "355887b1-634a-49db-b289-139175dbd6d0"
      },
      "source": [
        "year_cyl.loc[[70, 82]]"
      ],
      "execution_count": 151,
      "outputs": [
        {
          "output_type": "execute_result",
          "data": {
            "text/html": [
              "<div>\n",
              "<style scoped>\n",
              "    .dataframe tbody tr th:only-of-type {\n",
              "        vertical-align: middle;\n",
              "    }\n",
              "\n",
              "    .dataframe tbody tr th {\n",
              "        vertical-align: top;\n",
              "    }\n",
              "\n",
              "    .dataframe thead th {\n",
              "        text-align: right;\n",
              "    }\n",
              "</style>\n",
              "<table border=\"1\" class=\"dataframe\">\n",
              "  <thead>\n",
              "    <tr style=\"text-align: right;\">\n",
              "      <th></th>\n",
              "      <th></th>\n",
              "      <th>mpg</th>\n",
              "      <th>displacement</th>\n",
              "      <th>weight</th>\n",
              "      <th>acceleration</th>\n",
              "      <th>origin</th>\n",
              "    </tr>\n",
              "    <tr>\n",
              "      <th>model_year</th>\n",
              "      <th>cylinders</th>\n",
              "      <th></th>\n",
              "      <th></th>\n",
              "      <th></th>\n",
              "      <th></th>\n",
              "      <th></th>\n",
              "    </tr>\n",
              "  </thead>\n",
              "  <tbody>\n",
              "    <tr>\n",
              "      <th rowspan=\"3\" valign=\"top\">70</th>\n",
              "      <th>4</th>\n",
              "      <td>25.285714</td>\n",
              "      <td>107.000000</td>\n",
              "      <td>2292.571429</td>\n",
              "      <td>16.000000</td>\n",
              "      <td>2.285714</td>\n",
              "    </tr>\n",
              "    <tr>\n",
              "      <th>6</th>\n",
              "      <td>20.500000</td>\n",
              "      <td>199.000000</td>\n",
              "      <td>2710.500000</td>\n",
              "      <td>15.500000</td>\n",
              "      <td>1.000000</td>\n",
              "    </tr>\n",
              "    <tr>\n",
              "      <th>8</th>\n",
              "      <td>14.111111</td>\n",
              "      <td>367.555556</td>\n",
              "      <td>3940.055556</td>\n",
              "      <td>11.194444</td>\n",
              "      <td>1.000000</td>\n",
              "    </tr>\n",
              "    <tr>\n",
              "      <th rowspan=\"2\" valign=\"top\">82</th>\n",
              "      <th>4</th>\n",
              "      <td>32.071429</td>\n",
              "      <td>118.571429</td>\n",
              "      <td>2402.321429</td>\n",
              "      <td>16.703571</td>\n",
              "      <td>1.714286</td>\n",
              "    </tr>\n",
              "    <tr>\n",
              "      <th>6</th>\n",
              "      <td>28.333333</td>\n",
              "      <td>225.000000</td>\n",
              "      <td>2931.666667</td>\n",
              "      <td>16.033333</td>\n",
              "      <td>1.000000</td>\n",
              "    </tr>\n",
              "  </tbody>\n",
              "</table>\n",
              "</div>"
            ],
            "text/plain": [
              "                            mpg  displacement  ...  acceleration    origin\n",
              "model_year cylinders                           ...                        \n",
              "70         4          25.285714    107.000000  ...     16.000000  2.285714\n",
              "           6          20.500000    199.000000  ...     15.500000  1.000000\n",
              "           8          14.111111    367.555556  ...     11.194444  1.000000\n",
              "82         4          32.071429    118.571429  ...     16.703571  1.714286\n",
              "           6          28.333333    225.000000  ...     16.033333  1.000000\n",
              "\n",
              "[5 rows x 5 columns]"
            ]
          },
          "metadata": {
            "tags": []
          },
          "execution_count": 151
        }
      ]
    },
    {
      "cell_type": "code",
      "metadata": {
        "colab": {
          "base_uri": "https://localhost:8080/",
          "height": 0
        },
        "id": "YvBjQbogfDdK",
        "outputId": "163c7a22-eeaa-467a-af1d-9173c8530b04"
      },
      "source": [
        "year_cyl.loc[[(80, 6), (70, 4)]]"
      ],
      "execution_count": 152,
      "outputs": [
        {
          "output_type": "execute_result",
          "data": {
            "text/html": [
              "<div>\n",
              "<style scoped>\n",
              "    .dataframe tbody tr th:only-of-type {\n",
              "        vertical-align: middle;\n",
              "    }\n",
              "\n",
              "    .dataframe tbody tr th {\n",
              "        vertical-align: top;\n",
              "    }\n",
              "\n",
              "    .dataframe thead th {\n",
              "        text-align: right;\n",
              "    }\n",
              "</style>\n",
              "<table border=\"1\" class=\"dataframe\">\n",
              "  <thead>\n",
              "    <tr style=\"text-align: right;\">\n",
              "      <th></th>\n",
              "      <th></th>\n",
              "      <th>mpg</th>\n",
              "      <th>displacement</th>\n",
              "      <th>weight</th>\n",
              "      <th>acceleration</th>\n",
              "      <th>origin</th>\n",
              "    </tr>\n",
              "    <tr>\n",
              "      <th>model_year</th>\n",
              "      <th>cylinders</th>\n",
              "      <th></th>\n",
              "      <th></th>\n",
              "      <th></th>\n",
              "      <th></th>\n",
              "      <th></th>\n",
              "    </tr>\n",
              "  </thead>\n",
              "  <tbody>\n",
              "    <tr>\n",
              "      <th>80</th>\n",
              "      <th>6</th>\n",
              "      <td>25.900000</td>\n",
              "      <td>196.5</td>\n",
              "      <td>3145.500000</td>\n",
              "      <td>15.05</td>\n",
              "      <td>2.000000</td>\n",
              "    </tr>\n",
              "    <tr>\n",
              "      <th>70</th>\n",
              "      <th>4</th>\n",
              "      <td>25.285714</td>\n",
              "      <td>107.0</td>\n",
              "      <td>2292.571429</td>\n",
              "      <td>16.00</td>\n",
              "      <td>2.285714</td>\n",
              "    </tr>\n",
              "  </tbody>\n",
              "</table>\n",
              "</div>"
            ],
            "text/plain": [
              "                            mpg  displacement  ...  acceleration    origin\n",
              "model_year cylinders                           ...                        \n",
              "80         6          25.900000         196.5  ...         15.05  2.000000\n",
              "70         4          25.285714         107.0  ...         16.00  2.285714\n",
              "\n",
              "[2 rows x 5 columns]"
            ]
          },
          "metadata": {
            "tags": []
          },
          "execution_count": 152
        }
      ]
    },
    {
      "cell_type": "code",
      "metadata": {
        "colab": {
          "base_uri": "https://localhost:8080/",
          "height": 0
        },
        "id": "qJzqCtA4ff97",
        "outputId": "7b13acad-7506-48bb-d2c3-373462ed0bb7"
      },
      "source": [
        "year_cyl.xs(key = 70, level = 0)"
      ],
      "execution_count": 153,
      "outputs": [
        {
          "output_type": "execute_result",
          "data": {
            "text/html": [
              "<div>\n",
              "<style scoped>\n",
              "    .dataframe tbody tr th:only-of-type {\n",
              "        vertical-align: middle;\n",
              "    }\n",
              "\n",
              "    .dataframe tbody tr th {\n",
              "        vertical-align: top;\n",
              "    }\n",
              "\n",
              "    .dataframe thead th {\n",
              "        text-align: right;\n",
              "    }\n",
              "</style>\n",
              "<table border=\"1\" class=\"dataframe\">\n",
              "  <thead>\n",
              "    <tr style=\"text-align: right;\">\n",
              "      <th></th>\n",
              "      <th>mpg</th>\n",
              "      <th>displacement</th>\n",
              "      <th>weight</th>\n",
              "      <th>acceleration</th>\n",
              "      <th>origin</th>\n",
              "    </tr>\n",
              "    <tr>\n",
              "      <th>cylinders</th>\n",
              "      <th></th>\n",
              "      <th></th>\n",
              "      <th></th>\n",
              "      <th></th>\n",
              "      <th></th>\n",
              "    </tr>\n",
              "  </thead>\n",
              "  <tbody>\n",
              "    <tr>\n",
              "      <th>4</th>\n",
              "      <td>25.285714</td>\n",
              "      <td>107.000000</td>\n",
              "      <td>2292.571429</td>\n",
              "      <td>16.000000</td>\n",
              "      <td>2.285714</td>\n",
              "    </tr>\n",
              "    <tr>\n",
              "      <th>6</th>\n",
              "      <td>20.500000</td>\n",
              "      <td>199.000000</td>\n",
              "      <td>2710.500000</td>\n",
              "      <td>15.500000</td>\n",
              "      <td>1.000000</td>\n",
              "    </tr>\n",
              "    <tr>\n",
              "      <th>8</th>\n",
              "      <td>14.111111</td>\n",
              "      <td>367.555556</td>\n",
              "      <td>3940.055556</td>\n",
              "      <td>11.194444</td>\n",
              "      <td>1.000000</td>\n",
              "    </tr>\n",
              "  </tbody>\n",
              "</table>\n",
              "</div>"
            ],
            "text/plain": [
              "                 mpg  displacement       weight  acceleration    origin\n",
              "cylinders                                                              \n",
              "4          25.285714    107.000000  2292.571429     16.000000  2.285714\n",
              "6          20.500000    199.000000  2710.500000     15.500000  1.000000\n",
              "8          14.111111    367.555556  3940.055556     11.194444  1.000000"
            ]
          },
          "metadata": {
            "tags": []
          },
          "execution_count": 153
        }
      ]
    },
    {
      "cell_type": "code",
      "metadata": {
        "colab": {
          "base_uri": "https://localhost:8080/",
          "height": 0
        },
        "id": "EkKrwQyXgsUr",
        "outputId": "1adb5111-5e33-48e4-9d47-7dba3809f693"
      },
      "source": [
        "year_cyl.xs(key = 4, level = 1)"
      ],
      "execution_count": 154,
      "outputs": [
        {
          "output_type": "execute_result",
          "data": {
            "text/html": [
              "<div>\n",
              "<style scoped>\n",
              "    .dataframe tbody tr th:only-of-type {\n",
              "        vertical-align: middle;\n",
              "    }\n",
              "\n",
              "    .dataframe tbody tr th {\n",
              "        vertical-align: top;\n",
              "    }\n",
              "\n",
              "    .dataframe thead th {\n",
              "        text-align: right;\n",
              "    }\n",
              "</style>\n",
              "<table border=\"1\" class=\"dataframe\">\n",
              "  <thead>\n",
              "    <tr style=\"text-align: right;\">\n",
              "      <th></th>\n",
              "      <th>mpg</th>\n",
              "      <th>displacement</th>\n",
              "      <th>weight</th>\n",
              "      <th>acceleration</th>\n",
              "      <th>origin</th>\n",
              "    </tr>\n",
              "    <tr>\n",
              "      <th>model_year</th>\n",
              "      <th></th>\n",
              "      <th></th>\n",
              "      <th></th>\n",
              "      <th></th>\n",
              "      <th></th>\n",
              "    </tr>\n",
              "  </thead>\n",
              "  <tbody>\n",
              "    <tr>\n",
              "      <th>70</th>\n",
              "      <td>25.285714</td>\n",
              "      <td>107.000000</td>\n",
              "      <td>2292.571429</td>\n",
              "      <td>16.000000</td>\n",
              "      <td>2.285714</td>\n",
              "    </tr>\n",
              "    <tr>\n",
              "      <th>71</th>\n",
              "      <td>27.461538</td>\n",
              "      <td>101.846154</td>\n",
              "      <td>2056.384615</td>\n",
              "      <td>16.961538</td>\n",
              "      <td>1.923077</td>\n",
              "    </tr>\n",
              "    <tr>\n",
              "      <th>72</th>\n",
              "      <td>23.428571</td>\n",
              "      <td>111.535714</td>\n",
              "      <td>2382.642857</td>\n",
              "      <td>17.214286</td>\n",
              "      <td>1.928571</td>\n",
              "    </tr>\n",
              "    <tr>\n",
              "      <th>73</th>\n",
              "      <td>22.727273</td>\n",
              "      <td>109.272727</td>\n",
              "      <td>2338.090909</td>\n",
              "      <td>17.136364</td>\n",
              "      <td>2.000000</td>\n",
              "    </tr>\n",
              "    <tr>\n",
              "      <th>74</th>\n",
              "      <td>27.800000</td>\n",
              "      <td>96.533333</td>\n",
              "      <td>2151.466667</td>\n",
              "      <td>16.400000</td>\n",
              "      <td>2.200000</td>\n",
              "    </tr>\n",
              "    <tr>\n",
              "      <th>75</th>\n",
              "      <td>25.250000</td>\n",
              "      <td>114.833333</td>\n",
              "      <td>2489.250000</td>\n",
              "      <td>15.833333</td>\n",
              "      <td>2.166667</td>\n",
              "    </tr>\n",
              "    <tr>\n",
              "      <th>76</th>\n",
              "      <td>26.766667</td>\n",
              "      <td>106.333333</td>\n",
              "      <td>2306.600000</td>\n",
              "      <td>16.866667</td>\n",
              "      <td>1.866667</td>\n",
              "    </tr>\n",
              "    <tr>\n",
              "      <th>77</th>\n",
              "      <td>29.107143</td>\n",
              "      <td>106.500000</td>\n",
              "      <td>2205.071429</td>\n",
              "      <td>16.064286</td>\n",
              "      <td>1.857143</td>\n",
              "    </tr>\n",
              "    <tr>\n",
              "      <th>78</th>\n",
              "      <td>29.576471</td>\n",
              "      <td>112.117647</td>\n",
              "      <td>2296.764706</td>\n",
              "      <td>16.282353</td>\n",
              "      <td>2.117647</td>\n",
              "    </tr>\n",
              "    <tr>\n",
              "      <th>79</th>\n",
              "      <td>31.525000</td>\n",
              "      <td>113.583333</td>\n",
              "      <td>2357.583333</td>\n",
              "      <td>15.991667</td>\n",
              "      <td>1.583333</td>\n",
              "    </tr>\n",
              "    <tr>\n",
              "      <th>80</th>\n",
              "      <td>34.612000</td>\n",
              "      <td>111.000000</td>\n",
              "      <td>2360.080000</td>\n",
              "      <td>17.144000</td>\n",
              "      <td>2.200000</td>\n",
              "    </tr>\n",
              "    <tr>\n",
              "      <th>81</th>\n",
              "      <td>32.814286</td>\n",
              "      <td>108.857143</td>\n",
              "      <td>2275.476190</td>\n",
              "      <td>16.466667</td>\n",
              "      <td>2.095238</td>\n",
              "    </tr>\n",
              "    <tr>\n",
              "      <th>82</th>\n",
              "      <td>32.071429</td>\n",
              "      <td>118.571429</td>\n",
              "      <td>2402.321429</td>\n",
              "      <td>16.703571</td>\n",
              "      <td>1.714286</td>\n",
              "    </tr>\n",
              "  </tbody>\n",
              "</table>\n",
              "</div>"
            ],
            "text/plain": [
              "                  mpg  displacement       weight  acceleration    origin\n",
              "model_year                                                              \n",
              "70          25.285714    107.000000  2292.571429     16.000000  2.285714\n",
              "71          27.461538    101.846154  2056.384615     16.961538  1.923077\n",
              "72          23.428571    111.535714  2382.642857     17.214286  1.928571\n",
              "73          22.727273    109.272727  2338.090909     17.136364  2.000000\n",
              "74          27.800000     96.533333  2151.466667     16.400000  2.200000\n",
              "75          25.250000    114.833333  2489.250000     15.833333  2.166667\n",
              "76          26.766667    106.333333  2306.600000     16.866667  1.866667\n",
              "77          29.107143    106.500000  2205.071429     16.064286  1.857143\n",
              "78          29.576471    112.117647  2296.764706     16.282353  2.117647\n",
              "79          31.525000    113.583333  2357.583333     15.991667  1.583333\n",
              "80          34.612000    111.000000  2360.080000     17.144000  2.200000\n",
              "81          32.814286    108.857143  2275.476190     16.466667  2.095238\n",
              "82          32.071429    118.571429  2402.321429     16.703571  1.714286"
            ]
          },
          "metadata": {
            "tags": []
          },
          "execution_count": 154
        }
      ]
    },
    {
      "cell_type": "code",
      "metadata": {
        "colab": {
          "base_uri": "https://localhost:8080/",
          "height": 0
        },
        "id": "h1qoMWQpgxHR",
        "outputId": "2e17f2f3-1db4-4db9-f513-d2ff316abcad"
      },
      "source": [
        "df[df['cylinders'] > 4].groupby(['model_year', 'cylinders']).mean()"
      ],
      "execution_count": 155,
      "outputs": [
        {
          "output_type": "execute_result",
          "data": {
            "text/html": [
              "<div>\n",
              "<style scoped>\n",
              "    .dataframe tbody tr th:only-of-type {\n",
              "        vertical-align: middle;\n",
              "    }\n",
              "\n",
              "    .dataframe tbody tr th {\n",
              "        vertical-align: top;\n",
              "    }\n",
              "\n",
              "    .dataframe thead th {\n",
              "        text-align: right;\n",
              "    }\n",
              "</style>\n",
              "<table border=\"1\" class=\"dataframe\">\n",
              "  <thead>\n",
              "    <tr style=\"text-align: right;\">\n",
              "      <th></th>\n",
              "      <th></th>\n",
              "      <th>mpg</th>\n",
              "      <th>displacement</th>\n",
              "      <th>weight</th>\n",
              "      <th>acceleration</th>\n",
              "      <th>origin</th>\n",
              "    </tr>\n",
              "    <tr>\n",
              "      <th>model_year</th>\n",
              "      <th>cylinders</th>\n",
              "      <th></th>\n",
              "      <th></th>\n",
              "      <th></th>\n",
              "      <th></th>\n",
              "      <th></th>\n",
              "    </tr>\n",
              "  </thead>\n",
              "  <tbody>\n",
              "    <tr>\n",
              "      <th rowspan=\"2\" valign=\"top\">70</th>\n",
              "      <th>6</th>\n",
              "      <td>20.500000</td>\n",
              "      <td>199.000000</td>\n",
              "      <td>2710.500000</td>\n",
              "      <td>15.500000</td>\n",
              "      <td>1.000000</td>\n",
              "    </tr>\n",
              "    <tr>\n",
              "      <th>8</th>\n",
              "      <td>14.111111</td>\n",
              "      <td>367.555556</td>\n",
              "      <td>3940.055556</td>\n",
              "      <td>11.194444</td>\n",
              "      <td>1.000000</td>\n",
              "    </tr>\n",
              "    <tr>\n",
              "      <th rowspan=\"2\" valign=\"top\">71</th>\n",
              "      <th>6</th>\n",
              "      <td>18.000000</td>\n",
              "      <td>243.375000</td>\n",
              "      <td>3171.875000</td>\n",
              "      <td>14.750000</td>\n",
              "      <td>1.000000</td>\n",
              "    </tr>\n",
              "    <tr>\n",
              "      <th>8</th>\n",
              "      <td>13.428571</td>\n",
              "      <td>371.714286</td>\n",
              "      <td>4537.714286</td>\n",
              "      <td>12.214286</td>\n",
              "      <td>1.000000</td>\n",
              "    </tr>\n",
              "    <tr>\n",
              "      <th>72</th>\n",
              "      <th>8</th>\n",
              "      <td>13.615385</td>\n",
              "      <td>344.846154</td>\n",
              "      <td>4228.384615</td>\n",
              "      <td>13.000000</td>\n",
              "      <td>1.000000</td>\n",
              "    </tr>\n",
              "    <tr>\n",
              "      <th rowspan=\"2\" valign=\"top\">73</th>\n",
              "      <th>6</th>\n",
              "      <td>19.000000</td>\n",
              "      <td>212.250000</td>\n",
              "      <td>2917.125000</td>\n",
              "      <td>15.687500</td>\n",
              "      <td>1.250000</td>\n",
              "    </tr>\n",
              "    <tr>\n",
              "      <th>8</th>\n",
              "      <td>13.200000</td>\n",
              "      <td>365.250000</td>\n",
              "      <td>4279.050000</td>\n",
              "      <td>12.250000</td>\n",
              "      <td>1.000000</td>\n",
              "    </tr>\n",
              "    <tr>\n",
              "      <th rowspan=\"2\" valign=\"top\">74</th>\n",
              "      <th>6</th>\n",
              "      <td>17.857143</td>\n",
              "      <td>230.428571</td>\n",
              "      <td>3320.000000</td>\n",
              "      <td>16.857143</td>\n",
              "      <td>1.000000</td>\n",
              "    </tr>\n",
              "    <tr>\n",
              "      <th>8</th>\n",
              "      <td>14.200000</td>\n",
              "      <td>315.200000</td>\n",
              "      <td>4438.400000</td>\n",
              "      <td>14.700000</td>\n",
              "      <td>1.000000</td>\n",
              "    </tr>\n",
              "    <tr>\n",
              "      <th rowspan=\"2\" valign=\"top\">75</th>\n",
              "      <th>6</th>\n",
              "      <td>17.583333</td>\n",
              "      <td>233.750000</td>\n",
              "      <td>3398.333333</td>\n",
              "      <td>17.708333</td>\n",
              "      <td>1.000000</td>\n",
              "    </tr>\n",
              "    <tr>\n",
              "      <th>8</th>\n",
              "      <td>15.666667</td>\n",
              "      <td>330.500000</td>\n",
              "      <td>4108.833333</td>\n",
              "      <td>13.166667</td>\n",
              "      <td>1.000000</td>\n",
              "    </tr>\n",
              "    <tr>\n",
              "      <th rowspan=\"2\" valign=\"top\">76</th>\n",
              "      <th>6</th>\n",
              "      <td>20.000000</td>\n",
              "      <td>221.400000</td>\n",
              "      <td>3349.600000</td>\n",
              "      <td>17.000000</td>\n",
              "      <td>1.300000</td>\n",
              "    </tr>\n",
              "    <tr>\n",
              "      <th>8</th>\n",
              "      <td>14.666667</td>\n",
              "      <td>324.000000</td>\n",
              "      <td>4064.666667</td>\n",
              "      <td>13.222222</td>\n",
              "      <td>1.000000</td>\n",
              "    </tr>\n",
              "    <tr>\n",
              "      <th rowspan=\"2\" valign=\"top\">77</th>\n",
              "      <th>6</th>\n",
              "      <td>19.500000</td>\n",
              "      <td>220.400000</td>\n",
              "      <td>3383.000000</td>\n",
              "      <td>16.900000</td>\n",
              "      <td>1.400000</td>\n",
              "    </tr>\n",
              "    <tr>\n",
              "      <th>8</th>\n",
              "      <td>16.000000</td>\n",
              "      <td>335.750000</td>\n",
              "      <td>4177.500000</td>\n",
              "      <td>13.662500</td>\n",
              "      <td>1.000000</td>\n",
              "    </tr>\n",
              "    <tr>\n",
              "      <th rowspan=\"3\" valign=\"top\">78</th>\n",
              "      <th>5</th>\n",
              "      <td>20.300000</td>\n",
              "      <td>131.000000</td>\n",
              "      <td>2830.000000</td>\n",
              "      <td>15.900000</td>\n",
              "      <td>2.000000</td>\n",
              "    </tr>\n",
              "    <tr>\n",
              "      <th>6</th>\n",
              "      <td>19.066667</td>\n",
              "      <td>213.250000</td>\n",
              "      <td>3314.166667</td>\n",
              "      <td>16.391667</td>\n",
              "      <td>1.166667</td>\n",
              "    </tr>\n",
              "    <tr>\n",
              "      <th>8</th>\n",
              "      <td>19.050000</td>\n",
              "      <td>300.833333</td>\n",
              "      <td>3563.333333</td>\n",
              "      <td>13.266667</td>\n",
              "      <td>1.000000</td>\n",
              "    </tr>\n",
              "    <tr>\n",
              "      <th rowspan=\"3\" valign=\"top\">79</th>\n",
              "      <th>5</th>\n",
              "      <td>25.400000</td>\n",
              "      <td>183.000000</td>\n",
              "      <td>3530.000000</td>\n",
              "      <td>20.100000</td>\n",
              "      <td>2.000000</td>\n",
              "    </tr>\n",
              "    <tr>\n",
              "      <th>6</th>\n",
              "      <td>22.950000</td>\n",
              "      <td>205.666667</td>\n",
              "      <td>3025.833333</td>\n",
              "      <td>15.433333</td>\n",
              "      <td>1.000000</td>\n",
              "    </tr>\n",
              "    <tr>\n",
              "      <th>8</th>\n",
              "      <td>18.630000</td>\n",
              "      <td>321.400000</td>\n",
              "      <td>3862.900000</td>\n",
              "      <td>15.400000</td>\n",
              "      <td>1.000000</td>\n",
              "    </tr>\n",
              "    <tr>\n",
              "      <th rowspan=\"2\" valign=\"top\">80</th>\n",
              "      <th>5</th>\n",
              "      <td>36.400000</td>\n",
              "      <td>121.000000</td>\n",
              "      <td>2950.000000</td>\n",
              "      <td>19.900000</td>\n",
              "      <td>2.000000</td>\n",
              "    </tr>\n",
              "    <tr>\n",
              "      <th>6</th>\n",
              "      <td>25.900000</td>\n",
              "      <td>196.500000</td>\n",
              "      <td>3145.500000</td>\n",
              "      <td>15.050000</td>\n",
              "      <td>2.000000</td>\n",
              "    </tr>\n",
              "    <tr>\n",
              "      <th rowspan=\"2\" valign=\"top\">81</th>\n",
              "      <th>6</th>\n",
              "      <td>23.428571</td>\n",
              "      <td>184.000000</td>\n",
              "      <td>3093.571429</td>\n",
              "      <td>15.442857</td>\n",
              "      <td>1.714286</td>\n",
              "    </tr>\n",
              "    <tr>\n",
              "      <th>8</th>\n",
              "      <td>26.600000</td>\n",
              "      <td>350.000000</td>\n",
              "      <td>3725.000000</td>\n",
              "      <td>19.000000</td>\n",
              "      <td>1.000000</td>\n",
              "    </tr>\n",
              "    <tr>\n",
              "      <th>82</th>\n",
              "      <th>6</th>\n",
              "      <td>28.333333</td>\n",
              "      <td>225.000000</td>\n",
              "      <td>2931.666667</td>\n",
              "      <td>16.033333</td>\n",
              "      <td>1.000000</td>\n",
              "    </tr>\n",
              "  </tbody>\n",
              "</table>\n",
              "</div>"
            ],
            "text/plain": [
              "                            mpg  displacement  ...  acceleration    origin\n",
              "model_year cylinders                           ...                        \n",
              "70         6          20.500000    199.000000  ...     15.500000  1.000000\n",
              "           8          14.111111    367.555556  ...     11.194444  1.000000\n",
              "71         6          18.000000    243.375000  ...     14.750000  1.000000\n",
              "           8          13.428571    371.714286  ...     12.214286  1.000000\n",
              "72         8          13.615385    344.846154  ...     13.000000  1.000000\n",
              "73         6          19.000000    212.250000  ...     15.687500  1.250000\n",
              "           8          13.200000    365.250000  ...     12.250000  1.000000\n",
              "74         6          17.857143    230.428571  ...     16.857143  1.000000\n",
              "           8          14.200000    315.200000  ...     14.700000  1.000000\n",
              "75         6          17.583333    233.750000  ...     17.708333  1.000000\n",
              "           8          15.666667    330.500000  ...     13.166667  1.000000\n",
              "76         6          20.000000    221.400000  ...     17.000000  1.300000\n",
              "           8          14.666667    324.000000  ...     13.222222  1.000000\n",
              "77         6          19.500000    220.400000  ...     16.900000  1.400000\n",
              "           8          16.000000    335.750000  ...     13.662500  1.000000\n",
              "78         5          20.300000    131.000000  ...     15.900000  2.000000\n",
              "           6          19.066667    213.250000  ...     16.391667  1.166667\n",
              "           8          19.050000    300.833333  ...     13.266667  1.000000\n",
              "79         5          25.400000    183.000000  ...     20.100000  2.000000\n",
              "           6          22.950000    205.666667  ...     15.433333  1.000000\n",
              "           8          18.630000    321.400000  ...     15.400000  1.000000\n",
              "80         5          36.400000    121.000000  ...     19.900000  2.000000\n",
              "           6          25.900000    196.500000  ...     15.050000  2.000000\n",
              "81         6          23.428571    184.000000  ...     15.442857  1.714286\n",
              "           8          26.600000    350.000000  ...     19.000000  1.000000\n",
              "82         6          28.333333    225.000000  ...     16.033333  1.000000\n",
              "\n",
              "[26 rows x 5 columns]"
            ]
          },
          "metadata": {
            "tags": []
          },
          "execution_count": 155
        }
      ]
    },
    {
      "cell_type": "code",
      "metadata": {
        "colab": {
          "base_uri": "https://localhost:8080/",
          "height": 0
        },
        "id": "IOJPG2c7h8S_",
        "outputId": "d5a74d0a-319e-44b5-ad0a-c88fae2bb4f7"
      },
      "source": [
        "year_cyl.swaplevel()"
      ],
      "execution_count": 156,
      "outputs": [
        {
          "output_type": "execute_result",
          "data": {
            "text/html": [
              "<div>\n",
              "<style scoped>\n",
              "    .dataframe tbody tr th:only-of-type {\n",
              "        vertical-align: middle;\n",
              "    }\n",
              "\n",
              "    .dataframe tbody tr th {\n",
              "        vertical-align: top;\n",
              "    }\n",
              "\n",
              "    .dataframe thead th {\n",
              "        text-align: right;\n",
              "    }\n",
              "</style>\n",
              "<table border=\"1\" class=\"dataframe\">\n",
              "  <thead>\n",
              "    <tr style=\"text-align: right;\">\n",
              "      <th></th>\n",
              "      <th></th>\n",
              "      <th>mpg</th>\n",
              "      <th>displacement</th>\n",
              "      <th>weight</th>\n",
              "      <th>acceleration</th>\n",
              "      <th>origin</th>\n",
              "    </tr>\n",
              "    <tr>\n",
              "      <th>cylinders</th>\n",
              "      <th>model_year</th>\n",
              "      <th></th>\n",
              "      <th></th>\n",
              "      <th></th>\n",
              "      <th></th>\n",
              "      <th></th>\n",
              "    </tr>\n",
              "  </thead>\n",
              "  <tbody>\n",
              "    <tr>\n",
              "      <th>4</th>\n",
              "      <th>70</th>\n",
              "      <td>25.285714</td>\n",
              "      <td>107.000000</td>\n",
              "      <td>2292.571429</td>\n",
              "      <td>16.000000</td>\n",
              "      <td>2.285714</td>\n",
              "    </tr>\n",
              "    <tr>\n",
              "      <th>6</th>\n",
              "      <th>70</th>\n",
              "      <td>20.500000</td>\n",
              "      <td>199.000000</td>\n",
              "      <td>2710.500000</td>\n",
              "      <td>15.500000</td>\n",
              "      <td>1.000000</td>\n",
              "    </tr>\n",
              "    <tr>\n",
              "      <th>8</th>\n",
              "      <th>70</th>\n",
              "      <td>14.111111</td>\n",
              "      <td>367.555556</td>\n",
              "      <td>3940.055556</td>\n",
              "      <td>11.194444</td>\n",
              "      <td>1.000000</td>\n",
              "    </tr>\n",
              "    <tr>\n",
              "      <th>4</th>\n",
              "      <th>71</th>\n",
              "      <td>27.461538</td>\n",
              "      <td>101.846154</td>\n",
              "      <td>2056.384615</td>\n",
              "      <td>16.961538</td>\n",
              "      <td>1.923077</td>\n",
              "    </tr>\n",
              "    <tr>\n",
              "      <th>6</th>\n",
              "      <th>71</th>\n",
              "      <td>18.000000</td>\n",
              "      <td>243.375000</td>\n",
              "      <td>3171.875000</td>\n",
              "      <td>14.750000</td>\n",
              "      <td>1.000000</td>\n",
              "    </tr>\n",
              "    <tr>\n",
              "      <th>8</th>\n",
              "      <th>71</th>\n",
              "      <td>13.428571</td>\n",
              "      <td>371.714286</td>\n",
              "      <td>4537.714286</td>\n",
              "      <td>12.214286</td>\n",
              "      <td>1.000000</td>\n",
              "    </tr>\n",
              "    <tr>\n",
              "      <th>3</th>\n",
              "      <th>72</th>\n",
              "      <td>19.000000</td>\n",
              "      <td>70.000000</td>\n",
              "      <td>2330.000000</td>\n",
              "      <td>13.500000</td>\n",
              "      <td>3.000000</td>\n",
              "    </tr>\n",
              "    <tr>\n",
              "      <th>4</th>\n",
              "      <th>72</th>\n",
              "      <td>23.428571</td>\n",
              "      <td>111.535714</td>\n",
              "      <td>2382.642857</td>\n",
              "      <td>17.214286</td>\n",
              "      <td>1.928571</td>\n",
              "    </tr>\n",
              "    <tr>\n",
              "      <th>8</th>\n",
              "      <th>72</th>\n",
              "      <td>13.615385</td>\n",
              "      <td>344.846154</td>\n",
              "      <td>4228.384615</td>\n",
              "      <td>13.000000</td>\n",
              "      <td>1.000000</td>\n",
              "    </tr>\n",
              "    <tr>\n",
              "      <th>3</th>\n",
              "      <th>73</th>\n",
              "      <td>18.000000</td>\n",
              "      <td>70.000000</td>\n",
              "      <td>2124.000000</td>\n",
              "      <td>13.500000</td>\n",
              "      <td>3.000000</td>\n",
              "    </tr>\n",
              "    <tr>\n",
              "      <th>4</th>\n",
              "      <th>73</th>\n",
              "      <td>22.727273</td>\n",
              "      <td>109.272727</td>\n",
              "      <td>2338.090909</td>\n",
              "      <td>17.136364</td>\n",
              "      <td>2.000000</td>\n",
              "    </tr>\n",
              "    <tr>\n",
              "      <th>6</th>\n",
              "      <th>73</th>\n",
              "      <td>19.000000</td>\n",
              "      <td>212.250000</td>\n",
              "      <td>2917.125000</td>\n",
              "      <td>15.687500</td>\n",
              "      <td>1.250000</td>\n",
              "    </tr>\n",
              "    <tr>\n",
              "      <th>8</th>\n",
              "      <th>73</th>\n",
              "      <td>13.200000</td>\n",
              "      <td>365.250000</td>\n",
              "      <td>4279.050000</td>\n",
              "      <td>12.250000</td>\n",
              "      <td>1.000000</td>\n",
              "    </tr>\n",
              "    <tr>\n",
              "      <th>4</th>\n",
              "      <th>74</th>\n",
              "      <td>27.800000</td>\n",
              "      <td>96.533333</td>\n",
              "      <td>2151.466667</td>\n",
              "      <td>16.400000</td>\n",
              "      <td>2.200000</td>\n",
              "    </tr>\n",
              "    <tr>\n",
              "      <th>6</th>\n",
              "      <th>74</th>\n",
              "      <td>17.857143</td>\n",
              "      <td>230.428571</td>\n",
              "      <td>3320.000000</td>\n",
              "      <td>16.857143</td>\n",
              "      <td>1.000000</td>\n",
              "    </tr>\n",
              "    <tr>\n",
              "      <th>8</th>\n",
              "      <th>74</th>\n",
              "      <td>14.200000</td>\n",
              "      <td>315.200000</td>\n",
              "      <td>4438.400000</td>\n",
              "      <td>14.700000</td>\n",
              "      <td>1.000000</td>\n",
              "    </tr>\n",
              "    <tr>\n",
              "      <th>4</th>\n",
              "      <th>75</th>\n",
              "      <td>25.250000</td>\n",
              "      <td>114.833333</td>\n",
              "      <td>2489.250000</td>\n",
              "      <td>15.833333</td>\n",
              "      <td>2.166667</td>\n",
              "    </tr>\n",
              "    <tr>\n",
              "      <th>6</th>\n",
              "      <th>75</th>\n",
              "      <td>17.583333</td>\n",
              "      <td>233.750000</td>\n",
              "      <td>3398.333333</td>\n",
              "      <td>17.708333</td>\n",
              "      <td>1.000000</td>\n",
              "    </tr>\n",
              "    <tr>\n",
              "      <th>8</th>\n",
              "      <th>75</th>\n",
              "      <td>15.666667</td>\n",
              "      <td>330.500000</td>\n",
              "      <td>4108.833333</td>\n",
              "      <td>13.166667</td>\n",
              "      <td>1.000000</td>\n",
              "    </tr>\n",
              "    <tr>\n",
              "      <th>4</th>\n",
              "      <th>76</th>\n",
              "      <td>26.766667</td>\n",
              "      <td>106.333333</td>\n",
              "      <td>2306.600000</td>\n",
              "      <td>16.866667</td>\n",
              "      <td>1.866667</td>\n",
              "    </tr>\n",
              "    <tr>\n",
              "      <th>6</th>\n",
              "      <th>76</th>\n",
              "      <td>20.000000</td>\n",
              "      <td>221.400000</td>\n",
              "      <td>3349.600000</td>\n",
              "      <td>17.000000</td>\n",
              "      <td>1.300000</td>\n",
              "    </tr>\n",
              "    <tr>\n",
              "      <th>8</th>\n",
              "      <th>76</th>\n",
              "      <td>14.666667</td>\n",
              "      <td>324.000000</td>\n",
              "      <td>4064.666667</td>\n",
              "      <td>13.222222</td>\n",
              "      <td>1.000000</td>\n",
              "    </tr>\n",
              "    <tr>\n",
              "      <th>3</th>\n",
              "      <th>77</th>\n",
              "      <td>21.500000</td>\n",
              "      <td>80.000000</td>\n",
              "      <td>2720.000000</td>\n",
              "      <td>13.500000</td>\n",
              "      <td>3.000000</td>\n",
              "    </tr>\n",
              "    <tr>\n",
              "      <th>4</th>\n",
              "      <th>77</th>\n",
              "      <td>29.107143</td>\n",
              "      <td>106.500000</td>\n",
              "      <td>2205.071429</td>\n",
              "      <td>16.064286</td>\n",
              "      <td>1.857143</td>\n",
              "    </tr>\n",
              "    <tr>\n",
              "      <th>6</th>\n",
              "      <th>77</th>\n",
              "      <td>19.500000</td>\n",
              "      <td>220.400000</td>\n",
              "      <td>3383.000000</td>\n",
              "      <td>16.900000</td>\n",
              "      <td>1.400000</td>\n",
              "    </tr>\n",
              "    <tr>\n",
              "      <th>8</th>\n",
              "      <th>77</th>\n",
              "      <td>16.000000</td>\n",
              "      <td>335.750000</td>\n",
              "      <td>4177.500000</td>\n",
              "      <td>13.662500</td>\n",
              "      <td>1.000000</td>\n",
              "    </tr>\n",
              "    <tr>\n",
              "      <th>4</th>\n",
              "      <th>78</th>\n",
              "      <td>29.576471</td>\n",
              "      <td>112.117647</td>\n",
              "      <td>2296.764706</td>\n",
              "      <td>16.282353</td>\n",
              "      <td>2.117647</td>\n",
              "    </tr>\n",
              "    <tr>\n",
              "      <th>5</th>\n",
              "      <th>78</th>\n",
              "      <td>20.300000</td>\n",
              "      <td>131.000000</td>\n",
              "      <td>2830.000000</td>\n",
              "      <td>15.900000</td>\n",
              "      <td>2.000000</td>\n",
              "    </tr>\n",
              "    <tr>\n",
              "      <th>6</th>\n",
              "      <th>78</th>\n",
              "      <td>19.066667</td>\n",
              "      <td>213.250000</td>\n",
              "      <td>3314.166667</td>\n",
              "      <td>16.391667</td>\n",
              "      <td>1.166667</td>\n",
              "    </tr>\n",
              "    <tr>\n",
              "      <th>8</th>\n",
              "      <th>78</th>\n",
              "      <td>19.050000</td>\n",
              "      <td>300.833333</td>\n",
              "      <td>3563.333333</td>\n",
              "      <td>13.266667</td>\n",
              "      <td>1.000000</td>\n",
              "    </tr>\n",
              "    <tr>\n",
              "      <th>4</th>\n",
              "      <th>79</th>\n",
              "      <td>31.525000</td>\n",
              "      <td>113.583333</td>\n",
              "      <td>2357.583333</td>\n",
              "      <td>15.991667</td>\n",
              "      <td>1.583333</td>\n",
              "    </tr>\n",
              "    <tr>\n",
              "      <th>5</th>\n",
              "      <th>79</th>\n",
              "      <td>25.400000</td>\n",
              "      <td>183.000000</td>\n",
              "      <td>3530.000000</td>\n",
              "      <td>20.100000</td>\n",
              "      <td>2.000000</td>\n",
              "    </tr>\n",
              "    <tr>\n",
              "      <th>6</th>\n",
              "      <th>79</th>\n",
              "      <td>22.950000</td>\n",
              "      <td>205.666667</td>\n",
              "      <td>3025.833333</td>\n",
              "      <td>15.433333</td>\n",
              "      <td>1.000000</td>\n",
              "    </tr>\n",
              "    <tr>\n",
              "      <th>8</th>\n",
              "      <th>79</th>\n",
              "      <td>18.630000</td>\n",
              "      <td>321.400000</td>\n",
              "      <td>3862.900000</td>\n",
              "      <td>15.400000</td>\n",
              "      <td>1.000000</td>\n",
              "    </tr>\n",
              "    <tr>\n",
              "      <th>3</th>\n",
              "      <th>80</th>\n",
              "      <td>23.700000</td>\n",
              "      <td>70.000000</td>\n",
              "      <td>2420.000000</td>\n",
              "      <td>12.500000</td>\n",
              "      <td>3.000000</td>\n",
              "    </tr>\n",
              "    <tr>\n",
              "      <th>4</th>\n",
              "      <th>80</th>\n",
              "      <td>34.612000</td>\n",
              "      <td>111.000000</td>\n",
              "      <td>2360.080000</td>\n",
              "      <td>17.144000</td>\n",
              "      <td>2.200000</td>\n",
              "    </tr>\n",
              "    <tr>\n",
              "      <th>5</th>\n",
              "      <th>80</th>\n",
              "      <td>36.400000</td>\n",
              "      <td>121.000000</td>\n",
              "      <td>2950.000000</td>\n",
              "      <td>19.900000</td>\n",
              "      <td>2.000000</td>\n",
              "    </tr>\n",
              "    <tr>\n",
              "      <th>6</th>\n",
              "      <th>80</th>\n",
              "      <td>25.900000</td>\n",
              "      <td>196.500000</td>\n",
              "      <td>3145.500000</td>\n",
              "      <td>15.050000</td>\n",
              "      <td>2.000000</td>\n",
              "    </tr>\n",
              "    <tr>\n",
              "      <th>4</th>\n",
              "      <th>81</th>\n",
              "      <td>32.814286</td>\n",
              "      <td>108.857143</td>\n",
              "      <td>2275.476190</td>\n",
              "      <td>16.466667</td>\n",
              "      <td>2.095238</td>\n",
              "    </tr>\n",
              "    <tr>\n",
              "      <th>6</th>\n",
              "      <th>81</th>\n",
              "      <td>23.428571</td>\n",
              "      <td>184.000000</td>\n",
              "      <td>3093.571429</td>\n",
              "      <td>15.442857</td>\n",
              "      <td>1.714286</td>\n",
              "    </tr>\n",
              "    <tr>\n",
              "      <th>8</th>\n",
              "      <th>81</th>\n",
              "      <td>26.600000</td>\n",
              "      <td>350.000000</td>\n",
              "      <td>3725.000000</td>\n",
              "      <td>19.000000</td>\n",
              "      <td>1.000000</td>\n",
              "    </tr>\n",
              "    <tr>\n",
              "      <th>4</th>\n",
              "      <th>82</th>\n",
              "      <td>32.071429</td>\n",
              "      <td>118.571429</td>\n",
              "      <td>2402.321429</td>\n",
              "      <td>16.703571</td>\n",
              "      <td>1.714286</td>\n",
              "    </tr>\n",
              "    <tr>\n",
              "      <th>6</th>\n",
              "      <th>82</th>\n",
              "      <td>28.333333</td>\n",
              "      <td>225.000000</td>\n",
              "      <td>2931.666667</td>\n",
              "      <td>16.033333</td>\n",
              "      <td>1.000000</td>\n",
              "    </tr>\n",
              "  </tbody>\n",
              "</table>\n",
              "</div>"
            ],
            "text/plain": [
              "                            mpg  displacement  ...  acceleration    origin\n",
              "cylinders model_year                           ...                        \n",
              "4         70          25.285714    107.000000  ...     16.000000  2.285714\n",
              "6         70          20.500000    199.000000  ...     15.500000  1.000000\n",
              "8         70          14.111111    367.555556  ...     11.194444  1.000000\n",
              "4         71          27.461538    101.846154  ...     16.961538  1.923077\n",
              "6         71          18.000000    243.375000  ...     14.750000  1.000000\n",
              "8         71          13.428571    371.714286  ...     12.214286  1.000000\n",
              "3         72          19.000000     70.000000  ...     13.500000  3.000000\n",
              "4         72          23.428571    111.535714  ...     17.214286  1.928571\n",
              "8         72          13.615385    344.846154  ...     13.000000  1.000000\n",
              "3         73          18.000000     70.000000  ...     13.500000  3.000000\n",
              "4         73          22.727273    109.272727  ...     17.136364  2.000000\n",
              "6         73          19.000000    212.250000  ...     15.687500  1.250000\n",
              "8         73          13.200000    365.250000  ...     12.250000  1.000000\n",
              "4         74          27.800000     96.533333  ...     16.400000  2.200000\n",
              "6         74          17.857143    230.428571  ...     16.857143  1.000000\n",
              "8         74          14.200000    315.200000  ...     14.700000  1.000000\n",
              "4         75          25.250000    114.833333  ...     15.833333  2.166667\n",
              "6         75          17.583333    233.750000  ...     17.708333  1.000000\n",
              "8         75          15.666667    330.500000  ...     13.166667  1.000000\n",
              "4         76          26.766667    106.333333  ...     16.866667  1.866667\n",
              "6         76          20.000000    221.400000  ...     17.000000  1.300000\n",
              "8         76          14.666667    324.000000  ...     13.222222  1.000000\n",
              "3         77          21.500000     80.000000  ...     13.500000  3.000000\n",
              "4         77          29.107143    106.500000  ...     16.064286  1.857143\n",
              "6         77          19.500000    220.400000  ...     16.900000  1.400000\n",
              "8         77          16.000000    335.750000  ...     13.662500  1.000000\n",
              "4         78          29.576471    112.117647  ...     16.282353  2.117647\n",
              "5         78          20.300000    131.000000  ...     15.900000  2.000000\n",
              "6         78          19.066667    213.250000  ...     16.391667  1.166667\n",
              "8         78          19.050000    300.833333  ...     13.266667  1.000000\n",
              "4         79          31.525000    113.583333  ...     15.991667  1.583333\n",
              "5         79          25.400000    183.000000  ...     20.100000  2.000000\n",
              "6         79          22.950000    205.666667  ...     15.433333  1.000000\n",
              "8         79          18.630000    321.400000  ...     15.400000  1.000000\n",
              "3         80          23.700000     70.000000  ...     12.500000  3.000000\n",
              "4         80          34.612000    111.000000  ...     17.144000  2.200000\n",
              "5         80          36.400000    121.000000  ...     19.900000  2.000000\n",
              "6         80          25.900000    196.500000  ...     15.050000  2.000000\n",
              "4         81          32.814286    108.857143  ...     16.466667  2.095238\n",
              "6         81          23.428571    184.000000  ...     15.442857  1.714286\n",
              "8         81          26.600000    350.000000  ...     19.000000  1.000000\n",
              "4         82          32.071429    118.571429  ...     16.703571  1.714286\n",
              "6         82          28.333333    225.000000  ...     16.033333  1.000000\n",
              "\n",
              "[43 rows x 5 columns]"
            ]
          },
          "metadata": {
            "tags": []
          },
          "execution_count": 156
        }
      ]
    },
    {
      "cell_type": "code",
      "metadata": {
        "colab": {
          "base_uri": "https://localhost:8080/",
          "height": 0
        },
        "id": "vPXlK6172Fl6",
        "outputId": "fdac746f-27f8-4f56-d0f2-7be68c5923d6"
      },
      "source": [
        "year_cyl.sort_index(level = 0, ascending = False) #OR year_cyl.sort_index(level = 'model_year', ascending = False)"
      ],
      "execution_count": 157,
      "outputs": [
        {
          "output_type": "execute_result",
          "data": {
            "text/html": [
              "<div>\n",
              "<style scoped>\n",
              "    .dataframe tbody tr th:only-of-type {\n",
              "        vertical-align: middle;\n",
              "    }\n",
              "\n",
              "    .dataframe tbody tr th {\n",
              "        vertical-align: top;\n",
              "    }\n",
              "\n",
              "    .dataframe thead th {\n",
              "        text-align: right;\n",
              "    }\n",
              "</style>\n",
              "<table border=\"1\" class=\"dataframe\">\n",
              "  <thead>\n",
              "    <tr style=\"text-align: right;\">\n",
              "      <th></th>\n",
              "      <th></th>\n",
              "      <th>mpg</th>\n",
              "      <th>displacement</th>\n",
              "      <th>weight</th>\n",
              "      <th>acceleration</th>\n",
              "      <th>origin</th>\n",
              "    </tr>\n",
              "    <tr>\n",
              "      <th>model_year</th>\n",
              "      <th>cylinders</th>\n",
              "      <th></th>\n",
              "      <th></th>\n",
              "      <th></th>\n",
              "      <th></th>\n",
              "      <th></th>\n",
              "    </tr>\n",
              "  </thead>\n",
              "  <tbody>\n",
              "    <tr>\n",
              "      <th rowspan=\"2\" valign=\"top\">82</th>\n",
              "      <th>6</th>\n",
              "      <td>28.333333</td>\n",
              "      <td>225.000000</td>\n",
              "      <td>2931.666667</td>\n",
              "      <td>16.033333</td>\n",
              "      <td>1.000000</td>\n",
              "    </tr>\n",
              "    <tr>\n",
              "      <th>4</th>\n",
              "      <td>32.071429</td>\n",
              "      <td>118.571429</td>\n",
              "      <td>2402.321429</td>\n",
              "      <td>16.703571</td>\n",
              "      <td>1.714286</td>\n",
              "    </tr>\n",
              "    <tr>\n",
              "      <th rowspan=\"3\" valign=\"top\">81</th>\n",
              "      <th>8</th>\n",
              "      <td>26.600000</td>\n",
              "      <td>350.000000</td>\n",
              "      <td>3725.000000</td>\n",
              "      <td>19.000000</td>\n",
              "      <td>1.000000</td>\n",
              "    </tr>\n",
              "    <tr>\n",
              "      <th>6</th>\n",
              "      <td>23.428571</td>\n",
              "      <td>184.000000</td>\n",
              "      <td>3093.571429</td>\n",
              "      <td>15.442857</td>\n",
              "      <td>1.714286</td>\n",
              "    </tr>\n",
              "    <tr>\n",
              "      <th>4</th>\n",
              "      <td>32.814286</td>\n",
              "      <td>108.857143</td>\n",
              "      <td>2275.476190</td>\n",
              "      <td>16.466667</td>\n",
              "      <td>2.095238</td>\n",
              "    </tr>\n",
              "    <tr>\n",
              "      <th rowspan=\"4\" valign=\"top\">80</th>\n",
              "      <th>6</th>\n",
              "      <td>25.900000</td>\n",
              "      <td>196.500000</td>\n",
              "      <td>3145.500000</td>\n",
              "      <td>15.050000</td>\n",
              "      <td>2.000000</td>\n",
              "    </tr>\n",
              "    <tr>\n",
              "      <th>5</th>\n",
              "      <td>36.400000</td>\n",
              "      <td>121.000000</td>\n",
              "      <td>2950.000000</td>\n",
              "      <td>19.900000</td>\n",
              "      <td>2.000000</td>\n",
              "    </tr>\n",
              "    <tr>\n",
              "      <th>4</th>\n",
              "      <td>34.612000</td>\n",
              "      <td>111.000000</td>\n",
              "      <td>2360.080000</td>\n",
              "      <td>17.144000</td>\n",
              "      <td>2.200000</td>\n",
              "    </tr>\n",
              "    <tr>\n",
              "      <th>3</th>\n",
              "      <td>23.700000</td>\n",
              "      <td>70.000000</td>\n",
              "      <td>2420.000000</td>\n",
              "      <td>12.500000</td>\n",
              "      <td>3.000000</td>\n",
              "    </tr>\n",
              "    <tr>\n",
              "      <th rowspan=\"4\" valign=\"top\">79</th>\n",
              "      <th>8</th>\n",
              "      <td>18.630000</td>\n",
              "      <td>321.400000</td>\n",
              "      <td>3862.900000</td>\n",
              "      <td>15.400000</td>\n",
              "      <td>1.000000</td>\n",
              "    </tr>\n",
              "    <tr>\n",
              "      <th>6</th>\n",
              "      <td>22.950000</td>\n",
              "      <td>205.666667</td>\n",
              "      <td>3025.833333</td>\n",
              "      <td>15.433333</td>\n",
              "      <td>1.000000</td>\n",
              "    </tr>\n",
              "    <tr>\n",
              "      <th>5</th>\n",
              "      <td>25.400000</td>\n",
              "      <td>183.000000</td>\n",
              "      <td>3530.000000</td>\n",
              "      <td>20.100000</td>\n",
              "      <td>2.000000</td>\n",
              "    </tr>\n",
              "    <tr>\n",
              "      <th>4</th>\n",
              "      <td>31.525000</td>\n",
              "      <td>113.583333</td>\n",
              "      <td>2357.583333</td>\n",
              "      <td>15.991667</td>\n",
              "      <td>1.583333</td>\n",
              "    </tr>\n",
              "    <tr>\n",
              "      <th rowspan=\"4\" valign=\"top\">78</th>\n",
              "      <th>8</th>\n",
              "      <td>19.050000</td>\n",
              "      <td>300.833333</td>\n",
              "      <td>3563.333333</td>\n",
              "      <td>13.266667</td>\n",
              "      <td>1.000000</td>\n",
              "    </tr>\n",
              "    <tr>\n",
              "      <th>6</th>\n",
              "      <td>19.066667</td>\n",
              "      <td>213.250000</td>\n",
              "      <td>3314.166667</td>\n",
              "      <td>16.391667</td>\n",
              "      <td>1.166667</td>\n",
              "    </tr>\n",
              "    <tr>\n",
              "      <th>5</th>\n",
              "      <td>20.300000</td>\n",
              "      <td>131.000000</td>\n",
              "      <td>2830.000000</td>\n",
              "      <td>15.900000</td>\n",
              "      <td>2.000000</td>\n",
              "    </tr>\n",
              "    <tr>\n",
              "      <th>4</th>\n",
              "      <td>29.576471</td>\n",
              "      <td>112.117647</td>\n",
              "      <td>2296.764706</td>\n",
              "      <td>16.282353</td>\n",
              "      <td>2.117647</td>\n",
              "    </tr>\n",
              "    <tr>\n",
              "      <th rowspan=\"4\" valign=\"top\">77</th>\n",
              "      <th>8</th>\n",
              "      <td>16.000000</td>\n",
              "      <td>335.750000</td>\n",
              "      <td>4177.500000</td>\n",
              "      <td>13.662500</td>\n",
              "      <td>1.000000</td>\n",
              "    </tr>\n",
              "    <tr>\n",
              "      <th>6</th>\n",
              "      <td>19.500000</td>\n",
              "      <td>220.400000</td>\n",
              "      <td>3383.000000</td>\n",
              "      <td>16.900000</td>\n",
              "      <td>1.400000</td>\n",
              "    </tr>\n",
              "    <tr>\n",
              "      <th>4</th>\n",
              "      <td>29.107143</td>\n",
              "      <td>106.500000</td>\n",
              "      <td>2205.071429</td>\n",
              "      <td>16.064286</td>\n",
              "      <td>1.857143</td>\n",
              "    </tr>\n",
              "    <tr>\n",
              "      <th>3</th>\n",
              "      <td>21.500000</td>\n",
              "      <td>80.000000</td>\n",
              "      <td>2720.000000</td>\n",
              "      <td>13.500000</td>\n",
              "      <td>3.000000</td>\n",
              "    </tr>\n",
              "    <tr>\n",
              "      <th rowspan=\"3\" valign=\"top\">76</th>\n",
              "      <th>8</th>\n",
              "      <td>14.666667</td>\n",
              "      <td>324.000000</td>\n",
              "      <td>4064.666667</td>\n",
              "      <td>13.222222</td>\n",
              "      <td>1.000000</td>\n",
              "    </tr>\n",
              "    <tr>\n",
              "      <th>6</th>\n",
              "      <td>20.000000</td>\n",
              "      <td>221.400000</td>\n",
              "      <td>3349.600000</td>\n",
              "      <td>17.000000</td>\n",
              "      <td>1.300000</td>\n",
              "    </tr>\n",
              "    <tr>\n",
              "      <th>4</th>\n",
              "      <td>26.766667</td>\n",
              "      <td>106.333333</td>\n",
              "      <td>2306.600000</td>\n",
              "      <td>16.866667</td>\n",
              "      <td>1.866667</td>\n",
              "    </tr>\n",
              "    <tr>\n",
              "      <th rowspan=\"3\" valign=\"top\">75</th>\n",
              "      <th>8</th>\n",
              "      <td>15.666667</td>\n",
              "      <td>330.500000</td>\n",
              "      <td>4108.833333</td>\n",
              "      <td>13.166667</td>\n",
              "      <td>1.000000</td>\n",
              "    </tr>\n",
              "    <tr>\n",
              "      <th>6</th>\n",
              "      <td>17.583333</td>\n",
              "      <td>233.750000</td>\n",
              "      <td>3398.333333</td>\n",
              "      <td>17.708333</td>\n",
              "      <td>1.000000</td>\n",
              "    </tr>\n",
              "    <tr>\n",
              "      <th>4</th>\n",
              "      <td>25.250000</td>\n",
              "      <td>114.833333</td>\n",
              "      <td>2489.250000</td>\n",
              "      <td>15.833333</td>\n",
              "      <td>2.166667</td>\n",
              "    </tr>\n",
              "    <tr>\n",
              "      <th rowspan=\"3\" valign=\"top\">74</th>\n",
              "      <th>8</th>\n",
              "      <td>14.200000</td>\n",
              "      <td>315.200000</td>\n",
              "      <td>4438.400000</td>\n",
              "      <td>14.700000</td>\n",
              "      <td>1.000000</td>\n",
              "    </tr>\n",
              "    <tr>\n",
              "      <th>6</th>\n",
              "      <td>17.857143</td>\n",
              "      <td>230.428571</td>\n",
              "      <td>3320.000000</td>\n",
              "      <td>16.857143</td>\n",
              "      <td>1.000000</td>\n",
              "    </tr>\n",
              "    <tr>\n",
              "      <th>4</th>\n",
              "      <td>27.800000</td>\n",
              "      <td>96.533333</td>\n",
              "      <td>2151.466667</td>\n",
              "      <td>16.400000</td>\n",
              "      <td>2.200000</td>\n",
              "    </tr>\n",
              "    <tr>\n",
              "      <th rowspan=\"4\" valign=\"top\">73</th>\n",
              "      <th>8</th>\n",
              "      <td>13.200000</td>\n",
              "      <td>365.250000</td>\n",
              "      <td>4279.050000</td>\n",
              "      <td>12.250000</td>\n",
              "      <td>1.000000</td>\n",
              "    </tr>\n",
              "    <tr>\n",
              "      <th>6</th>\n",
              "      <td>19.000000</td>\n",
              "      <td>212.250000</td>\n",
              "      <td>2917.125000</td>\n",
              "      <td>15.687500</td>\n",
              "      <td>1.250000</td>\n",
              "    </tr>\n",
              "    <tr>\n",
              "      <th>4</th>\n",
              "      <td>22.727273</td>\n",
              "      <td>109.272727</td>\n",
              "      <td>2338.090909</td>\n",
              "      <td>17.136364</td>\n",
              "      <td>2.000000</td>\n",
              "    </tr>\n",
              "    <tr>\n",
              "      <th>3</th>\n",
              "      <td>18.000000</td>\n",
              "      <td>70.000000</td>\n",
              "      <td>2124.000000</td>\n",
              "      <td>13.500000</td>\n",
              "      <td>3.000000</td>\n",
              "    </tr>\n",
              "    <tr>\n",
              "      <th rowspan=\"3\" valign=\"top\">72</th>\n",
              "      <th>8</th>\n",
              "      <td>13.615385</td>\n",
              "      <td>344.846154</td>\n",
              "      <td>4228.384615</td>\n",
              "      <td>13.000000</td>\n",
              "      <td>1.000000</td>\n",
              "    </tr>\n",
              "    <tr>\n",
              "      <th>4</th>\n",
              "      <td>23.428571</td>\n",
              "      <td>111.535714</td>\n",
              "      <td>2382.642857</td>\n",
              "      <td>17.214286</td>\n",
              "      <td>1.928571</td>\n",
              "    </tr>\n",
              "    <tr>\n",
              "      <th>3</th>\n",
              "      <td>19.000000</td>\n",
              "      <td>70.000000</td>\n",
              "      <td>2330.000000</td>\n",
              "      <td>13.500000</td>\n",
              "      <td>3.000000</td>\n",
              "    </tr>\n",
              "    <tr>\n",
              "      <th rowspan=\"3\" valign=\"top\">71</th>\n",
              "      <th>8</th>\n",
              "      <td>13.428571</td>\n",
              "      <td>371.714286</td>\n",
              "      <td>4537.714286</td>\n",
              "      <td>12.214286</td>\n",
              "      <td>1.000000</td>\n",
              "    </tr>\n",
              "    <tr>\n",
              "      <th>6</th>\n",
              "      <td>18.000000</td>\n",
              "      <td>243.375000</td>\n",
              "      <td>3171.875000</td>\n",
              "      <td>14.750000</td>\n",
              "      <td>1.000000</td>\n",
              "    </tr>\n",
              "    <tr>\n",
              "      <th>4</th>\n",
              "      <td>27.461538</td>\n",
              "      <td>101.846154</td>\n",
              "      <td>2056.384615</td>\n",
              "      <td>16.961538</td>\n",
              "      <td>1.923077</td>\n",
              "    </tr>\n",
              "    <tr>\n",
              "      <th rowspan=\"3\" valign=\"top\">70</th>\n",
              "      <th>8</th>\n",
              "      <td>14.111111</td>\n",
              "      <td>367.555556</td>\n",
              "      <td>3940.055556</td>\n",
              "      <td>11.194444</td>\n",
              "      <td>1.000000</td>\n",
              "    </tr>\n",
              "    <tr>\n",
              "      <th>6</th>\n",
              "      <td>20.500000</td>\n",
              "      <td>199.000000</td>\n",
              "      <td>2710.500000</td>\n",
              "      <td>15.500000</td>\n",
              "      <td>1.000000</td>\n",
              "    </tr>\n",
              "    <tr>\n",
              "      <th>4</th>\n",
              "      <td>25.285714</td>\n",
              "      <td>107.000000</td>\n",
              "      <td>2292.571429</td>\n",
              "      <td>16.000000</td>\n",
              "      <td>2.285714</td>\n",
              "    </tr>\n",
              "  </tbody>\n",
              "</table>\n",
              "</div>"
            ],
            "text/plain": [
              "                            mpg  displacement  ...  acceleration    origin\n",
              "model_year cylinders                           ...                        \n",
              "82         6          28.333333    225.000000  ...     16.033333  1.000000\n",
              "           4          32.071429    118.571429  ...     16.703571  1.714286\n",
              "81         8          26.600000    350.000000  ...     19.000000  1.000000\n",
              "           6          23.428571    184.000000  ...     15.442857  1.714286\n",
              "           4          32.814286    108.857143  ...     16.466667  2.095238\n",
              "80         6          25.900000    196.500000  ...     15.050000  2.000000\n",
              "           5          36.400000    121.000000  ...     19.900000  2.000000\n",
              "           4          34.612000    111.000000  ...     17.144000  2.200000\n",
              "           3          23.700000     70.000000  ...     12.500000  3.000000\n",
              "79         8          18.630000    321.400000  ...     15.400000  1.000000\n",
              "           6          22.950000    205.666667  ...     15.433333  1.000000\n",
              "           5          25.400000    183.000000  ...     20.100000  2.000000\n",
              "           4          31.525000    113.583333  ...     15.991667  1.583333\n",
              "78         8          19.050000    300.833333  ...     13.266667  1.000000\n",
              "           6          19.066667    213.250000  ...     16.391667  1.166667\n",
              "           5          20.300000    131.000000  ...     15.900000  2.000000\n",
              "           4          29.576471    112.117647  ...     16.282353  2.117647\n",
              "77         8          16.000000    335.750000  ...     13.662500  1.000000\n",
              "           6          19.500000    220.400000  ...     16.900000  1.400000\n",
              "           4          29.107143    106.500000  ...     16.064286  1.857143\n",
              "           3          21.500000     80.000000  ...     13.500000  3.000000\n",
              "76         8          14.666667    324.000000  ...     13.222222  1.000000\n",
              "           6          20.000000    221.400000  ...     17.000000  1.300000\n",
              "           4          26.766667    106.333333  ...     16.866667  1.866667\n",
              "75         8          15.666667    330.500000  ...     13.166667  1.000000\n",
              "           6          17.583333    233.750000  ...     17.708333  1.000000\n",
              "           4          25.250000    114.833333  ...     15.833333  2.166667\n",
              "74         8          14.200000    315.200000  ...     14.700000  1.000000\n",
              "           6          17.857143    230.428571  ...     16.857143  1.000000\n",
              "           4          27.800000     96.533333  ...     16.400000  2.200000\n",
              "73         8          13.200000    365.250000  ...     12.250000  1.000000\n",
              "           6          19.000000    212.250000  ...     15.687500  1.250000\n",
              "           4          22.727273    109.272727  ...     17.136364  2.000000\n",
              "           3          18.000000     70.000000  ...     13.500000  3.000000\n",
              "72         8          13.615385    344.846154  ...     13.000000  1.000000\n",
              "           4          23.428571    111.535714  ...     17.214286  1.928571\n",
              "           3          19.000000     70.000000  ...     13.500000  3.000000\n",
              "71         8          13.428571    371.714286  ...     12.214286  1.000000\n",
              "           6          18.000000    243.375000  ...     14.750000  1.000000\n",
              "           4          27.461538    101.846154  ...     16.961538  1.923077\n",
              "70         8          14.111111    367.555556  ...     11.194444  1.000000\n",
              "           6          20.500000    199.000000  ...     15.500000  1.000000\n",
              "           4          25.285714    107.000000  ...     16.000000  2.285714\n",
              "\n",
              "[43 rows x 5 columns]"
            ]
          },
          "metadata": {
            "tags": []
          },
          "execution_count": 157
        }
      ]
    },
    {
      "cell_type": "code",
      "metadata": {
        "colab": {
          "base_uri": "https://localhost:8080/",
          "height": 0
        },
        "id": "WQ5F8rmk2QIL",
        "outputId": "a436b893-5d67-491d-e159-e7b07db2a205"
      },
      "source": [
        "df.agg(['mean', 'std'])"
      ],
      "execution_count": 158,
      "outputs": [
        {
          "output_type": "execute_result",
          "data": {
            "text/html": [
              "<div>\n",
              "<style scoped>\n",
              "    .dataframe tbody tr th:only-of-type {\n",
              "        vertical-align: middle;\n",
              "    }\n",
              "\n",
              "    .dataframe tbody tr th {\n",
              "        vertical-align: top;\n",
              "    }\n",
              "\n",
              "    .dataframe thead th {\n",
              "        text-align: right;\n",
              "    }\n",
              "</style>\n",
              "<table border=\"1\" class=\"dataframe\">\n",
              "  <thead>\n",
              "    <tr style=\"text-align: right;\">\n",
              "      <th></th>\n",
              "      <th>mpg</th>\n",
              "      <th>cylinders</th>\n",
              "      <th>displacement</th>\n",
              "      <th>weight</th>\n",
              "      <th>acceleration</th>\n",
              "      <th>model_year</th>\n",
              "      <th>origin</th>\n",
              "    </tr>\n",
              "  </thead>\n",
              "  <tbody>\n",
              "    <tr>\n",
              "      <th>mean</th>\n",
              "      <td>23.514573</td>\n",
              "      <td>5.454774</td>\n",
              "      <td>193.425879</td>\n",
              "      <td>2970.424623</td>\n",
              "      <td>15.568090</td>\n",
              "      <td>76.010050</td>\n",
              "      <td>1.572864</td>\n",
              "    </tr>\n",
              "    <tr>\n",
              "      <th>std</th>\n",
              "      <td>7.815984</td>\n",
              "      <td>1.701004</td>\n",
              "      <td>104.269838</td>\n",
              "      <td>846.841774</td>\n",
              "      <td>2.757689</td>\n",
              "      <td>3.697627</td>\n",
              "      <td>0.802055</td>\n",
              "    </tr>\n",
              "  </tbody>\n",
              "</table>\n",
              "</div>"
            ],
            "text/plain": [
              "            mpg  cylinders  displacement  ...  acceleration  model_year    origin\n",
              "mean  23.514573   5.454774    193.425879  ...     15.568090   76.010050  1.572864\n",
              "std    7.815984   1.701004    104.269838  ...      2.757689    3.697627  0.802055\n",
              "\n",
              "[2 rows x 7 columns]"
            ]
          },
          "metadata": {
            "tags": []
          },
          "execution_count": 158
        }
      ]
    },
    {
      "cell_type": "code",
      "metadata": {
        "colab": {
          "base_uri": "https://localhost:8080/",
          "height": 0
        },
        "id": "z1GGQH5q3bhv",
        "outputId": "c6b076c0-e7c3-4034-e609-9174f933f1e3"
      },
      "source": [
        " df.agg({'mpg': ['mean', 'max', 'min'], 'weight': ['max', 'min']})"
      ],
      "execution_count": 159,
      "outputs": [
        {
          "output_type": "execute_result",
          "data": {
            "text/html": [
              "<div>\n",
              "<style scoped>\n",
              "    .dataframe tbody tr th:only-of-type {\n",
              "        vertical-align: middle;\n",
              "    }\n",
              "\n",
              "    .dataframe tbody tr th {\n",
              "        vertical-align: top;\n",
              "    }\n",
              "\n",
              "    .dataframe thead th {\n",
              "        text-align: right;\n",
              "    }\n",
              "</style>\n",
              "<table border=\"1\" class=\"dataframe\">\n",
              "  <thead>\n",
              "    <tr style=\"text-align: right;\">\n",
              "      <th></th>\n",
              "      <th>mpg</th>\n",
              "      <th>weight</th>\n",
              "    </tr>\n",
              "  </thead>\n",
              "  <tbody>\n",
              "    <tr>\n",
              "      <th>max</th>\n",
              "      <td>46.600000</td>\n",
              "      <td>5140.0</td>\n",
              "    </tr>\n",
              "    <tr>\n",
              "      <th>mean</th>\n",
              "      <td>23.514573</td>\n",
              "      <td>NaN</td>\n",
              "    </tr>\n",
              "    <tr>\n",
              "      <th>min</th>\n",
              "      <td>9.000000</td>\n",
              "      <td>1613.0</td>\n",
              "    </tr>\n",
              "  </tbody>\n",
              "</table>\n",
              "</div>"
            ],
            "text/plain": [
              "            mpg  weight\n",
              "max   46.600000  5140.0\n",
              "mean  23.514573     NaN\n",
              "min    9.000000  1613.0"
            ]
          },
          "metadata": {
            "tags": []
          },
          "execution_count": 159
        }
      ]
    },
    {
      "cell_type": "markdown",
      "metadata": {
        "id": "pFc-6S8W43Fb"
      },
      "source": [
        "# Concatenation"
      ]
    },
    {
      "cell_type": "code",
      "metadata": {
        "id": "OMOmSm3j3zGf"
      },
      "source": [
        "data_one = {'A' : ['A0', 'A1', 'A2', 'A3'], 'B' : ['B0', 'B1', 'B2', 'B3'] }\n",
        "data_two = {'C' : ['C0', 'C1', 'C2', 'C3'], 'D' : ['D0', 'D1', 'D2', 'D3'] }\n",
        "\n",
        "one = pd.DataFrame(data_one)\n",
        "two = pd.DataFrame(data_two)"
      ],
      "execution_count": 160,
      "outputs": []
    },
    {
      "cell_type": "code",
      "metadata": {
        "colab": {
          "base_uri": "https://localhost:8080/",
          "height": 0
        },
        "id": "qGwEH1Cn56xI",
        "outputId": "b0e1450e-fd44-458c-808c-ddf0db5ac31d"
      },
      "source": [
        "pd.concat([one, two], axis = 1)"
      ],
      "execution_count": 161,
      "outputs": [
        {
          "output_type": "execute_result",
          "data": {
            "text/html": [
              "<div>\n",
              "<style scoped>\n",
              "    .dataframe tbody tr th:only-of-type {\n",
              "        vertical-align: middle;\n",
              "    }\n",
              "\n",
              "    .dataframe tbody tr th {\n",
              "        vertical-align: top;\n",
              "    }\n",
              "\n",
              "    .dataframe thead th {\n",
              "        text-align: right;\n",
              "    }\n",
              "</style>\n",
              "<table border=\"1\" class=\"dataframe\">\n",
              "  <thead>\n",
              "    <tr style=\"text-align: right;\">\n",
              "      <th></th>\n",
              "      <th>A</th>\n",
              "      <th>B</th>\n",
              "      <th>C</th>\n",
              "      <th>D</th>\n",
              "    </tr>\n",
              "  </thead>\n",
              "  <tbody>\n",
              "    <tr>\n",
              "      <th>0</th>\n",
              "      <td>A0</td>\n",
              "      <td>B0</td>\n",
              "      <td>C0</td>\n",
              "      <td>D0</td>\n",
              "    </tr>\n",
              "    <tr>\n",
              "      <th>1</th>\n",
              "      <td>A1</td>\n",
              "      <td>B1</td>\n",
              "      <td>C1</td>\n",
              "      <td>D1</td>\n",
              "    </tr>\n",
              "    <tr>\n",
              "      <th>2</th>\n",
              "      <td>A2</td>\n",
              "      <td>B2</td>\n",
              "      <td>C2</td>\n",
              "      <td>D2</td>\n",
              "    </tr>\n",
              "    <tr>\n",
              "      <th>3</th>\n",
              "      <td>A3</td>\n",
              "      <td>B3</td>\n",
              "      <td>C3</td>\n",
              "      <td>D3</td>\n",
              "    </tr>\n",
              "  </tbody>\n",
              "</table>\n",
              "</div>"
            ],
            "text/plain": [
              "    A   B   C   D\n",
              "0  A0  B0  C0  D0\n",
              "1  A1  B1  C1  D1\n",
              "2  A2  B2  C2  D2\n",
              "3  A3  B3  C3  D3"
            ]
          },
          "metadata": {
            "tags": []
          },
          "execution_count": 161
        }
      ]
    },
    {
      "cell_type": "code",
      "metadata": {
        "colab": {
          "base_uri": "https://localhost:8080/",
          "height": 0
        },
        "id": "cj7i9QaY6mqS",
        "outputId": "2f17a37b-05ec-42de-d325-289801115aad"
      },
      "source": [
        "two.columns = one.columns\n",
        "pd.concat([one, two], axis = 0)"
      ],
      "execution_count": 162,
      "outputs": [
        {
          "output_type": "execute_result",
          "data": {
            "text/html": [
              "<div>\n",
              "<style scoped>\n",
              "    .dataframe tbody tr th:only-of-type {\n",
              "        vertical-align: middle;\n",
              "    }\n",
              "\n",
              "    .dataframe tbody tr th {\n",
              "        vertical-align: top;\n",
              "    }\n",
              "\n",
              "    .dataframe thead th {\n",
              "        text-align: right;\n",
              "    }\n",
              "</style>\n",
              "<table border=\"1\" class=\"dataframe\">\n",
              "  <thead>\n",
              "    <tr style=\"text-align: right;\">\n",
              "      <th></th>\n",
              "      <th>A</th>\n",
              "      <th>B</th>\n",
              "    </tr>\n",
              "  </thead>\n",
              "  <tbody>\n",
              "    <tr>\n",
              "      <th>0</th>\n",
              "      <td>A0</td>\n",
              "      <td>B0</td>\n",
              "    </tr>\n",
              "    <tr>\n",
              "      <th>1</th>\n",
              "      <td>A1</td>\n",
              "      <td>B1</td>\n",
              "    </tr>\n",
              "    <tr>\n",
              "      <th>2</th>\n",
              "      <td>A2</td>\n",
              "      <td>B2</td>\n",
              "    </tr>\n",
              "    <tr>\n",
              "      <th>3</th>\n",
              "      <td>A3</td>\n",
              "      <td>B3</td>\n",
              "    </tr>\n",
              "    <tr>\n",
              "      <th>0</th>\n",
              "      <td>C0</td>\n",
              "      <td>D0</td>\n",
              "    </tr>\n",
              "    <tr>\n",
              "      <th>1</th>\n",
              "      <td>C1</td>\n",
              "      <td>D1</td>\n",
              "    </tr>\n",
              "    <tr>\n",
              "      <th>2</th>\n",
              "      <td>C2</td>\n",
              "      <td>D2</td>\n",
              "    </tr>\n",
              "    <tr>\n",
              "      <th>3</th>\n",
              "      <td>C3</td>\n",
              "      <td>D3</td>\n",
              "    </tr>\n",
              "  </tbody>\n",
              "</table>\n",
              "</div>"
            ],
            "text/plain": [
              "    A   B\n",
              "0  A0  B0\n",
              "1  A1  B1\n",
              "2  A2  B2\n",
              "3  A3  B3\n",
              "0  C0  D0\n",
              "1  C1  D1\n",
              "2  C2  D2\n",
              "3  C3  D3"
            ]
          },
          "metadata": {
            "tags": []
          },
          "execution_count": 162
        }
      ]
    },
    {
      "cell_type": "markdown",
      "metadata": {
        "id": "7uFL0HHd_nBg"
      },
      "source": [
        "# Merge"
      ]
    },
    {
      "cell_type": "code",
      "metadata": {
        "id": "_zu39ciH7r54"
      },
      "source": [
        "registrations = pd.DataFrame({'reg_id':[1,2,3,4],'name':['Andrew','Bobo','Claire','David']})\n",
        "logins = pd.DataFrame({'log_id':[1,2,3,4],'name':['Xavier','Andrew','Yolanda','Bobo']})"
      ],
      "execution_count": 163,
      "outputs": []
    },
    {
      "cell_type": "code",
      "metadata": {
        "colab": {
          "base_uri": "https://localhost:8080/",
          "height": 172
        },
        "id": "EIZuxTQHDLDb",
        "outputId": "afe32532-b3e0-4188-dd0b-3578b7ad62cf"
      },
      "source": [
        "registrations"
      ],
      "execution_count": 164,
      "outputs": [
        {
          "output_type": "execute_result",
          "data": {
            "text/html": [
              "<div>\n",
              "<style scoped>\n",
              "    .dataframe tbody tr th:only-of-type {\n",
              "        vertical-align: middle;\n",
              "    }\n",
              "\n",
              "    .dataframe tbody tr th {\n",
              "        vertical-align: top;\n",
              "    }\n",
              "\n",
              "    .dataframe thead th {\n",
              "        text-align: right;\n",
              "    }\n",
              "</style>\n",
              "<table border=\"1\" class=\"dataframe\">\n",
              "  <thead>\n",
              "    <tr style=\"text-align: right;\">\n",
              "      <th></th>\n",
              "      <th>reg_id</th>\n",
              "      <th>name</th>\n",
              "    </tr>\n",
              "  </thead>\n",
              "  <tbody>\n",
              "    <tr>\n",
              "      <th>0</th>\n",
              "      <td>1</td>\n",
              "      <td>Andrew</td>\n",
              "    </tr>\n",
              "    <tr>\n",
              "      <th>1</th>\n",
              "      <td>2</td>\n",
              "      <td>Bobo</td>\n",
              "    </tr>\n",
              "    <tr>\n",
              "      <th>2</th>\n",
              "      <td>3</td>\n",
              "      <td>Claire</td>\n",
              "    </tr>\n",
              "    <tr>\n",
              "      <th>3</th>\n",
              "      <td>4</td>\n",
              "      <td>David</td>\n",
              "    </tr>\n",
              "  </tbody>\n",
              "</table>\n",
              "</div>"
            ],
            "text/plain": [
              "   reg_id    name\n",
              "0       1  Andrew\n",
              "1       2    Bobo\n",
              "2       3  Claire\n",
              "3       4   David"
            ]
          },
          "metadata": {
            "tags": []
          },
          "execution_count": 164
        }
      ]
    },
    {
      "cell_type": "code",
      "metadata": {
        "colab": {
          "base_uri": "https://localhost:8080/",
          "height": 172
        },
        "id": "36_yTSGEDP1f",
        "outputId": "69cfa20d-73d4-4514-f840-695d05db84c6"
      },
      "source": [
        "logins"
      ],
      "execution_count": 165,
      "outputs": [
        {
          "output_type": "execute_result",
          "data": {
            "text/html": [
              "<div>\n",
              "<style scoped>\n",
              "    .dataframe tbody tr th:only-of-type {\n",
              "        vertical-align: middle;\n",
              "    }\n",
              "\n",
              "    .dataframe tbody tr th {\n",
              "        vertical-align: top;\n",
              "    }\n",
              "\n",
              "    .dataframe thead th {\n",
              "        text-align: right;\n",
              "    }\n",
              "</style>\n",
              "<table border=\"1\" class=\"dataframe\">\n",
              "  <thead>\n",
              "    <tr style=\"text-align: right;\">\n",
              "      <th></th>\n",
              "      <th>log_id</th>\n",
              "      <th>name</th>\n",
              "    </tr>\n",
              "  </thead>\n",
              "  <tbody>\n",
              "    <tr>\n",
              "      <th>0</th>\n",
              "      <td>1</td>\n",
              "      <td>Xavier</td>\n",
              "    </tr>\n",
              "    <tr>\n",
              "      <th>1</th>\n",
              "      <td>2</td>\n",
              "      <td>Andrew</td>\n",
              "    </tr>\n",
              "    <tr>\n",
              "      <th>2</th>\n",
              "      <td>3</td>\n",
              "      <td>Yolanda</td>\n",
              "    </tr>\n",
              "    <tr>\n",
              "      <th>3</th>\n",
              "      <td>4</td>\n",
              "      <td>Bobo</td>\n",
              "    </tr>\n",
              "  </tbody>\n",
              "</table>\n",
              "</div>"
            ],
            "text/plain": [
              "   log_id     name\n",
              "0       1   Xavier\n",
              "1       2   Andrew\n",
              "2       3  Yolanda\n",
              "3       4     Bobo"
            ]
          },
          "metadata": {
            "tags": []
          },
          "execution_count": 165
        }
      ]
    },
    {
      "cell_type": "code",
      "metadata": {
        "colab": {
          "base_uri": "https://localhost:8080/",
          "height": 110
        },
        "id": "MWh4ko-7DQcC",
        "outputId": "c01291b1-3167-4490-d281-4e14e43dc054"
      },
      "source": [
        "pd.merge(registrations, logins, how = 'inner', on = 'name')"
      ],
      "execution_count": 166,
      "outputs": [
        {
          "output_type": "execute_result",
          "data": {
            "text/html": [
              "<div>\n",
              "<style scoped>\n",
              "    .dataframe tbody tr th:only-of-type {\n",
              "        vertical-align: middle;\n",
              "    }\n",
              "\n",
              "    .dataframe tbody tr th {\n",
              "        vertical-align: top;\n",
              "    }\n",
              "\n",
              "    .dataframe thead th {\n",
              "        text-align: right;\n",
              "    }\n",
              "</style>\n",
              "<table border=\"1\" class=\"dataframe\">\n",
              "  <thead>\n",
              "    <tr style=\"text-align: right;\">\n",
              "      <th></th>\n",
              "      <th>reg_id</th>\n",
              "      <th>name</th>\n",
              "      <th>log_id</th>\n",
              "    </tr>\n",
              "  </thead>\n",
              "  <tbody>\n",
              "    <tr>\n",
              "      <th>0</th>\n",
              "      <td>1</td>\n",
              "      <td>Andrew</td>\n",
              "      <td>2</td>\n",
              "    </tr>\n",
              "    <tr>\n",
              "      <th>1</th>\n",
              "      <td>2</td>\n",
              "      <td>Bobo</td>\n",
              "      <td>4</td>\n",
              "    </tr>\n",
              "  </tbody>\n",
              "</table>\n",
              "</div>"
            ],
            "text/plain": [
              "   reg_id    name  log_id\n",
              "0       1  Andrew       2\n",
              "1       2    Bobo       4"
            ]
          },
          "metadata": {
            "tags": []
          },
          "execution_count": 166
        }
      ]
    },
    {
      "cell_type": "code",
      "metadata": {
        "colab": {
          "base_uri": "https://localhost:8080/",
          "height": 233
        },
        "id": "MeFVNFPVDlOr",
        "outputId": "2efdb4c3-bf8d-487b-8e54-8a361e51cbe8"
      },
      "source": [
        "pd.merge(registrations, logins, how = 'outer', on = 'name')"
      ],
      "execution_count": 167,
      "outputs": [
        {
          "output_type": "execute_result",
          "data": {
            "text/html": [
              "<div>\n",
              "<style scoped>\n",
              "    .dataframe tbody tr th:only-of-type {\n",
              "        vertical-align: middle;\n",
              "    }\n",
              "\n",
              "    .dataframe tbody tr th {\n",
              "        vertical-align: top;\n",
              "    }\n",
              "\n",
              "    .dataframe thead th {\n",
              "        text-align: right;\n",
              "    }\n",
              "</style>\n",
              "<table border=\"1\" class=\"dataframe\">\n",
              "  <thead>\n",
              "    <tr style=\"text-align: right;\">\n",
              "      <th></th>\n",
              "      <th>reg_id</th>\n",
              "      <th>name</th>\n",
              "      <th>log_id</th>\n",
              "    </tr>\n",
              "  </thead>\n",
              "  <tbody>\n",
              "    <tr>\n",
              "      <th>0</th>\n",
              "      <td>1.0</td>\n",
              "      <td>Andrew</td>\n",
              "      <td>2.0</td>\n",
              "    </tr>\n",
              "    <tr>\n",
              "      <th>1</th>\n",
              "      <td>2.0</td>\n",
              "      <td>Bobo</td>\n",
              "      <td>4.0</td>\n",
              "    </tr>\n",
              "    <tr>\n",
              "      <th>2</th>\n",
              "      <td>3.0</td>\n",
              "      <td>Claire</td>\n",
              "      <td>NaN</td>\n",
              "    </tr>\n",
              "    <tr>\n",
              "      <th>3</th>\n",
              "      <td>4.0</td>\n",
              "      <td>David</td>\n",
              "      <td>NaN</td>\n",
              "    </tr>\n",
              "    <tr>\n",
              "      <th>4</th>\n",
              "      <td>NaN</td>\n",
              "      <td>Xavier</td>\n",
              "      <td>1.0</td>\n",
              "    </tr>\n",
              "    <tr>\n",
              "      <th>5</th>\n",
              "      <td>NaN</td>\n",
              "      <td>Yolanda</td>\n",
              "      <td>3.0</td>\n",
              "    </tr>\n",
              "  </tbody>\n",
              "</table>\n",
              "</div>"
            ],
            "text/plain": [
              "   reg_id     name  log_id\n",
              "0     1.0   Andrew     2.0\n",
              "1     2.0     Bobo     4.0\n",
              "2     3.0   Claire     NaN\n",
              "3     4.0    David     NaN\n",
              "4     NaN   Xavier     1.0\n",
              "5     NaN  Yolanda     3.0"
            ]
          },
          "metadata": {
            "tags": []
          },
          "execution_count": 167
        }
      ]
    },
    {
      "cell_type": "code",
      "metadata": {
        "colab": {
          "base_uri": "https://localhost:8080/",
          "height": 172
        },
        "id": "4mr4wBwBDp4o",
        "outputId": "4537cfec-bb72-44b9-aba2-f2e400689391"
      },
      "source": [
        "pd.merge(registrations, logins, how = 'left', on = 'name')"
      ],
      "execution_count": 168,
      "outputs": [
        {
          "output_type": "execute_result",
          "data": {
            "text/html": [
              "<div>\n",
              "<style scoped>\n",
              "    .dataframe tbody tr th:only-of-type {\n",
              "        vertical-align: middle;\n",
              "    }\n",
              "\n",
              "    .dataframe tbody tr th {\n",
              "        vertical-align: top;\n",
              "    }\n",
              "\n",
              "    .dataframe thead th {\n",
              "        text-align: right;\n",
              "    }\n",
              "</style>\n",
              "<table border=\"1\" class=\"dataframe\">\n",
              "  <thead>\n",
              "    <tr style=\"text-align: right;\">\n",
              "      <th></th>\n",
              "      <th>reg_id</th>\n",
              "      <th>name</th>\n",
              "      <th>log_id</th>\n",
              "    </tr>\n",
              "  </thead>\n",
              "  <tbody>\n",
              "    <tr>\n",
              "      <th>0</th>\n",
              "      <td>1</td>\n",
              "      <td>Andrew</td>\n",
              "      <td>2.0</td>\n",
              "    </tr>\n",
              "    <tr>\n",
              "      <th>1</th>\n",
              "      <td>2</td>\n",
              "      <td>Bobo</td>\n",
              "      <td>4.0</td>\n",
              "    </tr>\n",
              "    <tr>\n",
              "      <th>2</th>\n",
              "      <td>3</td>\n",
              "      <td>Claire</td>\n",
              "      <td>NaN</td>\n",
              "    </tr>\n",
              "    <tr>\n",
              "      <th>3</th>\n",
              "      <td>4</td>\n",
              "      <td>David</td>\n",
              "      <td>NaN</td>\n",
              "    </tr>\n",
              "  </tbody>\n",
              "</table>\n",
              "</div>"
            ],
            "text/plain": [
              "   reg_id    name  log_id\n",
              "0       1  Andrew     2.0\n",
              "1       2    Bobo     4.0\n",
              "2       3  Claire     NaN\n",
              "3       4   David     NaN"
            ]
          },
          "metadata": {
            "tags": []
          },
          "execution_count": 168
        }
      ]
    },
    {
      "cell_type": "code",
      "metadata": {
        "colab": {
          "base_uri": "https://localhost:8080/",
          "height": 172
        },
        "id": "f-bC8SmRDtuT",
        "outputId": "f4113461-da11-493f-a74f-d2a99b3fc6a6"
      },
      "source": [
        "pd.merge(registrations, logins, how = 'right', on = 'name')"
      ],
      "execution_count": 169,
      "outputs": [
        {
          "output_type": "execute_result",
          "data": {
            "text/html": [
              "<div>\n",
              "<style scoped>\n",
              "    .dataframe tbody tr th:only-of-type {\n",
              "        vertical-align: middle;\n",
              "    }\n",
              "\n",
              "    .dataframe tbody tr th {\n",
              "        vertical-align: top;\n",
              "    }\n",
              "\n",
              "    .dataframe thead th {\n",
              "        text-align: right;\n",
              "    }\n",
              "</style>\n",
              "<table border=\"1\" class=\"dataframe\">\n",
              "  <thead>\n",
              "    <tr style=\"text-align: right;\">\n",
              "      <th></th>\n",
              "      <th>reg_id</th>\n",
              "      <th>name</th>\n",
              "      <th>log_id</th>\n",
              "    </tr>\n",
              "  </thead>\n",
              "  <tbody>\n",
              "    <tr>\n",
              "      <th>0</th>\n",
              "      <td>NaN</td>\n",
              "      <td>Xavier</td>\n",
              "      <td>1</td>\n",
              "    </tr>\n",
              "    <tr>\n",
              "      <th>1</th>\n",
              "      <td>1.0</td>\n",
              "      <td>Andrew</td>\n",
              "      <td>2</td>\n",
              "    </tr>\n",
              "    <tr>\n",
              "      <th>2</th>\n",
              "      <td>NaN</td>\n",
              "      <td>Yolanda</td>\n",
              "      <td>3</td>\n",
              "    </tr>\n",
              "    <tr>\n",
              "      <th>3</th>\n",
              "      <td>2.0</td>\n",
              "      <td>Bobo</td>\n",
              "      <td>4</td>\n",
              "    </tr>\n",
              "  </tbody>\n",
              "</table>\n",
              "</div>"
            ],
            "text/plain": [
              "   reg_id     name  log_id\n",
              "0     NaN   Xavier       1\n",
              "1     1.0   Andrew       2\n",
              "2     NaN  Yolanda       3\n",
              "3     2.0     Bobo       4"
            ]
          },
          "metadata": {
            "tags": []
          },
          "execution_count": 169
        }
      ]
    },
    {
      "cell_type": "code",
      "metadata": {
        "id": "ah7aQCnZD9JI"
      },
      "source": [
        "registrations.set_index(keys = 'name', inplace = True)"
      ],
      "execution_count": 170,
      "outputs": []
    },
    {
      "cell_type": "code",
      "metadata": {
        "colab": {
          "base_uri": "https://localhost:8080/",
          "height": 202
        },
        "id": "rHEtH3x8F70h",
        "outputId": "4461fc3c-01de-4f9b-fd43-5aa85015fb7b"
      },
      "source": [
        "registrations"
      ],
      "execution_count": 171,
      "outputs": [
        {
          "output_type": "execute_result",
          "data": {
            "text/html": [
              "<div>\n",
              "<style scoped>\n",
              "    .dataframe tbody tr th:only-of-type {\n",
              "        vertical-align: middle;\n",
              "    }\n",
              "\n",
              "    .dataframe tbody tr th {\n",
              "        vertical-align: top;\n",
              "    }\n",
              "\n",
              "    .dataframe thead th {\n",
              "        text-align: right;\n",
              "    }\n",
              "</style>\n",
              "<table border=\"1\" class=\"dataframe\">\n",
              "  <thead>\n",
              "    <tr style=\"text-align: right;\">\n",
              "      <th></th>\n",
              "      <th>reg_id</th>\n",
              "    </tr>\n",
              "    <tr>\n",
              "      <th>name</th>\n",
              "      <th></th>\n",
              "    </tr>\n",
              "  </thead>\n",
              "  <tbody>\n",
              "    <tr>\n",
              "      <th>Andrew</th>\n",
              "      <td>1</td>\n",
              "    </tr>\n",
              "    <tr>\n",
              "      <th>Bobo</th>\n",
              "      <td>2</td>\n",
              "    </tr>\n",
              "    <tr>\n",
              "      <th>Claire</th>\n",
              "      <td>3</td>\n",
              "    </tr>\n",
              "    <tr>\n",
              "      <th>David</th>\n",
              "      <td>4</td>\n",
              "    </tr>\n",
              "  </tbody>\n",
              "</table>\n",
              "</div>"
            ],
            "text/plain": [
              "        reg_id\n",
              "name          \n",
              "Andrew       1\n",
              "Bobo         2\n",
              "Claire       3\n",
              "David        4"
            ]
          },
          "metadata": {
            "tags": []
          },
          "execution_count": 171
        }
      ]
    },
    {
      "cell_type": "code",
      "metadata": {
        "colab": {
          "base_uri": "https://localhost:8080/",
          "height": 110
        },
        "id": "OZRN3sNoF8ty",
        "outputId": "4650c8c6-9978-4f78-fd61-df58970f8a81"
      },
      "source": [
        "pd.merge(registrations, logins, left_index = True, right_on = 'name')"
      ],
      "execution_count": 172,
      "outputs": [
        {
          "output_type": "execute_result",
          "data": {
            "text/html": [
              "<div>\n",
              "<style scoped>\n",
              "    .dataframe tbody tr th:only-of-type {\n",
              "        vertical-align: middle;\n",
              "    }\n",
              "\n",
              "    .dataframe tbody tr th {\n",
              "        vertical-align: top;\n",
              "    }\n",
              "\n",
              "    .dataframe thead th {\n",
              "        text-align: right;\n",
              "    }\n",
              "</style>\n",
              "<table border=\"1\" class=\"dataframe\">\n",
              "  <thead>\n",
              "    <tr style=\"text-align: right;\">\n",
              "      <th></th>\n",
              "      <th>reg_id</th>\n",
              "      <th>log_id</th>\n",
              "      <th>name</th>\n",
              "    </tr>\n",
              "  </thead>\n",
              "  <tbody>\n",
              "    <tr>\n",
              "      <th>1</th>\n",
              "      <td>1</td>\n",
              "      <td>2</td>\n",
              "      <td>Andrew</td>\n",
              "    </tr>\n",
              "    <tr>\n",
              "      <th>3</th>\n",
              "      <td>2</td>\n",
              "      <td>4</td>\n",
              "      <td>Bobo</td>\n",
              "    </tr>\n",
              "  </tbody>\n",
              "</table>\n",
              "</div>"
            ],
            "text/plain": [
              "   reg_id  log_id    name\n",
              "1       1       2  Andrew\n",
              "3       2       4    Bobo"
            ]
          },
          "metadata": {
            "tags": []
          },
          "execution_count": 172
        }
      ]
    },
    {
      "cell_type": "markdown",
      "metadata": {
        "id": "YqnWeae5ZMtL"
      },
      "source": [
        "# Pandas\n"
      ]
    },
    {
      "cell_type": "markdown",
      "metadata": {
        "id": "mw53Gaa3gpy-"
      },
      "source": [
        "## Text Methods"
      ]
    },
    {
      "cell_type": "code",
      "metadata": {
        "id": "eXxozIoXGDFd"
      },
      "source": [
        "names = pd.Series(['andrew', 'bobo', 'claire', 'david', '5'])"
      ],
      "execution_count": 173,
      "outputs": []
    },
    {
      "cell_type": "code",
      "metadata": {
        "colab": {
          "base_uri": "https://localhost:8080/"
        },
        "id": "9y3WLZLecawy",
        "outputId": "3a47bbc3-efe8-43e1-b454-a8c5a3b7b9da"
      },
      "source": [
        "names"
      ],
      "execution_count": 174,
      "outputs": [
        {
          "output_type": "execute_result",
          "data": {
            "text/plain": [
              "0    andrew\n",
              "1      bobo\n",
              "2    claire\n",
              "3     david\n",
              "4         5\n",
              "dtype: object"
            ]
          },
          "metadata": {
            "tags": []
          },
          "execution_count": 174
        }
      ]
    },
    {
      "cell_type": "code",
      "metadata": {
        "colab": {
          "base_uri": "https://localhost:8080/"
        },
        "id": "3Kt98rrucbZ0",
        "outputId": "d5c9e236-74a6-4512-d9b9-69a3c1b5aa02"
      },
      "source": [
        "names.str.upper()"
      ],
      "execution_count": 175,
      "outputs": [
        {
          "output_type": "execute_result",
          "data": {
            "text/plain": [
              "0    ANDREW\n",
              "1      BOBO\n",
              "2    CLAIRE\n",
              "3     DAVID\n",
              "4         5\n",
              "dtype: object"
            ]
          },
          "metadata": {
            "tags": []
          },
          "execution_count": 175
        }
      ]
    },
    {
      "cell_type": "code",
      "metadata": {
        "colab": {
          "base_uri": "https://localhost:8080/"
        },
        "id": "dHi8O0Jqc2xf",
        "outputId": "54cb5bc3-51f9-45fa-a357-4965ba2d16dd"
      },
      "source": [
        "names.str.isdigit()"
      ],
      "execution_count": 177,
      "outputs": [
        {
          "output_type": "execute_result",
          "data": {
            "text/plain": [
              "0    False\n",
              "1    False\n",
              "2    False\n",
              "3    False\n",
              "4     True\n",
              "dtype: bool"
            ]
          },
          "metadata": {
            "tags": []
          },
          "execution_count": 177
        }
      ]
    },
    {
      "cell_type": "code",
      "metadata": {
        "id": "pjg9cJ9oc4rF"
      },
      "source": [
        "tech_finance = ['GOOG,APPL,AMZN','JPM,BAC,GS']"
      ],
      "execution_count": 178,
      "outputs": []
    },
    {
      "cell_type": "code",
      "metadata": {
        "id": "45WOGCG7dbp7"
      },
      "source": [
        "tickers = pd.Series(tech_finance)"
      ],
      "execution_count": 179,
      "outputs": []
    },
    {
      "cell_type": "code",
      "metadata": {
        "colab": {
          "base_uri": "https://localhost:8080/"
        },
        "id": "J_n1Jo3zdeVC",
        "outputId": "d3499c49-f568-48bc-b410-15806afca2e5"
      },
      "source": [
        "tickers"
      ],
      "execution_count": 180,
      "outputs": [
        {
          "output_type": "execute_result",
          "data": {
            "text/plain": [
              "0    GOOG,APPL,AMZN\n",
              "1        JPM,BAC,GS\n",
              "dtype: object"
            ]
          },
          "metadata": {
            "tags": []
          },
          "execution_count": 180
        }
      ]
    },
    {
      "cell_type": "code",
      "metadata": {
        "colab": {
          "base_uri": "https://localhost:8080/"
        },
        "id": "yLbsT4t2dexs",
        "outputId": "2a1117ca-480e-4bcc-e470-d181a186c8a9"
      },
      "source": [
        "tickers.str.split(',')"
      ],
      "execution_count": 181,
      "outputs": [
        {
          "output_type": "execute_result",
          "data": {
            "text/plain": [
              "0    [GOOG, APPL, AMZN]\n",
              "1        [JPM, BAC, GS]\n",
              "dtype: object"
            ]
          },
          "metadata": {
            "tags": []
          },
          "execution_count": 181
        }
      ]
    },
    {
      "cell_type": "code",
      "metadata": {
        "colab": {
          "base_uri": "https://localhost:8080/"
        },
        "id": "YIh09jQjd1-Z",
        "outputId": "40113515-12d7-47b1-f86a-092921f0400a"
      },
      "source": [
        "tickers.str.split(',').str[0]"
      ],
      "execution_count": 182,
      "outputs": [
        {
          "output_type": "execute_result",
          "data": {
            "text/plain": [
              "0    GOOG\n",
              "1     JPM\n",
              "dtype: object"
            ]
          },
          "metadata": {
            "tags": []
          },
          "execution_count": 182
        }
      ]
    },
    {
      "cell_type": "code",
      "metadata": {
        "colab": {
          "base_uri": "https://localhost:8080/",
          "height": 110
        },
        "id": "K2k8jLn5d5sC",
        "outputId": "97a39ca5-db3b-49a9-eb42-d94d2e10aaad"
      },
      "source": [
        "tickers.str.split(',', expand = True)"
      ],
      "execution_count": 183,
      "outputs": [
        {
          "output_type": "execute_result",
          "data": {
            "text/html": [
              "<div>\n",
              "<style scoped>\n",
              "    .dataframe tbody tr th:only-of-type {\n",
              "        vertical-align: middle;\n",
              "    }\n",
              "\n",
              "    .dataframe tbody tr th {\n",
              "        vertical-align: top;\n",
              "    }\n",
              "\n",
              "    .dataframe thead th {\n",
              "        text-align: right;\n",
              "    }\n",
              "</style>\n",
              "<table border=\"1\" class=\"dataframe\">\n",
              "  <thead>\n",
              "    <tr style=\"text-align: right;\">\n",
              "      <th></th>\n",
              "      <th>0</th>\n",
              "      <th>1</th>\n",
              "      <th>2</th>\n",
              "    </tr>\n",
              "  </thead>\n",
              "  <tbody>\n",
              "    <tr>\n",
              "      <th>0</th>\n",
              "      <td>GOOG</td>\n",
              "      <td>APPL</td>\n",
              "      <td>AMZN</td>\n",
              "    </tr>\n",
              "    <tr>\n",
              "      <th>1</th>\n",
              "      <td>JPM</td>\n",
              "      <td>BAC</td>\n",
              "      <td>GS</td>\n",
              "    </tr>\n",
              "  </tbody>\n",
              "</table>\n",
              "</div>"
            ],
            "text/plain": [
              "      0     1     2\n",
              "0  GOOG  APPL  AMZN\n",
              "1   JPM   BAC    GS"
            ]
          },
          "metadata": {
            "tags": []
          },
          "execution_count": 183
        }
      ]
    },
    {
      "cell_type": "code",
      "metadata": {
        "id": "ZVUJNXEReT9f"
      },
      "source": [
        "messy_names = pd.Series([\"andrew  \",\"bo;bo\",\"  claire  \"])"
      ],
      "execution_count": 184,
      "outputs": []
    },
    {
      "cell_type": "code",
      "metadata": {
        "colab": {
          "base_uri": "https://localhost:8080/"
        },
        "id": "vNGCL0KvepLd",
        "outputId": "e1479261-a01f-4fdf-80d1-c4ca2baeee5d"
      },
      "source": [
        "messy_names.str.replace(';','').str.replace(' ', '', -1)"
      ],
      "execution_count": 194,
      "outputs": [
        {
          "output_type": "execute_result",
          "data": {
            "text/plain": [
              "0    andrew\n",
              "1      bobo\n",
              "2    claire\n",
              "dtype: object"
            ]
          },
          "metadata": {
            "tags": []
          },
          "execution_count": 194
        }
      ]
    },
    {
      "cell_type": "code",
      "metadata": {
        "colab": {
          "base_uri": "https://localhost:8080/"
        },
        "id": "aXAqT6iEfPcM",
        "outputId": "75c6186f-a798-48a1-e587-f874e5af72b0"
      },
      "source": [
        "messy_names.str.strip().str.replace(';', '', -1)"
      ],
      "execution_count": 198,
      "outputs": [
        {
          "output_type": "execute_result",
          "data": {
            "text/plain": [
              "0    andrew\n",
              "1      bobo\n",
              "2    claire\n",
              "dtype: object"
            ]
          },
          "metadata": {
            "tags": []
          },
          "execution_count": 198
        }
      ]
    },
    {
      "cell_type": "code",
      "metadata": {
        "colab": {
          "base_uri": "https://localhost:8080/",
          "height": 35
        },
        "id": "EI1aZ80_fjj_",
        "outputId": "32734290-265c-478d-b753-2ff2c093cdf6"
      },
      "source": [
        "messy_names[0]"
      ],
      "execution_count": 197,
      "outputs": [
        {
          "output_type": "execute_result",
          "data": {
            "application/vnd.google.colaboratory.intrinsic+json": {
              "type": "string"
            },
            "text/plain": [
              "'andrew  '"
            ]
          },
          "metadata": {
            "tags": []
          },
          "execution_count": 197
        }
      ]
    },
    {
      "cell_type": "markdown",
      "metadata": {
        "id": "e3IU6NLugi3j"
      },
      "source": [
        "## Time and Date Methods"
      ]
    },
    {
      "cell_type": "code",
      "metadata": {
        "id": "n7wfLj3Ffptr"
      },
      "source": [
        "from datetime import datetime"
      ],
      "execution_count": 199,
      "outputs": []
    },
    {
      "cell_type": "code",
      "metadata": {
        "id": "Oedzq6c1hewi"
      },
      "source": [
        "year = 2017\n",
        "month = 6\n",
        "day = 4\n",
        "hour = 6\n",
        "min = 45\n",
        "sec = 12"
      ],
      "execution_count": 200,
      "outputs": []
    },
    {
      "cell_type": "code",
      "metadata": {
        "id": "k84p8ZXhhoog"
      },
      "source": [
        "mydatetime = datetime(year, month, day, hour, min, sec)"
      ],
      "execution_count": 201,
      "outputs": []
    },
    {
      "cell_type": "code",
      "metadata": {
        "colab": {
          "base_uri": "https://localhost:8080/"
        },
        "id": "sYNrMe-Nhvhj",
        "outputId": "278b0cee-bed2-4d7f-a6a7-1a8f865be019"
      },
      "source": [
        "mydatetime"
      ],
      "execution_count": 202,
      "outputs": [
        {
          "output_type": "execute_result",
          "data": {
            "text/plain": [
              "datetime.datetime(2017, 6, 4, 6, 45, 12)"
            ]
          },
          "metadata": {
            "tags": []
          },
          "execution_count": 202
        }
      ]
    },
    {
      "cell_type": "code",
      "metadata": {
        "id": "1tvSlgmrh1M3"
      },
      "source": [
        "myser = pd.Series(['Nov 3, 2000', '2000-01-01', None])"
      ],
      "execution_count": 206,
      "outputs": []
    },
    {
      "cell_type": "code",
      "metadata": {
        "id": "Bs_jvzQ6i5Q4"
      },
      "source": [
        "timeser = pd.to_datetime(myser)"
      ],
      "execution_count": 211,
      "outputs": []
    },
    {
      "cell_type": "code",
      "metadata": {
        "colab": {
          "base_uri": "https://localhost:8080/"
        },
        "id": "MDrF2r0wjKzH",
        "outputId": "6d618742-e46a-46dd-e7e6-445a345b65a3"
      },
      "source": [
        "timeser"
      ],
      "execution_count": 212,
      "outputs": [
        {
          "output_type": "execute_result",
          "data": {
            "text/plain": [
              "0   2000-11-03\n",
              "1   2000-01-01\n",
              "2          NaT\n",
              "dtype: datetime64[ns]"
            ]
          },
          "metadata": {
            "tags": []
          },
          "execution_count": 212
        }
      ]
    },
    {
      "cell_type": "code",
      "metadata": {
        "colab": {
          "base_uri": "https://localhost:8080/"
        },
        "id": "JXaRAS46jrIY",
        "outputId": "dbebc989-a779-4915-b380-ba725c6e189d"
      },
      "source": [
        "euro_date = '10-12-2006'\n",
        "pd.to_datetime(euro_date, dayfirst = True)"
      ],
      "execution_count": 213,
      "outputs": [
        {
          "output_type": "execute_result",
          "data": {
            "text/plain": [
              "Timestamp('2006-12-10 00:00:00')"
            ]
          },
          "metadata": {
            "tags": []
          },
          "execution_count": 213
        }
      ]
    },
    {
      "cell_type": "code",
      "metadata": {
        "colab": {
          "base_uri": "https://localhost:8080/"
        },
        "id": "ia5IX99UkxkB",
        "outputId": "c40619a8-e52b-4a94-dd50-91988a62f976"
      },
      "source": [
        "pd.to_datetime(euro_date)"
      ],
      "execution_count": 214,
      "outputs": [
        {
          "output_type": "execute_result",
          "data": {
            "text/plain": [
              "Timestamp('2006-10-12 00:00:00')"
            ]
          },
          "metadata": {
            "tags": []
          },
          "execution_count": 214
        }
      ]
    },
    {
      "cell_type": "code",
      "metadata": {
        "id": "g1Uocrc-k0Hs"
      },
      "source": [
        "style_date = '12--Dec--2000'"
      ],
      "execution_count": 217,
      "outputs": []
    },
    {
      "cell_type": "code",
      "metadata": {
        "colab": {
          "base_uri": "https://localhost:8080/"
        },
        "id": "MoTe725tlM_z",
        "outputId": "6f2d0f1a-224b-46d6-db7c-70b7547c38e2"
      },
      "source": [
        "pd.to_datetime(style_date, format = '%d--%b--%Y')"
      ],
      "execution_count": 218,
      "outputs": [
        {
          "output_type": "execute_result",
          "data": {
            "text/plain": [
              "Timestamp('2000-12-12 00:00:00')"
            ]
          },
          "metadata": {
            "tags": []
          },
          "execution_count": 218
        }
      ]
    },
    {
      "cell_type": "code",
      "metadata": {
        "id": "EMvIdixMlYAu"
      },
      "source": [
        "sales = pd.read_csv('RetailSales_BeerWineLiquor.csv')"
      ],
      "execution_count": 219,
      "outputs": []
    },
    {
      "cell_type": "code",
      "metadata": {
        "colab": {
          "base_uri": "https://localhost:8080/",
          "height": 202
        },
        "id": "QR2ORh3Il-PT",
        "outputId": "05f731b8-9189-4ff1-ac99-feb8bc7fccf0"
      },
      "source": [
        "sales.head()"
      ],
      "execution_count": 220,
      "outputs": [
        {
          "output_type": "execute_result",
          "data": {
            "text/html": [
              "<div>\n",
              "<style scoped>\n",
              "    .dataframe tbody tr th:only-of-type {\n",
              "        vertical-align: middle;\n",
              "    }\n",
              "\n",
              "    .dataframe tbody tr th {\n",
              "        vertical-align: top;\n",
              "    }\n",
              "\n",
              "    .dataframe thead th {\n",
              "        text-align: right;\n",
              "    }\n",
              "</style>\n",
              "<table border=\"1\" class=\"dataframe\">\n",
              "  <thead>\n",
              "    <tr style=\"text-align: right;\">\n",
              "      <th></th>\n",
              "      <th>DATE</th>\n",
              "      <th>MRTSSM4453USN</th>\n",
              "    </tr>\n",
              "  </thead>\n",
              "  <tbody>\n",
              "    <tr>\n",
              "      <th>0</th>\n",
              "      <td>1992-01-01</td>\n",
              "      <td>1509</td>\n",
              "    </tr>\n",
              "    <tr>\n",
              "      <th>1</th>\n",
              "      <td>1992-02-01</td>\n",
              "      <td>1541</td>\n",
              "    </tr>\n",
              "    <tr>\n",
              "      <th>2</th>\n",
              "      <td>1992-03-01</td>\n",
              "      <td>1597</td>\n",
              "    </tr>\n",
              "    <tr>\n",
              "      <th>3</th>\n",
              "      <td>1992-04-01</td>\n",
              "      <td>1675</td>\n",
              "    </tr>\n",
              "    <tr>\n",
              "      <th>4</th>\n",
              "      <td>1992-05-01</td>\n",
              "      <td>1822</td>\n",
              "    </tr>\n",
              "  </tbody>\n",
              "</table>\n",
              "</div>"
            ],
            "text/plain": [
              "         DATE  MRTSSM4453USN\n",
              "0  1992-01-01           1509\n",
              "1  1992-02-01           1541\n",
              "2  1992-03-01           1597\n",
              "3  1992-04-01           1675\n",
              "4  1992-05-01           1822"
            ]
          },
          "metadata": {
            "tags": []
          },
          "execution_count": 220
        }
      ]
    },
    {
      "cell_type": "code",
      "metadata": {
        "id": "I3i9sz-ml_mz"
      },
      "source": [
        "sales['DATE'] = pd.to_datetime(sales['DATE'])"
      ],
      "execution_count": 221,
      "outputs": []
    },
    {
      "cell_type": "code",
      "metadata": {
        "colab": {
          "base_uri": "https://localhost:8080/"
        },
        "id": "s9Ww7r02nIjO",
        "outputId": "39afcde5-6032-4451-8d65-0bd379923f6e"
      },
      "source": [
        "sales['DATE']"
      ],
      "execution_count": 222,
      "outputs": [
        {
          "output_type": "execute_result",
          "data": {
            "text/plain": [
              "0     1992-01-01\n",
              "1     1992-02-01\n",
              "2     1992-03-01\n",
              "3     1992-04-01\n",
              "4     1992-05-01\n",
              "         ...    \n",
              "335   2019-12-01\n",
              "336   2020-01-01\n",
              "337   2020-02-01\n",
              "338   2020-03-01\n",
              "339   2020-04-01\n",
              "Name: DATE, Length: 340, dtype: datetime64[ns]"
            ]
          },
          "metadata": {
            "tags": []
          },
          "execution_count": 222
        }
      ]
    },
    {
      "cell_type": "code",
      "metadata": {
        "id": "Dsj5GKVRnKK6"
      },
      "source": [
        "sales.set_index('DATE', inplace = True)"
      ],
      "execution_count": 223,
      "outputs": []
    },
    {
      "cell_type": "code",
      "metadata": {
        "colab": {
          "base_uri": "https://localhost:8080/",
          "height": 971
        },
        "id": "ycjXKOnyoWcn",
        "outputId": "6eaee436-16db-45e9-a3aa-00fdbf4a5b19"
      },
      "source": [
        "sales.resample(rule = 'A').mean()"
      ],
      "execution_count": 224,
      "outputs": [
        {
          "output_type": "execute_result",
          "data": {
            "text/html": [
              "<div>\n",
              "<style scoped>\n",
              "    .dataframe tbody tr th:only-of-type {\n",
              "        vertical-align: middle;\n",
              "    }\n",
              "\n",
              "    .dataframe tbody tr th {\n",
              "        vertical-align: top;\n",
              "    }\n",
              "\n",
              "    .dataframe thead th {\n",
              "        text-align: right;\n",
              "    }\n",
              "</style>\n",
              "<table border=\"1\" class=\"dataframe\">\n",
              "  <thead>\n",
              "    <tr style=\"text-align: right;\">\n",
              "      <th></th>\n",
              "      <th>MRTSSM4453USN</th>\n",
              "    </tr>\n",
              "    <tr>\n",
              "      <th>DATE</th>\n",
              "      <th></th>\n",
              "    </tr>\n",
              "  </thead>\n",
              "  <tbody>\n",
              "    <tr>\n",
              "      <th>1992-12-31</th>\n",
              "      <td>1807.250000</td>\n",
              "    </tr>\n",
              "    <tr>\n",
              "      <th>1993-12-31</th>\n",
              "      <td>1794.833333</td>\n",
              "    </tr>\n",
              "    <tr>\n",
              "      <th>1994-12-31</th>\n",
              "      <td>1841.750000</td>\n",
              "    </tr>\n",
              "    <tr>\n",
              "      <th>1995-12-31</th>\n",
              "      <td>1833.916667</td>\n",
              "    </tr>\n",
              "    <tr>\n",
              "      <th>1996-12-31</th>\n",
              "      <td>1929.750000</td>\n",
              "    </tr>\n",
              "    <tr>\n",
              "      <th>1997-12-31</th>\n",
              "      <td>2006.750000</td>\n",
              "    </tr>\n",
              "    <tr>\n",
              "      <th>1998-12-31</th>\n",
              "      <td>2115.166667</td>\n",
              "    </tr>\n",
              "    <tr>\n",
              "      <th>1999-12-31</th>\n",
              "      <td>2206.333333</td>\n",
              "    </tr>\n",
              "    <tr>\n",
              "      <th>2000-12-31</th>\n",
              "      <td>2375.583333</td>\n",
              "    </tr>\n",
              "    <tr>\n",
              "      <th>2001-12-31</th>\n",
              "      <td>2468.416667</td>\n",
              "    </tr>\n",
              "    <tr>\n",
              "      <th>2002-12-31</th>\n",
              "      <td>2491.166667</td>\n",
              "    </tr>\n",
              "    <tr>\n",
              "      <th>2003-12-31</th>\n",
              "      <td>2539.083333</td>\n",
              "    </tr>\n",
              "    <tr>\n",
              "      <th>2004-12-31</th>\n",
              "      <td>2682.416667</td>\n",
              "    </tr>\n",
              "    <tr>\n",
              "      <th>2005-12-31</th>\n",
              "      <td>2797.250000</td>\n",
              "    </tr>\n",
              "    <tr>\n",
              "      <th>2006-12-31</th>\n",
              "      <td>3001.333333</td>\n",
              "    </tr>\n",
              "    <tr>\n",
              "      <th>2007-12-31</th>\n",
              "      <td>3177.333333</td>\n",
              "    </tr>\n",
              "    <tr>\n",
              "      <th>2008-12-31</th>\n",
              "      <td>3292.000000</td>\n",
              "    </tr>\n",
              "    <tr>\n",
              "      <th>2009-12-31</th>\n",
              "      <td>3353.750000</td>\n",
              "    </tr>\n",
              "    <tr>\n",
              "      <th>2010-12-31</th>\n",
              "      <td>3450.083333</td>\n",
              "    </tr>\n",
              "    <tr>\n",
              "      <th>2011-12-31</th>\n",
              "      <td>3532.666667</td>\n",
              "    </tr>\n",
              "    <tr>\n",
              "      <th>2012-12-31</th>\n",
              "      <td>3697.083333</td>\n",
              "    </tr>\n",
              "    <tr>\n",
              "      <th>2013-12-31</th>\n",
              "      <td>3839.666667</td>\n",
              "    </tr>\n",
              "    <tr>\n",
              "      <th>2014-12-31</th>\n",
              "      <td>4023.833333</td>\n",
              "    </tr>\n",
              "    <tr>\n",
              "      <th>2015-12-31</th>\n",
              "      <td>4212.500000</td>\n",
              "    </tr>\n",
              "    <tr>\n",
              "      <th>2016-12-31</th>\n",
              "      <td>4434.416667</td>\n",
              "    </tr>\n",
              "    <tr>\n",
              "      <th>2017-12-31</th>\n",
              "      <td>4602.666667</td>\n",
              "    </tr>\n",
              "    <tr>\n",
              "      <th>2018-12-31</th>\n",
              "      <td>4830.666667</td>\n",
              "    </tr>\n",
              "    <tr>\n",
              "      <th>2019-12-31</th>\n",
              "      <td>4972.750000</td>\n",
              "    </tr>\n",
              "    <tr>\n",
              "      <th>2020-12-31</th>\n",
              "      <td>4922.500000</td>\n",
              "    </tr>\n",
              "  </tbody>\n",
              "</table>\n",
              "</div>"
            ],
            "text/plain": [
              "            MRTSSM4453USN\n",
              "DATE                     \n",
              "1992-12-31    1807.250000\n",
              "1993-12-31    1794.833333\n",
              "1994-12-31    1841.750000\n",
              "1995-12-31    1833.916667\n",
              "1996-12-31    1929.750000\n",
              "1997-12-31    2006.750000\n",
              "1998-12-31    2115.166667\n",
              "1999-12-31    2206.333333\n",
              "2000-12-31    2375.583333\n",
              "2001-12-31    2468.416667\n",
              "2002-12-31    2491.166667\n",
              "2003-12-31    2539.083333\n",
              "2004-12-31    2682.416667\n",
              "2005-12-31    2797.250000\n",
              "2006-12-31    3001.333333\n",
              "2007-12-31    3177.333333\n",
              "2008-12-31    3292.000000\n",
              "2009-12-31    3353.750000\n",
              "2010-12-31    3450.083333\n",
              "2011-12-31    3532.666667\n",
              "2012-12-31    3697.083333\n",
              "2013-12-31    3839.666667\n",
              "2014-12-31    4023.833333\n",
              "2015-12-31    4212.500000\n",
              "2016-12-31    4434.416667\n",
              "2017-12-31    4602.666667\n",
              "2018-12-31    4830.666667\n",
              "2019-12-31    4972.750000\n",
              "2020-12-31    4922.500000"
            ]
          },
          "metadata": {
            "tags": []
          },
          "execution_count": 224
        }
      ]
    },
    {
      "cell_type": "code",
      "metadata": {
        "id": "WDhRLK20qHTM"
      },
      "source": [
        ""
      ],
      "execution_count": null,
      "outputs": []
    }
  ]
}